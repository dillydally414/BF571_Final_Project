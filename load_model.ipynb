{
  "cells": [
    {
      "cell_type": "code",
      "execution_count": null,
      "id": "64b0d632-c4e1-431a-b2c0-16f8ce88b96c",
      "metadata": {
        "id": "64b0d632-c4e1-431a-b2c0-16f8ce88b96c"
      },
      "outputs": [],
      "source": [
        "import numpy as np # Imports Python numerical library\n",
        "import seaborn as sns # Imports Library for drawing heatmaps\n",
        "import matplotlib.pyplot as plt # Import Library for plotting graphs\n",
        "from scipy.optimize import linprog # Imports Linear Programming function\n",
        "from scipy.optimize import linprog_verbose_callback # Imports Linear Programming function\n",
        "from IPython.display import IFrame # Imports HTML element loader\n",
        "import time"
      ]
    },
    {
      "cell_type": "code",
      "source": [
        "!pip install cobra"
      ],
      "metadata": {
        "colab": {
          "base_uri": "https://localhost:8080/"
        },
        "id": "1JiWvmFDviIU",
        "outputId": "abb9abf9-132a-45b0-ef28-6152e0f134b5"
      },
      "id": "1JiWvmFDviIU",
      "execution_count": null,
      "outputs": [
        {
          "output_type": "stream",
          "name": "stdout",
          "text": [
            "Requirement already satisfied: cobra in /usr/local/lib/python3.11/dist-packages (0.29.1)\n",
            "Requirement already satisfied: appdirs~=1.4 in /usr/local/lib/python3.11/dist-packages (from cobra) (1.4.4)\n",
            "Requirement already satisfied: depinfo~=2.2 in /usr/local/lib/python3.11/dist-packages (from cobra) (2.2.0)\n",
            "Requirement already satisfied: diskcache~=5.0 in /usr/local/lib/python3.11/dist-packages (from cobra) (5.6.3)\n",
            "Requirement already satisfied: future in /usr/local/lib/python3.11/dist-packages (from cobra) (1.0.0)\n",
            "Requirement already satisfied: httpx~=0.24 in /usr/local/lib/python3.11/dist-packages (from cobra) (0.28.1)\n",
            "Requirement already satisfied: importlib-resources in /usr/local/lib/python3.11/dist-packages (from cobra) (6.5.2)\n",
            "Requirement already satisfied: numpy>=1.13 in /usr/local/lib/python3.11/dist-packages (from cobra) (2.0.2)\n",
            "Requirement already satisfied: optlang~=1.8 in /usr/local/lib/python3.11/dist-packages (from cobra) (1.8.3)\n",
            "Requirement already satisfied: pandas<3.0,>=1.0 in /usr/local/lib/python3.11/dist-packages (from cobra) (2.2.2)\n",
            "Requirement already satisfied: pydantic>=1.6 in /usr/local/lib/python3.11/dist-packages (from cobra) (2.11.2)\n",
            "Requirement already satisfied: python-libsbml~=5.19 in /usr/local/lib/python3.11/dist-packages (from cobra) (5.20.4)\n",
            "Requirement already satisfied: rich>=8.0 in /usr/local/lib/python3.11/dist-packages (from cobra) (13.9.4)\n",
            "Requirement already satisfied: ruamel.yaml~=0.16 in /usr/local/lib/python3.11/dist-packages (from cobra) (0.18.10)\n",
            "Requirement already satisfied: swiglpk in /usr/local/lib/python3.11/dist-packages (from cobra) (5.0.12)\n",
            "Requirement already satisfied: anyio in /usr/local/lib/python3.11/dist-packages (from httpx~=0.24->cobra) (4.9.0)\n",
            "Requirement already satisfied: certifi in /usr/local/lib/python3.11/dist-packages (from httpx~=0.24->cobra) (2025.1.31)\n",
            "Requirement already satisfied: httpcore==1.* in /usr/local/lib/python3.11/dist-packages (from httpx~=0.24->cobra) (1.0.7)\n",
            "Requirement already satisfied: idna in /usr/local/lib/python3.11/dist-packages (from httpx~=0.24->cobra) (3.10)\n",
            "Requirement already satisfied: h11<0.15,>=0.13 in /usr/local/lib/python3.11/dist-packages (from httpcore==1.*->httpx~=0.24->cobra) (0.14.0)\n",
            "Requirement already satisfied: sympy>=1.12.0 in /usr/local/lib/python3.11/dist-packages (from optlang~=1.8->cobra) (1.13.1)\n",
            "Requirement already satisfied: python-dateutil>=2.8.2 in /usr/local/lib/python3.11/dist-packages (from pandas<3.0,>=1.0->cobra) (2.8.2)\n",
            "Requirement already satisfied: pytz>=2020.1 in /usr/local/lib/python3.11/dist-packages (from pandas<3.0,>=1.0->cobra) (2025.2)\n",
            "Requirement already satisfied: tzdata>=2022.7 in /usr/local/lib/python3.11/dist-packages (from pandas<3.0,>=1.0->cobra) (2025.2)\n",
            "Requirement already satisfied: annotated-types>=0.6.0 in /usr/local/lib/python3.11/dist-packages (from pydantic>=1.6->cobra) (0.7.0)\n",
            "Requirement already satisfied: pydantic-core==2.33.1 in /usr/local/lib/python3.11/dist-packages (from pydantic>=1.6->cobra) (2.33.1)\n",
            "Requirement already satisfied: typing-extensions>=4.12.2 in /usr/local/lib/python3.11/dist-packages (from pydantic>=1.6->cobra) (4.13.1)\n",
            "Requirement already satisfied: typing-inspection>=0.4.0 in /usr/local/lib/python3.11/dist-packages (from pydantic>=1.6->cobra) (0.4.0)\n",
            "Requirement already satisfied: markdown-it-py>=2.2.0 in /usr/local/lib/python3.11/dist-packages (from rich>=8.0->cobra) (3.0.0)\n",
            "Requirement already satisfied: pygments<3.0.0,>=2.13.0 in /usr/local/lib/python3.11/dist-packages (from rich>=8.0->cobra) (2.18.0)\n",
            "Requirement already satisfied: ruamel.yaml.clib>=0.2.7 in /usr/local/lib/python3.11/dist-packages (from ruamel.yaml~=0.16->cobra) (0.2.12)\n",
            "Requirement already satisfied: mdurl~=0.1 in /usr/local/lib/python3.11/dist-packages (from markdown-it-py>=2.2.0->rich>=8.0->cobra) (0.1.2)\n",
            "Requirement already satisfied: six>=1.5 in /usr/local/lib/python3.11/dist-packages (from python-dateutil>=2.8.2->pandas<3.0,>=1.0->cobra) (1.17.0)\n",
            "Requirement already satisfied: mpmath<1.4,>=1.1.0 in /usr/local/lib/python3.11/dist-packages (from sympy>=1.12.0->optlang~=1.8->cobra) (1.3.0)\n",
            "Requirement already satisfied: sniffio>=1.1 in /usr/local/lib/python3.11/dist-packages (from anyio->httpx~=0.24->cobra) (1.3.1)\n"
          ]
        }
      ]
    },
    {
      "cell_type": "code",
      "execution_count": null,
      "id": "3392c6e6-2dd4-4909-92df-dfa13b6a9385",
      "metadata": {
        "id": "3392c6e6-2dd4-4909-92df-dfa13b6a9385"
      },
      "outputs": [],
      "source": [
        "import cobra\n",
        "from time import sleep"
      ]
    },
    {
      "cell_type": "code",
      "execution_count": null,
      "id": "df0392a0-90e6-4434-b322-a86be218da31",
      "metadata": {
        "id": "df0392a0-90e6-4434-b322-a86be218da31"
      },
      "outputs": [],
      "source": [
        "model = cobra.io.load_json_model('./iAA1300_C.json')\n",
        "original_model = model.copy()"
      ]
    },
    {
      "cell_type": "markdown",
      "source": [
        "### Explore the model"
      ],
      "metadata": {
        "id": "NSugEoBa71Ti"
      },
      "id": "NSugEoBa71Ti"
    },
    {
      "cell_type": "code",
      "execution_count": null,
      "id": "ab2b965c-5cdb-4e33-b9f8-96e4e19c2d32",
      "metadata": {
        "id": "ab2b965c-5cdb-4e33-b9f8-96e4e19c2d32",
        "outputId": "6128f943-ff3a-4c70-863f-409db2b9f8dd",
        "colab": {
          "base_uri": "https://localhost:8080/"
        }
      },
      "outputs": [
        {
          "output_type": "stream",
          "name": "stdout",
          "text": [
            "['ALATA_D2', 'SHCHD2', 'CPPPGO', 'GTHOr', 'GLYCTO2', 'GLYCTO3', 'GLYCTO4', 'TRPS2', 'G3PD5', 'EX_chol_e', 'LEUTAi', 'SHK3Dr', 'G5SD', 'ALATA_L2', 'APRAUR', 'DB4PS', 'RBFK', 'ACP1_FMN', 'RBFSb', 'EX_pi_e', 'EX_h_e', 'DMATT', 'GRTT', 'UPP3S', 'UPPDC1', 'EX_ade_e', 'EX_4abut_e', 'EX_ac_e', 'EX_akg_e', 'EX_ala__L_e', 'EX_asp__L_e', 'EX_cytd_e', 'EX_fum_e', 'EX_gua_e', 'HCO3E', 'IMPC', 'IMPD', 'ECOAH4', 'GLUTRS', 'TMPPP', 'NDPK5', 'DHORTS', 'OMPDC', 'CS', 'ICDHyr', 'ACALD', 'ACS', 'PPA', 'PPCK', 'ALAR', 'ALATA_L', 'XYLK', 'GLYK', 'ASPTA', 'FBP', 'PYK', 'A5PISO', 'EX_metsox_S__L_e', 'IPPMIb', 'ACHBS', 'ACLS', 'PSCVT', 'ANS', 'ANPRT', 'CHORM', 'CHORS', 'IGPS', 'EX_fe3_e', 'EX_glcn_e', 'EX_gln__L_e', 'EX_glyc_e', 'EX_man_e', 'EX_mn2_e', 'EX_rib__D_e', 'EX_sbt__D_e', 'ECOAH6', 'ENO', 'PPS', 'PGI', 'PGK', 'EDA', 'RPE', 'TALA', 'TKT1', 'ALCD2x', 'ALDD2y', 'EX_ura_e', 'EX_xan_e', 'FMNAT', 'NADDP', 'NMNAT', 'HMPK1', 'NDPK6', 'NDPK8', 'PTRCTA', 'CYSDS', 'EX_co2_e', 'PMDPHT', 'ILETA', 'VALTA', 'ORPT', 'RBFSa', 'DHAD2', 'FRD3', 'PTAr', 'ACKr', 'EX_hxan_e', 'EX_lac__L_e', 'EX_no3_e', 'EX_orn_e', 'EX_pyr_e', 'EX_succ_e', 'MOAT', 'UDCPDPS', 'USHD', 'LPADSS', 'TDSK', 'EX_btn_e', 'EX_xtsn_e', 'NTPP1', 'NTPP2', 'NTPTP1', 'NTPTP2', 'IPMD', 'AIRC3', 'ADSL2r', 'EX_fe2_e', 'RNDR1', 'RNDR3', 'RNDR4', 'TMDS', 'PPCDC', 'FTHFD', 'EX_glc__D_e', 'EDD', 'DHQTi', 'DHAD1', 'IPPMIa', 'FUM', 'PYAM5PO', 'OHPBAT', 'EX_fru_e', 'EX_gal_e', 'EX_for_e', 'EX_h2_e', 'EX_lys__L_e', 'EX_ser__L_e', 'GLUTRR', 'GLCS1', 'GLCP', 'EX_din_e', 'EX_fmn_e', 'HEMEOS', 'ADMDC', 'ARGDC', 'ARGSS', 'AGPR', 'SPMS', 'G1SAT', 'KDOCT2', 'OAADC', 'ALTRH', 'PGAMT', 'UAGDP', 'UAGCVT', 'GLUR', 'EX_acald_e', 'EX_melib_e', 'MACPD', 'DMQMT', 'ICHORS_copy1', 'EX_sucr_e', 'EX_zn2_e', 'HACD5', 'DNMPPA', 'HPPK2', 'PTPATi', 'DXPRIi', 'OPHBDC', 'OHPHM', 'GHMT2r', 'DHORD2', 'ADK4', 'ABTA', 'SSALx', 'ASPT', 'SERD_L', 'THRD', 'KARA1', 'KARA2', 'ACCOAC', 'NADK', 'DHBD', 'ICHORT', 'NTD2', 'NTD4', 'NTD5', 'NTD6', 'LGTHL', 'HACD6', 'ECOAH1', 'ECOAH2', 'ECOAH3', 'DXPS', 'CDPMEK', 'MECDPS', 'PMANM', 'ICL', 'GLYCL', 'UDPG4E', 'TRE6PH', 'PPC', 'CINNDO', 'DHPPD', 'DHCIND', 'GTPCII2', 'SADT2', 'LCARS', 'ALCD19', 'GLTPD', 'TGBPA', 'MANAO', 'PGLYCP', 'GLXCL', 'TARTD', 'GLCRAL', 'KAS14', 'EDTXS1', 'EDTXS2', 'EDTXS3', 'EDTXS4', 'EX_tmao_e', 'NNDPR', 'HACD4', 'HACD7', 'AACPS1', 'SDPDS', 'DKGLCNR2y', '2DGULRy', 'NTD9', 'NTD10', 'ADK1', 'OCTDPS', 'EX_26dap__M_e', 'EX_acnam_e', 'EX_amp_e', 'EX_dha_e', 'EX_glyald_e', 'AACPS2', 'AACPS3', 'AACPS4', 'EX_rmn_e', 'EX_ttdca_e', 'EX_glyclt_e', 'EX_g6p_e', 'EX_2ddglcn_e', 'EX_galct__D_e', 'EX_indole_e', 'EX_but_e', 'CAT', 'SERASr', 'DDGALK', 'AMALT1', 'MLTP2', 'GP4GH', 'EX_tma_e', 'GMHEPK', 'EX_malttr_e', 'TRE6PS', 'UDCPDP', 'CYTK1', 'CYTK2', 'GK1', 'HACD1', 'HACD2', 'EX_hdcea_e', 'ACACCT', 'BUTCT', '2DGULRx', 'G1PTT', 'TDPGDH', 'TDPDRE', 'TDPDRR', 'UAPGR', 'NDPK7', 'S7PI', 'TRPS3', 'GTPDPK', 'NDPK2', 'NDPK3', 'NDPK4', 'FCLT', 'HBZOPT', 'PNTK', 'DPCOAK', 'KDOPS', 'KDOPP', 'AST', 'GUAD', 'DGK1', 'DTMPK', 'NDPK1', 'TRDR', 'FRUK', 'RHCCE', 'BETALDHx', 'BETALDHy', 'DKGLCNR1', 'FMNRx2', 'EX_nmn_e', 'EX_urea_e', 'GMPS2', 'AMPN', 'EX_f6p_e', 'ADCS', 'ADCL', 'DHAPT', 'EX_lac__D_e', 'UMPK', 'DDPGALA', 'UPPRT', 'CTPS2', 'NTD1', 'NTD7', 'PAPPT3', 'UAGPT3', 'EX_ttdcea_e', 'GMHEPAT', 'EX_h2s_e', 'EX_gthrd_e', 'GLYCLTDx', 'HPYRRy', 'ACODA', 'ADA', 'DADA', 'ADSS', 'ASNN', 'ASNS2', 'ASPCT', 'DMPPS', 'MCOATA', 'IPDPS', 'DAPE', 'DHDPRy', 'HSK', 'SDPTA', 'THRS', 'HSST', 'PPNDH', 'DDPA', 'NMNDA', 'NNAM', 'P5CD', 'MALS', 'TRE6PP', 'EX_tartr__L_e', 'EX_taur_e', 'EX_glcur_e', 'ADPRDP', 'G3PD2', 'GALS3', 'ACCOAL', 'GALUi', 'U23GAAT', 'UAAGDS', 'UAMAS', 'UAMAGS', 'UGLYCH', 'OP4ENH', 'HOPNTAL', 'AKGDH', 'HPYRRx', 'GLYCDx', 'ASP1DC', 'UGMDDS', 'UHGADA', 'UAGAAT', 'ATPPRT', 'HISTD', 'IGPDH', 'PRPPS', 'PRATPP', 'PRMICI', 'SERAT', 'CYSS', 'BPNT', 'PAPSR', 'ASPK', 'ASAD', 'DAPDC', 'METAT', 'TMPK', 'HPPPNDO', 'DHCINDO', 'HKNDDH', 'HKNTDH', 'GLYCK2', 'SULR', 'NNATr', 'PSERT', 'AIRC2', 'GAPD', 'HEX1', 'TAUDO', 'DM_amob_c', 'ME2', 'ARGSL', 'CBPS', 'GLU5K', 'IPPS', 'EX_mg2_e', 'ACOATA', 'AMALT3', 'MLTP3', 'SPODM', 'AHCYSNS', 'NTPP4', 'NTPP3', 'NTPP6', 'NTPP7', 'NTPP8', 'P5CR', 'CYANST', 'DHPPDA2', 'G5SADs', 'PPCSCT', 'DBTS', 'DHDPS', 'G1PACT', 'GART', 'CSND', 'GF6PTA', 'H2SO', 'GLUCYS', 'GLUPRT', 'NADS1', 'NTRIR2x', 'OCBT', 'GARFT', 'PHETA1', 'PPND', 'TRPS1', 'PRAMPC', 'MCITL2', 'DXYLK', 'SOTA', 'SGSAD', 'PTA2', 'MDH2', 'ACOTA', 'PDX5PS', 'PPBNGS', 'PPNCL2', 'PRAGSr', 'PRFGS', 'EX_acac_e', 'ETHAAL', 'MAN1PT2', 'AP4AH', 'AP5AH', 'MI1PP', 'MCITS', 'PPAKr', 'NTP3', 'MOAT2', 'EX_adn_e', 'G6PDH2r', 'NADH5', 'MOHMT', 'EX_glyc3p_e', 'EX_nac_e', 'EX_ocdca_e', 'GMPS', 'UDPGD', 'PPPNDO', 'CHRPL', 'UACMAMO', 'PMPK', 'LCADi', 'ADK3', 'BSORy', 'ADSK', 'HSDy', 'CYSTL', 'SHSL1', 'SSALy', 'EX_dad_2_e', 'EX_ser__D_e', 'EX_gam6p_e', 'EX_15dap_e', 'EX_ocdcea_e', 'EX_galctn__D_e', 'BSORx', 'NMNt7pp', 'GLYALDtex', 'GLYBtex', 'GLYCtex', 'GLYC3Ptex', 'GLYCLTtex', 'GTPtex', 'GUAtex', 'Htex', 'H2tex', 'H2Otex', 'FACOAL160t2pp', 'FACOAL180t2pp', 'SPODMpp', 'NO3R1bpp', 'O2tpp', 'PPTHpp', 'PYRt2rpp', 'THD2pp', 'TMAOR1pp', 'TMAOR2pp', 'DAPtex', '12PPDStex', 'DDGLCNtex', '26DAHtex', 'HCINNMtex', 'HPPPNtex', 'ACtex', 'ACALDtex', 'ACMUMtex', 'ACACT7r', 'PSP_L', 'ACACT2r', 'ACACT3r', 'ACACT4r', 'SUCCt2_2pp', 'SUCFUMtpp', 'SUCptspp', 'SULabcpp', 'TSULabcpp', 'TARTRt7pp', 'AHGDx', 'TAURabcpp', 'THMDt2pp_copy1', 'EX_ca2_e', 'EX_so3_e', 'AKGt2rpp', 'XYLt2pp', 'EX_ala_B_e', 'EX_ppt_e', 'EX_hxa_e', 'EX_acmum_e', 'EX_dca_e', 'EX_octa_e', 'THMabcpp', 'THRabcpp', 'TREptspp', 'TYRt2rpp', 'URIt2pp_copy1', 'VALabcpp', 'XTSNt2rpp', 'XYLabcpp', 'XYLUt2pp', 'THRt4pp', 'EX_fruur_e', 'GALtex', 'GALCTtex', 'GALCTNtex', 'GALTtex', 'GALURtex', 'GTPCI', 'FDMO', 'FEOXAMabcpp', 'CBL1abcpp', 'ACACt2pp', 'ACGAptspp', 'ACMANAptspp', 'ACNAMt2pp', 'TKT2', 'FEENTERabcpp', 'FECRMabcpp', 'GBBTNtex', 'ARBt2rpp', 'DAPabcpp', 'CO2tpp', 'DHAtpp', 'ARGabcpp', 'ARGAGMt7pp', 'ASCBptspp', 'ASNt2rpp', 'ASPabcpp', 'ASPt2pp', 'HIStex', 'HXAtex', 'HYXNtex', 'IDONtex', 'INSTtex', 'INStex', 'Ktex', 'D_LACtex', 'FRULYStex', 'EX_fad_e', 'GALCTt2rpp', 'GALt2pp', 'ASPtex', 'ABUTt2pp', 'CYSabcpp', 'SBTptspp', 'CYTBDpp', 'ACALDtpp', 'ACt2rpp', 'EX_fe3dcit_e', 'EX_fe3hox_e', 'EX_fecrm_e', 'EX_feenter_e', 'EX_feoxam_e', 'EX_arbtn_fe3_e', 'EX_cpgn_e', 'ATPS4rpp', 'INDOLEtex', 'L_LACtex', 'ACt4pp', 'ADEt2rpp', 'ADNt2pp_copy1', 'ALAabcpp', 'ALLabcpp', 'ARBabcpp', 'ECOAH8', 'GLCDpp', 'HYXNtpp', 'NACtpp', 'FE3DCITabcpp', 'CPGNtonex', 'GLCRtex', 'GLCNtex', 'GLCURtex', 'GLNtex', 'O2tex', 'EX_ppa_e', 'OCTAtex', 'ORNtex', 'ECOAH5', 'DHFS', 'CITt7pp', 'EX_ni2_e', 'CHLabcpp', 'DGSNt2pp', 'DINSt2pp', 'DURIt2pp', 'FE2abcpp', 'FRUptspp', 'FUCtpp', 'FUMt2_2pp', 'FEENTERtonex', 'CSNt2pp', 'CYTDt2pp_copy1', 'DADNt2pp', 'DCYTt2pp', 'DDGLCNt2rpp', 'RMNtex', 'MALTTRtexi', 'MALTTTRtexi', 'MALTPTtexi', 'MALTtexi', 'GLCtex_copy1', 'FE3DCITtonex', 'PItex', 'METS', 'EX_cu2_e', 'PRASCSi', 'TRSARr', 'EX_pheme_e', 'PNTOtex', 'PPPNtex', 'PPTtex', 'PYRtex', 'DSERtex', 'SERtex', 'SO4tex', 'SPMDtex', 'SUCCtex', 'SUCRtex', 'TARTRtex', 'TAURtex', 'THRtex', 'THMDtex', 'CBIuabcpp', 'METDtex', 'MNLtex', 'NAtex', 'NACtex', 'NH4tex', 'BUTtex', 'CHLtex', 'CO2tex', 'CRNtex', 'PPK2', 'DINStex', 'DMStex', 'CSNtex', 'CYNTtex', 'CYTDtex', 'DCAtex', 'DCYTtex', 'DGSNtex', 'MTHFR2', 'ASPO3', 'ASPO5', 'ASPO4', 'ASPO6', 'LCTStex', 'LYStex', 'LYXtex', 'MANtex', 'MAN6Ptex', 'MELIBtex', 'DMSOtex', 'DURItex', 'FRUtex', 'FUCtex', 'FUMtex', 'ACACT5r', 'MALDDH', 'FE2tex', 'NMNtex', 'NO2tex', 'DHPS2', 'MTHFC', 'MTHFD', 'BUTt2rpp', 'CADVtpp', 'QULNS', 'GDPtex', 'EX_cobalt2_e', 'TMAtex', 'TMAOtex', 'TREtex', 'L_LACD3', 'L_LACD2', 'ACACT6r', 'TSULtex', 'URAtex', 'UREAtex', 'URItex', 'XANtex', 'XYLtex', 'ABUTtex', 'GLCTR1', 'LIPAabcpp', 'LIPACabcpp', 'GGGABADr', 'EX_mso3_e', 'EX_glyc__R_e', 'FDMO3', 'FDMO4', 'BUTSO3abcpp', 'ETHSO3abcpp', 'FEOXAMUtex', 'ARBTNtpp', 'ARBTNtex', '23CAMPtex', '23CCMPtex', '23CUMPtex', '23CGMPtex', '3AMPtex', '3CMPtex', 'FEENTERtpp', 'FEENTERtex', 'FE3HOXUtpp', 'FEOXAMUtpp', 'FECRMUtpp', 'FE3HOXR2', 'PTRCt2pp', 'GGGABAH', 'FDMO6', 'SULFACabcpp', 'ETHSO3tex', 'BUTSO3tex', 'LIPOtex', 'CYANSTpp', 'MCPST', 'PHEMEabcpp', 'METSOX1abcpp', 'GALBDtex', 'UDCPDPpp', 'FE3HOXR3', 'FEENTERR1', 'FEENTERR3', 'SULFACtex', 'EX_sulfac_e', 'EX_ethso3_e', 'NODOy', 'CU1abcpp', 'HG2abcpp', 'GLCTR3', 'NODOx', 'NOtex', 'N2Otex', 'CRNt8pp', 'CRNt2rpp', 'CRNDt2rpp', 'CTBTt2rpp', 'PEAMNtex', 'PACALDtex', 'INOSTt4pp', 'PHEMEtiex', 'AGM3PA', 'CYANtex', 'SO3tex', 'TCYNTtex', 'METSOX2abcpp', 'METSOX1tex', 'METSOX2tex', '3UMPtex', '3GMPtex', 'FALDtpp', 'METSOXR1', 'METSOXR2', 'AMPTASECG', 'DOPAtex', '4HOXPACDtex', 'GPDDA1pp', 'GPDDA5pp', 'G3PStex', 'FEENTERR2', 'FLVR', 'FE3HOXR1', 'FEENTERexs', 'FE3HOXexs', 'FECRMR3', 'FDMO2', 'AGM4PApp', 'AGM4PA', 'RNDR3b', 'RNDR4b', 'ACGAL1Ptex', 'GLCUR1Ptex', 'UDPGLCURtex', 'FEROpp', 'ISETACabcpp', 'ISETACtex', 'UDPGtex', 'UDPGALtex', 'ACGAM1Ptex', 'UACGAMtex', 'UDPACGALtex', 'AM3PA', 'CBLAT', 'MSO3abcpp', 'MSO3tex', 'FECRMR1', 'FECRMR2', '3PEPTabcpp', '4PEPTabcpp', 'AGM3Pt2pp', 'AGM4Pt2pp', 'AGMt2pp', 'FECRMexs', 'ARBTNR1', 'ARBTNR2', 'ARBTNR3', 'ARBTNexs', 'FEOXAMexs', 'FEOXAMR1', 'FEOXAMR2', 'FEOXAMR3', 'PTHRpp', 'AGt3', 'CD2t3pp', 'ZNabcpp', 'SKMt2pp', 'R5PPpp', 'PSP_Lpp', 'GLYC2Ptex', 'PSERtex', 'R5Ptex', 'THRPtex', 'TYRPtex', 'PAPSR2', 'GRXR', 'RNDR1b', 'RNDR2b', 'FACOAE181', 'FACOAE160', 'FACOAE140', 'CPGNR1', 'CPGNR2', 'CPGNR3', 'CPGNUtpp', 'CPGNUtex', 'FACOAL80t2pp', 'PPGPPDP', 'CPGNabcpp', 'CPGNexs', 'CITtex', 'DDCAtexi', 'TTDCAtexi', 'HDCAtexi', 'FACOAL60t2pp', 'IDONt2rpp', 'ILEabcpp', 'INDOLEt2pp', 'INSt2pp', 'LYXt2pp', 'GDPDPK', 'OCDCAtexi', 'OCDCEAtexi', 'G6Ptex', 'TUNGSabcpp', 'MOBDabcpp', 'MOBDtex', 'NI2tex', 'R15BPK', 'Kabcpp', 'LEUabcpp', 'L_LACt2rpp', 'MALt2_2pp', 'MALTabcpp', 'MALTHXabcpp', 'MALTPTabcpp', 'MALTTRabcpp', 'MALTTTRabcpp', 'MAN6Pt6_2pp', 'MANGLYCptspp', 'MELIBt2pp', 'METabcpp', 'EX_fe3hox_un_e', 'GGPTRCS', 'RMNtpp', 'SERt4pp', 'MNLptspp', 'NAt3_1p5pp', 'NAt3_2pp', 'NH4tpp', 'NMNPtpp', 'NO2t2rpp', 'NO3t7pp', 'ORNabcpp', 'PIuabcpp', 'PNTOt4pp', 'METDabcpp', 'PROabcpp', 'PROt2rpp', 'PROt4pp', 'PTRCabcpp', 'ASNNpp', 'GLUNpp', 'NTD12', 'FECRMtonex', 'ARBTNtonex', 'ADOCBLabcpp', 'EX_enter_e', 'EX_fecrm_un_e', 'EX_cgly_e', 'EX_gmp_e', 'EX_h2o2_e', 'EX_ump_e', 'CRNabcpp', 'CRNDabcpp', 'DNTPPA', 'CTBTabcpp', 'NTPP9', 'NTPP10', 'NTPP11', 'NTD2pp', 'NTD4pp', 'NTD7pp', 'NTD9pp', 'H2O2tex', 'ARGDCpp', 'ALLPI', 'ALLULPE', 'ADEtex', 'ADNtex', 'ALAtex', 'BALAtex', 'DALAtex', 'AMPtex', 'ARBtex', 'ASCBtex', 'FACOAL100t2pp', 'RIBabcpp', 'GPDDA3pp', 'GPDDA4pp', 'GPDDA2pp', 'FACOAL120t2pp', 'FACOAL140t2pp', 'FE3HOXtonex', 'CU2abcpp', 'COBALT2abcpp', 'NI2abcpp', 'MG2uabcpp', 'MMETtex', 'FE3tex', 'MG2tex', 'Zn2tex', 'CD2tex', 'GLNabcpp', 'GLUabcpp', 'GLUABUTt7pp', 'GLUt2rpp', 'GLUt4pp', 'GLYALDtpp', 'ACGK', '14GLUCANabcpp', '14GLUCANtexi', 'DHPTPE', 'NADPHQR2', 'GLBRAN2', 'ASR', 'ASO3tex', 'MANGLYCtex', 'FRUURt2rpp', 'FRUURtex', 'GLYCAt2rpp', 'GLYCAtex', '4PCPpp', 'FALDH2', 'GLYBabcpp', 'GLYC3Pt6pp', 'GLYCLTt4pp', 'GLYCtpp', 'H2Otpp', 'HCINNMt2rpp', 'HISabcpp', 'HISt2rpp', 'CBIAT', 'LYSabcpp', 'COBALT2tex', 'PPDOy', 'PPA2', 'DIMPtex', 'GALTptspp', 'GLCNt2rpp', 'GLCptspp', 'GLCRt2rpp', 'GLCt2pp', 'GLCURt2rpp', 'ACMUMptspp', 'EX_h2o_e', 'EX_ala__D_e', 'HSTPT', 'THDPS', 'XTSNtex', 'EX_hdca_e', 'GNK', 'HMBS', 'FHL', 'MEPCT', 'GLUDy', 'GLYCLTDy', 'LYSDC', 'DAAD', 'UREAtpp', 'XANt2pp', 'GLYC3Pabcpp', 'PPPNt2rpp', 'PTRCORNt7pp', 'SPMDabcpp', 'HG2tex', 'NTPP5', 'ATPM', 'EX_mnl_e', 'NTD3', 'GLYOX', 'DADNtex', 'DHAtex', 'ETOHtex', 'AGM4PCPpp', 'GTPDPDP', 'RNDR2', 'EX_asn__L_e', 'XAND', 'EX_no2_e', 'HACD3', 'ACACtex', 'ACNAMtex', 'ARBTNabcpp', 'NNDMBRT', 'THRA2', 'ASO3t8pp', 'H2Stex', 'PPK', 'OMCDC', 'ABUTD', 'E4PD', 'IG3PS', 'EX_nh4_e', 'DADK', 'DUTPDP', 'EX_ddca_e', 'NTP5', 'FORt2pp', 'EX_r5p_e', 'EX_glyc2p_e', 'DPR', 'THRD_L', 'EX_malt_e', '4PEPTtex', 'EX_pnto__R_e', 'SELNPS', 'CRNCAR', 'GALabcpp', 'GLYCLTt2rpp', 'GUAt2pp', 'HPPPNt2rpp', 'ANHMK', 'DHFR', 'EX_cit_e', 'PRAIi', 'TYRTA', 'SHKK', 'EX_inost_e', 'EX_mobd_e', 'EX_so4_e', 'GLUSy', 'EX_thr__L_e', 'EX_uri_e', 'PDH', 'H2St1pp', 'AACPS5', 'MANptspp', 'EX_cmp_e', 'NTD8', 'GALCTD', 'AMAOTr', 'EX_csn_e', 'EX_etoh_e', 'EX_his__L_e', 'EX_k_e', 'ARGORNt7pp', 'EX_12ppd__S_e', 'EX_pppn_e', 'DKGLCNR2x', 'ACGS', 'PDE1', 'CU2tex', 'FECRMUtex', 'ALAALAr', 'CLtex', 'CELBpts', 'ACACT1r', 'MALTptspp', 'EX_thrp_e', 'CD2abcpp', 'G2PPpp', 'Kt3pp', 'AGM3PApp', 'SUCOAS', 'PANTS', 'DHQS', 'PGCD', 'EX_gsn_e', 'EX_orot_e', 'ADSL1r', 'AICART', 'FRUpts2pp', 'G6Pt6_2pp', 'SBTtex', 'PFK', 'PGM', 'TPI', 'RPI', 'PERD', 'AKGtex', 'ALLTNtex', 'ASNtex', 'FE3HOXabcpp', 'FADRx2', 'EX_o2_e', 'PDE4', 'AGM4PH', 'AM4PA', 'EX_o2s_e', 'ATHRDHr', 'LSERDHr', 'DSERDHr', 'EX_skm_e', 'EX_acser_e', 'EX_cu_e', 'EX_arbtn_e', 'THRt2pp', 'EX_LalaDgluMdapDala_e', 'EX_LalaDgluMdap_e', 'EX_anhgm_e', 'EX_fald_e', 'GLNS', 'GTHS', 'EX_g3pe_e', 'CMPtex', 'DUMPtex', 'XMPtex', '3PEPTtex', 'ANHGMtex', 'UDPKAAT', 'HEPT1', 'FALDtex', 'ALR2', 'AMALT2', 'MLTP1', 'HEPT2', 'CYSDtex', 'HXAND', 'G3PItex', 'G3PGtex', 'G3PEtex', 'G3PCtex', 'GLCabcpp', 'GLCTR2', 'EX_cyan_e', 'EX_tyrp_e', 'EX_pser__L_e', 'EX_tcynt_e', 'EX_feoxam_un_e', 'EX_g3pc_e', 'EX_g3pg_e', 'EX_g3pi_e', 'EX_g3ps_e', 'DAMPtex', 'DCMPtex', 'DGMPtex', 'DTMPtex', 'GMPtex', 'IMPtex', 'UMPtex', 'G1Ptex', 'ADNK1', 'ZN2t3pp', 'SKMtex', 'MNt2pp', 'MNtex', 'GAL1Ptex', 'O2Stex', 'HEPK1', 'ALDD3y', 'CYSSADS', 'CPPPGO2', 'EX_isetac_e', 'AGM3PH', 'HOMt2pp', 'SO2tex', 'SHCHF', 'CYStpp', 'ACSERtpp', 'ACSERtex', 'NTP10', 'PRAIS', '2AGPE120tipp', 'AACPS6', 'AACPS7', 'G3PGabcpp', 'G3PIabcpp', 'G3PSabcpp', '2AGPA120tipp', '2AGPG180tipp', '2AGPGAT180', '2AGPGAT181', 'AACPS8', 'AACPS9', 'HXCT', '2AGPEAT160', 'DURADx', 'ECOAH7', 'G1PPpp', 'GALCTND', 'GCALDD', 'HISTP', 'LDH_D', 'AMALT4', 'NTD11', 'ORNDC', 'UPP3MT', 'ALAALAtex', 'FACOAL181t2pp', 'T2DECAI', '3OAS161', 'EAR141y', 'EAR161x', 'DASYN160', 'DASYN161', 'DASYN181', 'PGSA180', '2AGPGAT141', 'FACOAE180', 'FACOAE100', 'FACOAE80', 'FACOAE60', 'MALtex', 'NO3tex', '3OAS141', '3OAR121', 'CFAS160G', 'URAt2pp', 'FACOAE141', 'FACOAE161', 'TTDCEAtexi', 'HDCEAtexi', '2AGPEAT180', '2AGPEAT181', '2AGPGAT140', 'ALAALAabcpp', 'HEXt2rpp', 'G3PEabcpp', 'G3PCabcpp', '2AGPGAT161', 'AMPTASEPG', 'PROGLYabcpp', 'GTHRDabcpp', '2AGPG140tipp', '2AGPG160tipp', '2AGPG141tipp', '2AGPG161tipp', '2AGPG181tipp', '2AGPEAT140', '2AGPEAT120', '2AGPEAT161', '2AGPEAT141', '2AGPGAT160', 'CLPNS180pp', 'CLPNS181pp', 'PG161abcpp', 'PGP120abcpp', 'PGP161abcpp', 'PGP181abcpp', 'PA120abcpp', 'CLPNS120pp', 'ALPATE160pp', 'ALPATG160pp', '2AGPGAT120', 'FACOAL141t2pp', 'FACOAL161t2pp', 'PA160abcpp', 'PA181abcpp', 'PGPP140pp', 'PGPP141pp', 'PGPP160pp', 'PGPP180pp', 'CLPNS160pp', 'CLPNS161pp', 'PG160abcpp', 'PGP140abcpp', 'HPYRI', 'FE3HOXUtex', 'TPRDCOAS', 'GAMptspp', 'GSNtex', 'FORtex', 'D_LACt2pp', 'RIBtex', 'THMtex', 'XYLUtex', 'ALLtex', 'GGPTRCO', 'EX_metsox_R__L_e', '34dhpactex', 'MALTHXtexi', '12PPDStpp', 'HYD1pp', 'EX_cl_e', 'FE3DHBZStonex', 'H2tpp', '23DAPPAtex', 'FEOXAMtonex', 'FMNRx', 'EX_man6p_e', 'EX_tsul_e', 'PHEt2rpp', 'DHBS', 'MDDCP1pp', 'OMBZLM', 'GLYCK', 'AGMH', 'MPTG', 'MPTG2', 'MCTP1App', 'MCTP2App', 'MCTP1Bpp', 'EX_g1p_e', 'SFGTHi', 'K2L4Aabcpp', 'DSBCGT', 'DSBGGT', 'AMPMS2', 'THIORDXi', 'PPPGO3', 'PDX5POi', 'HG2t3pp', 'EAR141x', 'EAR181x', 'EAR181y', 'G3PAT141', 'G3PAT181', 'DASYN140', 'DASYN180', 'DASYN141', 'PGSA141', 'EX_alaala_e', '5DOAN', 'DM_5drib_c', 'FACOAE120', '3OAR120', '3HAD80', '3HAD120', 'EAR180x', 'SO4t2pp', 'EAR180y', 'PGPP120', 'DAGK120', 'PSSA161', 'PSD160', 'PSD161', 'PSD180', 'COLIPAabcpp', 'GAM6Pt6_2pp', 'PPALtex', 'CA2tex', 'CUtex', 'CU1Opp', 'SUCDi', 'LPLIPAL1E141pp', 'LALDO2x', '12PPDRtex', 'LPLIPAL1E160pp', 'LPLIPAL1E180pp', 'LPLIPAL1E181pp', 'LPLIPAL1G160pp', 'LPLIPAL1G161pp', 'LPLIPAL1G120pp', 'F6Ptex', 'GAMAN6Ptex', 'ALR4x', 'LPLIPAL1G141pp', 'LPLIPAL1G180pp', 'LPLIPAL1G181pp', 'ACONTb', 'GLCP2', 'F6Pt6_2pp', 'PPALtpp', '3HAD161', 'ASNS1', 'EAR80y', 'EAR120y', '3OAR181', '3HAD121', 'EAR121y', 'GTHRDHpp', 'PROGLYtex', 'EX_progly_e', 'MDDCP2pp', 'MDDCP3pp', 'EAR140x', 'EAR40y', '3OAS181', 'EAR161y', 'G3PAT140', 'G3PAT160', 'G3PAT161', 'AGPAT160', 'MLDCP1App', 'EAR160y', 'EAR100y', '3OAR141', '3OAR161', '3HAD141', 'EAR121x', 'PSD140', 'MICITDr', 'PGSA140', 'LPLIPAL1A141pp', 'LPLIPAL1A180pp', 'LPLIPAL1E140pp', 'LPLIPAL1E161pp', 'LPLIPAL1G140pp', 'ACONTa', 'MLDCP2App', 'PGPP120pp', 'PGPP181pp', 'PGSA181', 'PGPP140', 'PGPP141', 'MDDCP5pp', 'MLTGY3pp', 'G3PAT180', 'PGSA160', 'MLDCP2Bpp', '3OAS140', '3OAR140', '3OAR160', 'PGSA161', '3HAD181', 'PGPP160', 'PGPP180', 'PGPP161', 'PGPP181', 'PE141abcpp', 'PE160abcpp', 'PE161abcpp', 'PSD141', 'PG140abcpp', 'PG141abcpp', 'PG180abcpp', 'PG181abcpp', 'PGP141abcpp', 'PGP160abcpp', 'PGP180abcpp', 'PA140abcpp', 'MDDCP4pp', 'CLPNS140pp', 'CLPNS141pp', 'PG120abcpp', 'PE140abcpp', 'CFAS160E', 'CFAS180E', 'CFAS180G', 'PSSA160', 'DAGK140', 'DAGK160', 'DAGK141', 'DAGK161', 'MDDEP3pp', 'MDDEP4pp', 'MLTGY1pp', 'CGLYtex', '3HAD40', '3OAS60', '3OAS160', '3OAR60', '3OAR80', 'MLDCP3App', 'MLDCP1Bpp', '2AGPE181tipp', '2AGPA140tipp', '2AGPA160tipp', '2AGPA180tipp', '2AGPA141tipp', '2AGPE140tipp', '2AGPE160tipp', '2AGPE180tipp', '2AGPE141tipp', '2AGPE161tipp', '2AGPA161tipp', '2AGPA181tipp', '2AGPG120tipp', 'PA141abcpp', 'PA161abcpp', 'PA180abcpp', 'PGPP161pp', 'PE120abcpp', 'PE180abcpp', 'GTHOXtex', 'DSBDR', 'TDSR1', 'CGLYabcpp', 'EAR100x', 'EAR120x', 'EAR160x', 'EAR140y', '3OAS121', '3OAS80', '3OAS100', '3OAS120', '3OAR40', '3OAR100', '3HAD60', '3HAD100', '3HAD140', '3HAD160', 'AGPAT161', 'DASYN120', 'EAR40x', 'EAR60y', 'MLTGY2pp', 'MLTGY4pp', 'EAR60x', 'EAR80x', 'PE181abcpp', '3OAS180', '3HAD180', 'PSD120', 'EX_cpgn_un_e', 'MDDEP1pp', 'MDDEP2pp', 'PSD181', 'DAGK180', 'DAGK181', 'LPLIPAL1A120pp', 'LPLIPAL1A140pp', 'LPLIPAL1A181pp', 'LPLIPAL1E120pp', '3OAR180', 'G3PAT120', 'PGSA120', 'TDSR2', 'GTHRDtex', 'NADHPO', 'ACOAD7f', 'ACOAD8f', 'ACOAD5f', 'ACOAD3f', 'ACOAD2f', 'ACOAD4f', 'ACOAD6f', 'EX_tartr__D_e', 'GLYBt2pp', 'DSERt2pp', 'ALAt4pp', 'LYSt3pp', 'CTBTCAL2', 'AMMQLT8', 'CRNDCAL2', 'CRNCAL2', 'GLYt4pp', 'TUNGStex', 'COBALT2tpp', 'OXCDC', 'DM_aacald_c', 'UM3PL', 'UM4PL', 'NI2tpp', 'COBALT2t3pp', 'CAt6pp', '5DGLCNt2rpp', 'GALCTNt2pp', 'GALCTNLtex', 'CA2t3pp', 'ARGt3pp', 'MALDtex', 'OROTtex', 'PPAt4pp', 'OROTt2_2pp', 'MALDt2_2pp', '5DGLCNtex', 'EX_5dglcn_e', 'DTARTD', 'LPLIPAL1A161pp', 'LPLIPAL1A160pp', 'GLYt2pp', 'ALAt2pp', 'BALAt2pp', 'DALAt2pp', 'MG2tpp', 'PPAtex', 'GALCTNLt2pp', 'GALCTLO', 'PSCLYStex', 'THYMtex', 'CU2tpp', 'FE2t3pp', 'MN2t3pp', 'ETHAt2pp', 'FE3abcpp', 'THRA', 'CLt3_2pp', 'EX_ppal_e', 'POR5', 'HACD8', 'CTECOAI8', 'CTECOAI6', 'MTHTHFSs', 'MALCOAMT', 'OGMEACPS', 'OGMEACPR', 'OPMEACPS', 'LIPAabctex', 'DGUNC', 'CDGUNPD', 'LDGUNPD', 'MOADSUx', 'CMtpp', 'FUSAtpp', 'MINCYCtpp', 'DOXRBCNtpp', 'ETOHtrpp', 'ACPPAT141', 'ACPPAT161', 'ACPPAT180', 'ICYSDS', 'I4FE4SR', 'S2FE2ST', 'BMOCOS', 'BWCOS', 'DHNPTE', 'DHMPTR', 'NOVBCNtpp', 'LALALGLUtex', 'I2FE2SS', 'I2FE2ST', 'I2FE2SS2', 'I4FE4ST', 'S4FE4ST', 'S2FE2SS2', 'BTS5', '5MTRtex', 'LALADGLUtex', '3HPPtex', 'CCGS', 'CDGR', 'MSAR', 'ACPPAT120', 'CPH4S', 'DM_4crsol_c', 'ACPPAT160', 'ACPPAT181', 'GTHPi', 'I2FE2SR', 'TYRL', 'THZPSN3', 'QUIN2tex', 'EX_quin_e', 'FORCT', 'DHPTDCs2', 'OXDHCOAT', 'HADPCOADH3', 'O16A4COLIPAabctex', 'COLIPAabctex', 'ENLIPAabctex', 'DM_mththf_c', 'MPTS', 'MOCOS', 'S2FE2SR', 'ACACT8r', 'CTECOAI7', 'CLIPAabctex', 'K2L4Aabctex', 'FDH4pp', 'FDH5pp', 'ACPPAT140', 'OPMEACPD', 'EPMEACPR', 'AOXSr2', 'SCYSDS', 'S2FE2SS', 'SELtex', 'OGMEACPD', 'EGMEACPR', 'OPMEACPR', 'PMEACPE', 'MECDPDH5', 'RNTR1c2', 'RNTR2c2', 'RNTR3c2', 'RNTR4c2', 'FLDR2', 'TTRCYCtpp', 'DHACOAH', 'THFAT', 'SLNTtex', 'GDPTPDP', 'MPTSS', 'CPMPS', 'LIPOCT', 'LIPOS', 'ALDD19xr', 'WCOS', 'RFAMPtpp', 'ACOLIPAabctex', 'ECA4COLIPAabctex', 'COLIPAPabctex', 'TARTRDtex', '3OXCOAT', 'BTNt2ipp', 'BTNtex', '2DGULRGx', '2DGULRGy', 'AP4AS', 'ARBTptspp', 'ARBTtex', 'PYDXtex', 'SUCASPtpp', 'SUCMALtpp', 'PYDXNtex', 'PYDAMtex', 'TARTt2_3pp', 'SUCTARTtpp', 'APCS', 'CHTBSptspp', 'CHTBStex', 'GHBDHx', 'APPLDHr', 'SPMDt3pp', 'G2PP', 'CITt3pp', 'DHNPA2r', 'QUIN2tpp', 'GLYC2Pabcpp', 'CRNDtex', 'SHGO', 'NADHXD', 'NADPHHR', 'NADPHHS', 'NADHHS', 'NADHXE', 'SELabcpp', 'PYK2', 'PYK3', 'PYK4', 'NADPHXD', 'NADHHR', 'NADPHXE', 'DHBSZ3FEabcpp', 'FE3DHBZS3R', 'DXYLONtpp', 'DXYLTD', '2DDARAA', '2DGLCptspp', 'ACOAD1fr', 'FE3DCITexs', 'FEENTERR4', 'DXYLONtex', 'PSURItex', 'ALR2x', 'OMPHHXy', 'CHLt3pp', 'AI2tpp', 'Ftpp', 'DHPStr', 'SQtr', 'DHPStex', 'FMNtex', 'EX_dxylnt_e', 'CLBtex', 'ACOXT', 'EX_mththf_e', '2HESR', 'CHOLID', 'CHOLATEtpp', 'CYSItpp', 'DHPTDNR', 'DHPTDNRN', 'PCNO', '5DGLCNR', 'PIt2rpp', 'LEUt2rpp', 'LCTStpp', 'ILEt3pp', 'METt3pp', 'GSNt3pp', 'CLtipp', '5DKGR', 'PYK6', 'FADt', 'FADtex', 'AI2abcpp', '4HBZt3pp', 'LKDRA', '2DGLCtex', '3SLAR', 'SQtex', 'URATEtex', 'CBL1tonex', 'CBItonex', 'ARHGDx', 'Ftex', 'CYSItex', 'SERtpp', 'PNSPA', 'CS1tex', 'ADOCBLtonex', 'MEPNtex', 'UDPGPT', 'MEPNabcpp', 'OMMBLHXy', 'OPHHXy', 'PROD3', 'ACP1p', '3HPADHi', '4ABZGLUtex', 'SLNTabcpp', 'VALt2rpp', 'MN2tipp', 'PSURItpp', 'CYSTA', 'FE3DCITR5', 'METGLCURtex', 'FMNt', 'AI2tex', 'CUt2pp', 'RHMND', 'CXSAMS', 'AMPNTAT', 'ASPtpp', 'FUMt1pp', 'QUINDH', 'LCARSyi', 'BIOMASS_Av_DJ_core', '12PPDt', '13PPDH', '2DGLCNRx', '2DGLCNRy', '2INSD', '3OADPCOAT', 'ABTpp2', 'ADCYRS', 'ALATRS', 'ALDD2x', 'ALLTN', 'AOXSr', 'APTNAT', 'ARAT', 'ARD1', 'ARGTRS', 'ASPTRS', 'BTS4', 'BZ12DOX', 'BZDIOLDH', 'CMCMSAD', 'CYRDAAT', 'CYSTGL', 'CYSTRS', 'D5KGK', 'DHEDAA', 'DHPACCOAHIT', 'DKDID', 'FDH4pp_1', 'FDH5pp_1', 'FLDR', 'FMETTRS', 'GLA', 'GLCOAS', 'GLNTRS', 'GLUN', 'GLYTRS', 'HACD8i', 'HADPCOADH', 'HISDr', 'HISTRS', 'HPACt2r', 'ILETRS', 'INS2D', 'IZPN', 'LCARR', 'LEUTRS', 'LYSTRS', 'MACPT', 'MECDPDH2', 'METTRS', 'MMSAD3', 'MTRI', 'NACODA', 'NADHNQR', 'OHEDH', 'OMMBLHX', 'OMPHHX', 'OPHHX', 'OXOAEL', 'OXPTNDH', 'PHETRS', 'PPRDNDH', 'PROD2', 'PROTRS', 'RNTR1c', 'RNTR2c', 'RNTR3c', 'RNTR4c', 'Rbtt2', 'SERTRS', 'SERTRS2', 'THRTRS', 'THZPSN', 'TRPTA', 'URCN', 'UREA', 'URIDK2r', 'VALTRS', 'ilvg', '3HOPCD', '3MBt2pp', '3MBt4pp', '3MMD', '4HBZR', 'ACBIPGT', 'ADK2', 'ADOCBIK', 'AHCi', 'ALAD_L', 'ALCD1', 'ALCD3ir', 'ALCD4', 'APSR', 'ASPO2', 'BUTt4pp', 'BZDH', 'CBPAH', 'CD2t4pp', 'COBALTt4pp', 'CPC3MT', 'CPPPGOAN2', 'CRO4abcpp', 'CTPS1', 'CYOO2pp', 'CYTBCYTC', 'DHNAOT4', 'DLTO', 'DPLPTAT', 'FA100ACPHi', 'FA120ACPHi', 'FA140ACPHi', 'FA141ACPHi', 'FA160ACPHi', 'FA161ACPHi', 'FA80ACPHi', 'FADMQOR', 'FE2t4pp', 'FOLR2', 'G3PD1ir', 'GCCa', 'GCCc', 'GLUSx', 'GLUTCOADHc', 'GM1LIPAabctex', 'GM2LIPAabctex', 'GMHEPPA', 'GUAPRT', 'HCITS', 'HMGL', 'HMPK2', 'HMPK3', 'HMPK4', 'HSERTA', 'HVCD', 'HXPRT', 'HYD4pp', 'KAS15', 'LCYSTabcpp', 'LPADSSN', 'LPD5', 'MAN6PI', 'MBCOAi', 'MCCC', 'MCSNAH', 'MECDPDH4', 'MGCH', 'MOAT2N', 'MOATN', 'MOTH1', 'MOTH2', 'MOTH3', 'MOTH4', 'MTI', 'NADFADOR', 'NAD_H2', 'NAMNPP', 'NH4t4pp', 'NI2t4pp', 'NIT1b', 'OBDHc', 'OCOAT1', 'OGCOAAT', 'OIVD1r', 'OIVD2', 'OIVD3', 'ORNTAC', 'PBUTT', 'PC', 'PEPCK_re', 'PHEPS', 'PPAt2pp', 'PPCCYTC1pp', 'PPDK', 'PPNCL', 'PSSA120', 'PSSA140', 'PSSA141', 'PSSA180', 'PSSA181', 'PYRt4pp', 'SELCYSLY3', 'SO3abcpp', 'SSCOARy', 'STPT1', 'STPT2', 'SUCOAACTr', 'TYRTRS', 'U23GAATN', 'UACGAMOAT', 'UAGAATN', 'VCACT', 'VCOAD', 'VECOAH', 'VNDH_2', 'ZN2t4pp', 'ACOAD1z', 'ANS2', 'ATPS4r', 'BTDD_RR', 'CYSTS', 'DHPPDA', 'FE2abc', 'FRUpts', 'GK2', 'GLCNt2r', 'GLYCt', 'GTPCII', 'ME1', 'NH4t', 'PGMT', 'PIabc', 'RIBabc', 'RNF', 'SPMDabc', 'UDCPDPex', 'XPPT', 'HSDxi', 'PRDX', 'ARD', 'FNOR', 'MMTSAO', 'NABTNO', 'GLYALDDr', 'IMACTD', 'ALDD32', 'ALDD20x', 'ALDD16', 'ALDD20x_1', '4M2OPLOXRD', '3M2OPLOXRD', 'FRD', 'ASPO1', 'MTHFR3_1', 'THPAT', 'PDHbr', 'MACCOAT', 'UAGPT2', 'PYNP2r', 'SELMETAT', 'ORNTA_1', 'NADK1', 'NADK4', 'NDPK9', 'NDPK10', 'PAPPT1', 'ADOCBLS', 'LPLIPAL2A120', 'LPLIPAL2A140', 'LPLIPAL2A180', 'LPLIPAL2E180', 'LPLIPAL2A160', 'LPLIPAL2E160', 'LPLIPAL2A141', 'PGPP_HP', 'BPNT2', 'RZ5PP', '23DK5MPPISO', 'ENOPH', 'GPDDA2', 'GPDDA3', 'GPDDA1', 'GPDDA4', 'CMPN', 'MG2abc', 'Cuabc', 'UPPDC2', 'PSD_HP', 'MDRPD', 'ECOAH12', 'AROH', 'UAG4Ei', 'LYSAM', 'ASPTRS_Asn', 'GLUTRS_Gln', 'UGLDDS1', 'PPNCL3', 'ASNTRAT', 'HIBD', 'MMSAD1', '34DHALDD', '5HOXINDACTOX', '3M2OBLOXRD', 'SUCD1', 'PYDXO_1', 'DHFOR', 'THFOR1', 'THFOR2', 'FOLD3', 'UDPACGLP', 'ECOAH9ir', 'HPHL', 'PPM', 'TRPTRS', 'PBAL', '10FTHFGLULL', 'THFGLUS', 'PRFGCL', 'PDHcr', 'SPRMS', 'SEAHCYSHYD_1', 'F6PA', 'EX_n2_e', 'N2tr', 'FFSD', 'HEX7', 'M1PD', 'PFK_3', 'PGL', 'FBA3', 'GLUDC', 'HCYSMT', 'TYRPpp', 'GLUDxi', 'NH3c', 'LLEUDr', 'HEMEAS', 'AGMDA', 'ADCPS2', 'ADCPS1', 'XYLUR2', 'METAMIN', 'SMETRAN', 'EX_bz_e', 'EX_phenol_e', 'EX_raffin_e', 'MCITD', 'UGLT', 'GALKr', 'RMI', 'RMPA', 'RMK', 'SBTPD', '4OD', '4OT', 'BZtex', 'BZt1pp', 'CAT23DOX', 'HMSD', 'PHENOLtex', 'PHENOLt2pp', 'PHE2MON', 'RAFFtex', 'RAFHpp', 'GDPmann', 'POLMANN', 'POLMANNtpp', 'ALGSTH', 'ALGtex', 'EX_alg_e', 'PHBS_syn', 'SK_phbg_c', 'DM_PHB_c', 'BIOMASS_Az_DJ_core_75p37M', 'AACOAR_syn', 'EX_2obut_e', '2OBUTtex', '2OBUTt2ipp', 'EX_2hb_e', '2HBO', '2HBtex', '2HBtpp', 'EX_glx_e', 'GLXtex', 'GLXtpp', 'ACGAMK', 'ACM6PH', 'AGDC', 'G6PDA', 'MLTG1', 'DDGLK', 'GUI1', 'MNNH', 'PUNP6', 'PPM2', 'DRPA', 'EX_glycogen_e', 'GLYCOtex', 'GLYCOpp', 'EX_abt__D_e', 'ABTDtex', 'ABTDpp', 'ABTDG', 'ACNML', 'AMANAPEr', 'AMANK', 'EX_xylt_e', 'XYLTtex', 'XYLTpp', 'EX_srb__L_e', 'SRBtex', 'SRBpp', 'SBTD_D2', 'SORD_D', 'ACOAD1f', 'EX_5aptn_e', '5APTNtex', '5APTNpp', 'EX_malon_e', 'MALONtex', 'MALONpp', 'EX_mal__D_e', 'FBA', 'GND', 'FIX', 'NADH6', 'QCCOR', 'VNIT', 'FENIT', 'CYTCBB3pp', 'NADTRHD']\n"
          ]
        }
      ],
      "source": [
        "reacs = [r.id for r in model.reactions]\n",
        "print(reacs)"
      ]
    },
    {
      "cell_type": "code",
      "execution_count": null,
      "id": "cd955a30-a016-415d-89f5-ab26d116edc4",
      "metadata": {
        "id": "cd955a30-a016-415d-89f5-ab26d116edc4",
        "outputId": "18ab92f2-6be6-45ff-c89d-aa153b2f5e04",
        "colab": {
          "base_uri": "https://localhost:8080/",
          "height": 190
        }
      },
      "outputs": [
        {
          "output_type": "execute_result",
          "data": {
            "text/plain": [
              "<Model iAA1300 at 0x7caef0244e50>"
            ],
            "text/html": [
              "\n",
              "        <table>\n",
              "            <tr>\n",
              "                <td><strong>Name</strong></td>\n",
              "                <td>iAA1300</td>\n",
              "            </tr><tr>\n",
              "                <td><strong>Memory address</strong></td>\n",
              "                <td>7caef0244e50</td>\n",
              "            </tr><tr>\n",
              "                <td><strong>Number of metabolites</strong></td>\n",
              "                <td>1960</td>\n",
              "            </tr><tr>\n",
              "                <td><strong>Number of reactions</strong></td>\n",
              "                <td>2289</td>\n",
              "            </tr><tr>\n",
              "                <td><strong>Number of genes</strong></td>\n",
              "                <td>1300</td>\n",
              "            </tr><tr>\n",
              "                <td><strong>Number of groups</strong></td>\n",
              "                <td>0</td>\n",
              "            </tr><tr>\n",
              "                <td><strong>Objective expression</strong></td>\n",
              "                <td>1.0*BIOMASS_Av_DJ_core - 1.0*BIOMASS_Av_DJ_core_reverse_428bc</td>\n",
              "            </tr><tr>\n",
              "                <td><strong>Compartments</strong></td>\n",
              "                <td>c, e, p</td>\n",
              "            </tr>\n",
              "          </table>"
            ]
          },
          "metadata": {},
          "execution_count": 18
        }
      ],
      "source": [
        "model"
      ]
    },
    {
      "cell_type": "code",
      "source": [
        "model.summary()"
      ],
      "metadata": {
        "colab": {
          "base_uri": "https://localhost:8080/",
          "height": 1000
        },
        "id": "UFVEOTj-yJ4x",
        "outputId": "64a1dd03-8caf-4b99-f427-01a52ddb14db"
      },
      "id": "UFVEOTj-yJ4x",
      "execution_count": null,
      "outputs": [
        {
          "output_type": "execute_result",
          "data": {
            "text/plain": [
              "<cobra.summary.model_summary.ModelSummary at 0x7caeedf02b10>"
            ],
            "text/html": [
              "<h3>Objective</h3><p>1.0 BIOMASS_Av_DJ_core = 0.9441928481118481</p><h4>Uptake</h4><table border=\"1\" class=\"dataframe\">\n",
              "  <thead>\n",
              "    <tr style=\"text-align: right;\">\n",
              "      <th>Metabolite</th>\n",
              "      <th>Reaction</th>\n",
              "      <th>Flux</th>\n",
              "      <th>C-Number</th>\n",
              "      <th>C-Flux</th>\n",
              "    </tr>\n",
              "  </thead>\n",
              "  <tbody>\n",
              "    <tr>\n",
              "      <td>ca2_e</td>\n",
              "      <td>EX_ca2_e</td>\n",
              "      <td>0.004915</td>\n",
              "      <td>0</td>\n",
              "      <td>0.00%</td>\n",
              "    </tr>\n",
              "    <tr>\n",
              "      <td>cl_e</td>\n",
              "      <td>EX_cl_e</td>\n",
              "      <td>0.004915</td>\n",
              "      <td>0</td>\n",
              "      <td>0.00%</td>\n",
              "    </tr>\n",
              "    <tr>\n",
              "      <td>cobalt2_e</td>\n",
              "      <td>EX_cobalt2_e</td>\n",
              "      <td>2.36E-05</td>\n",
              "      <td>0</td>\n",
              "      <td>0.00%</td>\n",
              "    </tr>\n",
              "    <tr>\n",
              "      <td>cu2_e</td>\n",
              "      <td>EX_cu2_e</td>\n",
              "      <td>0.0006694</td>\n",
              "      <td>0</td>\n",
              "      <td>0.00%</td>\n",
              "    </tr>\n",
              "    <tr>\n",
              "      <td>fe2_e</td>\n",
              "      <td>EX_fe2_e</td>\n",
              "      <td>0.007792</td>\n",
              "      <td>0</td>\n",
              "      <td>0.00%</td>\n",
              "    </tr>\n",
              "    <tr>\n",
              "      <td>fe3_e</td>\n",
              "      <td>EX_fe3_e</td>\n",
              "      <td>0.007372</td>\n",
              "      <td>0</td>\n",
              "      <td>0.00%</td>\n",
              "    </tr>\n",
              "    <tr>\n",
              "      <td>glc__D_e</td>\n",
              "      <td>EX_glc__D_e</td>\n",
              "      <td>15</td>\n",
              "      <td>6</td>\n",
              "      <td>100.00%</td>\n",
              "    </tr>\n",
              "    <tr>\n",
              "      <td>h_e</td>\n",
              "      <td>EX_h_e</td>\n",
              "      <td>1.178</td>\n",
              "      <td>0</td>\n",
              "      <td>0.00%</td>\n",
              "    </tr>\n",
              "    <tr>\n",
              "      <td>k_e</td>\n",
              "      <td>EX_k_e</td>\n",
              "      <td>0.1843</td>\n",
              "      <td>0</td>\n",
              "      <td>0.00%</td>\n",
              "    </tr>\n",
              "    <tr>\n",
              "      <td>mg2_e</td>\n",
              "      <td>EX_mg2_e</td>\n",
              "      <td>0.008191</td>\n",
              "      <td>0</td>\n",
              "      <td>0.00%</td>\n",
              "    </tr>\n",
              "    <tr>\n",
              "      <td>mn2_e</td>\n",
              "      <td>EX_mn2_e</td>\n",
              "      <td>0.0006524</td>\n",
              "      <td>0</td>\n",
              "      <td>0.00%</td>\n",
              "    </tr>\n",
              "    <tr>\n",
              "      <td>mobd_e</td>\n",
              "      <td>EX_mobd_e</td>\n",
              "      <td>6.609E-06</td>\n",
              "      <td>0</td>\n",
              "      <td>0.00%</td>\n",
              "    </tr>\n",
              "    <tr>\n",
              "      <td>n2_e</td>\n",
              "      <td>EX_n2_e</td>\n",
              "      <td>4.937</td>\n",
              "      <td>0</td>\n",
              "      <td>0.00%</td>\n",
              "    </tr>\n",
              "    <tr>\n",
              "      <td>ni2_e</td>\n",
              "      <td>EX_ni2_e</td>\n",
              "      <td>0.000305</td>\n",
              "      <td>0</td>\n",
              "      <td>0.00%</td>\n",
              "    </tr>\n",
              "    <tr>\n",
              "      <td>o2_e</td>\n",
              "      <td>EX_o2_e</td>\n",
              "      <td>43.12</td>\n",
              "      <td>0</td>\n",
              "      <td>0.00%</td>\n",
              "    </tr>\n",
              "    <tr>\n",
              "      <td>pi_e</td>\n",
              "      <td>EX_pi_e</td>\n",
              "      <td>0.9108</td>\n",
              "      <td>0</td>\n",
              "      <td>0.00%</td>\n",
              "    </tr>\n",
              "    <tr>\n",
              "      <td>so4_e</td>\n",
              "      <td>EX_so4_e</td>\n",
              "      <td>0.1528</td>\n",
              "      <td>0</td>\n",
              "      <td>0.00%</td>\n",
              "    </tr>\n",
              "    <tr>\n",
              "      <td>zn2_e</td>\n",
              "      <td>EX_zn2_e</td>\n",
              "      <td>0.000322</td>\n",
              "      <td>0</td>\n",
              "      <td>0.00%</td>\n",
              "    </tr>\n",
              "  </tbody>\n",
              "</table><h4>Secretion</h4><table border=\"1\" class=\"dataframe\">\n",
              "  <thead>\n",
              "    <tr style=\"text-align: right;\">\n",
              "      <th>Metabolite</th>\n",
              "      <th>Reaction</th>\n",
              "      <th>Flux</th>\n",
              "      <th>C-Number</th>\n",
              "      <th>C-Flux</th>\n",
              "    </tr>\n",
              "  </thead>\n",
              "  <tbody>\n",
              "    <tr>\n",
              "      <td>4crsol_c</td>\n",
              "      <td>DM_4crsol_c</td>\n",
              "      <td>-0.0002106</td>\n",
              "      <td>7</td>\n",
              "      <td>0.00%</td>\n",
              "    </tr>\n",
              "    <tr>\n",
              "      <td>5drib_c</td>\n",
              "      <td>DM_5drib_c</td>\n",
              "      <td>-0.0002124</td>\n",
              "      <td>5</td>\n",
              "      <td>0.00%</td>\n",
              "    </tr>\n",
              "    <tr>\n",
              "      <td>amob_c</td>\n",
              "      <td>DM_amob_c</td>\n",
              "      <td>-1.888E-06</td>\n",
              "      <td>15</td>\n",
              "      <td>0.00%</td>\n",
              "    </tr>\n",
              "    <tr>\n",
              "      <td>ade_e</td>\n",
              "      <td>EX_ade_e</td>\n",
              "      <td>-0.0002124</td>\n",
              "      <td>5</td>\n",
              "      <td>0.00%</td>\n",
              "    </tr>\n",
              "    <tr>\n",
              "      <td>co2_e</td>\n",
              "      <td>EX_co2_e</td>\n",
              "      <td>-52.31</td>\n",
              "      <td>1</td>\n",
              "      <td>99.99%</td>\n",
              "    </tr>\n",
              "    <tr>\n",
              "      <td>dxylnt_e</td>\n",
              "      <td>EX_dxylnt_e</td>\n",
              "      <td>-0.0006317</td>\n",
              "      <td>5</td>\n",
              "      <td>0.01%</td>\n",
              "    </tr>\n",
              "    <tr>\n",
              "      <td>fald_e</td>\n",
              "      <td>EX_fald_e</td>\n",
              "      <td>-1.888E-06</td>\n",
              "      <td>1</td>\n",
              "      <td>0.00%</td>\n",
              "    </tr>\n",
              "    <tr>\n",
              "      <td>h2o_e</td>\n",
              "      <td>EX_h2o_e</td>\n",
              "      <td>-62.12</td>\n",
              "      <td>0</td>\n",
              "      <td>0.00%</td>\n",
              "    </tr>\n",
              "  </tbody>\n",
              "</table>"
            ]
          },
          "metadata": {},
          "execution_count": 31
        }
      ]
    },
    {
      "cell_type": "code",
      "execution_count": null,
      "id": "88b92c10-310d-403c-91fc-1b395bcc454f",
      "metadata": {
        "id": "88b92c10-310d-403c-91fc-1b395bcc454f",
        "outputId": "280e2320-acfe-46f0-9041-f36d5e57b843",
        "colab": {
          "base_uri": "https://localhost:8080/"
        }
      },
      "outputs": [
        {
          "output_type": "execute_result",
          "data": {
            "text/plain": [
              "{'EX_pi_e': 1000.0,\n",
              " 'EX_h_e': 1000.0,\n",
              " 'EX_fe3_e': 0.05,\n",
              " 'EX_mn2_e': 1000.0,\n",
              " 'EX_fe2_e': 0.05,\n",
              " 'EX_glc__D_e': 15.0,\n",
              " 'EX_zn2_e': 1000.0,\n",
              " 'EX_mg2_e': 1000.0,\n",
              " 'EX_ca2_e': 1000.0,\n",
              " 'EX_ni2_e': 1000.0,\n",
              " 'EX_cu2_e': 1000.0,\n",
              " 'EX_cobalt2_e': 1000.0,\n",
              " 'EX_h2o_e': 1000.0,\n",
              " 'EX_mobd_e': 1000.0,\n",
              " 'EX_so4_e': 1000.0,\n",
              " 'EX_k_e': 1000.0,\n",
              " 'EX_o2_e': 1000.0,\n",
              " 'EX_cl_e': 1000.0,\n",
              " 'EX_n2_e': 1000.0}"
            ]
          },
          "metadata": {},
          "execution_count": 19
        }
      ],
      "source": [
        "model.medium"
      ]
    },
    {
      "cell_type": "code",
      "execution_count": null,
      "id": "7503d57e-1d1d-4e65-ad0f-6dee501bcc12",
      "metadata": {
        "id": "7503d57e-1d1d-4e65-ad0f-6dee501bcc12",
        "outputId": "d48d048d-4ed3-42bb-d403-05675964285b",
        "colab": {
          "base_uri": "https://localhost:8080/"
        }
      },
      "outputs": [
        {
          "output_type": "execute_result",
          "data": {
            "text/plain": [
              "{'c': '', 'e': '', 'p': ''}"
            ]
          },
          "metadata": {},
          "execution_count": 20
        }
      ],
      "source": [
        "model.compartments"
      ]
    },
    {
      "cell_type": "code",
      "execution_count": null,
      "id": "3aa11072-f314-44f8-ac4c-1842b41cc8a3",
      "metadata": {
        "id": "3aa11072-f314-44f8-ac4c-1842b41cc8a3",
        "outputId": "a5cb7aaf-935e-4ede-f4bd-5bc86dce77cd",
        "colab": {
          "base_uri": "https://localhost:8080/"
        }
      },
      "outputs": [
        {
          "output_type": "stream",
          "name": "stdout",
          "text": [
            "Execution time in seconds: 0.4811890125274658\n",
            "Maximum objective =  0.9308245166661814\n",
            "Status =  optimal\n"
          ]
        }
      ],
      "source": [
        "startTime = time.time()\n",
        "solution = model.optimize()\n",
        "executionTime = (time.time() - startTime)\n",
        "print('Execution time in seconds: ' + str(executionTime))\n",
        "print('Maximum objective = ',solution.objective_value)\n",
        "print('Status = ',solution.status)\n"
      ]
    },
    {
      "cell_type": "code",
      "source": [
        "model.reactions.BIOMASS_Av_DJ_core"
      ],
      "metadata": {
        "colab": {
          "base_uri": "https://localhost:8080/",
          "height": 256
        },
        "id": "8QxecVe3wTbO",
        "outputId": "beb35aec-6608-4f50-d9fa-f69755ebc9ce"
      },
      "id": "8QxecVe3wTbO",
      "execution_count": null,
      "outputs": [
        {
          "output_type": "execute_result",
          "data": {
            "text/plain": [
              "<Reaction BIOMASS_Av_DJ_core at 0x7caeedcfc090>"
            ],
            "text/html": [
              "\n",
              "        <table>\n",
              "            <tr>\n",
              "                <td><strong>Reaction identifier</strong></td><td>BIOMASS_Av_DJ_core</td>\n",
              "            </tr><tr>\n",
              "                <td><strong>Name</strong></td><td>A. vinelandii DJ biomass objective function - core</td>\n",
              "            </tr><tr>\n",
              "                <td><strong>Memory address</strong></td>\n",
              "                <td>0x7caeedcfc090</td>\n",
              "            </tr><tr>\n",
              "                <td><strong>Stoichiometry</strong></td>\n",
              "                <td>\n",
              "                    <p style='text-align:right'>0.000223 10fthf_c + 2.6e-05 2fe2s_c + 0.000223 2ohph_c + 0.00026 4fe4s_c + 0.583020414344392 ala__L_c + 0.000223 amet_c + 0.4009934072884 arg__L_c + 0.126569944053473 asn__L_c + 0.267095137584612...</p>\n",
              "                    <p style='text-align:right'>0.000223 10-Formyltetrahydrofolate + 2.6e-05 [2Fe-2S] iron-sulfur cluster + 0.000223 2-Octaprenyl-6-hydroxyphenol + 0.00026 [4Fe-4S] iron-sulfur cluster + 0.583020414344392 L-Alanine + 0.000223...</p>\n",
              "                </td>\n",
              "            </tr><tr>\n",
              "                <td><strong>GPR</strong></td><td></td>\n",
              "            </tr><tr>\n",
              "                <td><strong>Lower bound</strong></td><td>0.0</td>\n",
              "            </tr><tr>\n",
              "                <td><strong>Upper bound</strong></td><td>1000.0</td>\n",
              "            </tr>\n",
              "        </table>\n",
              "        "
            ]
          },
          "metadata": {},
          "execution_count": 24
        }
      ]
    },
    {
      "cell_type": "code",
      "source": [
        "def plot_fba(fluxes, reactions = reacs):\n",
        "  n = len(reactions)\n",
        "  v_pos = np.arange(n)\n",
        "  plt.bar(v_pos, fluxes, align='center')\n",
        "  plt.xticks(v_pos, reactions)\n",
        "  plt.ylabel('Flux Value')\n",
        "  plt.title('Solution Vector')\n",
        "  plt.show()"
      ],
      "metadata": {
        "id": "eUmOFZKIxy5J"
      },
      "id": "eUmOFZKIxy5J",
      "execution_count": null,
      "outputs": []
    },
    {
      "cell_type": "code",
      "source": [
        "solution = model.optimize()"
      ],
      "metadata": {
        "id": "U4TkQ9IXxy24"
      },
      "id": "U4TkQ9IXxy24",
      "execution_count": null,
      "outputs": []
    },
    {
      "cell_type": "code",
      "source": [
        "solution.fluxes[(10 < solution.fluxes) & (solution.fluxes < 40)]"
      ],
      "metadata": {
        "colab": {
          "base_uri": "https://localhost:8080/",
          "height": 711
        },
        "id": "CKCW4tGqy6R4",
        "outputId": "903c11de-83a3-4fc5-ff4b-d8745733c9ea"
      },
      "id": "CKCW4tGqy6R4",
      "execution_count": null,
      "outputs": [
        {
          "output_type": "execute_result",
          "data": {
            "text/plain": [
              "CS              16.057125\n",
              "PYK             11.217454\n",
              "ENO             11.984462\n",
              "EDA             13.192174\n",
              "EDD             13.192174\n",
              "FUM             16.025183\n",
              "GAPD            13.536933\n",
              "HEX1            15.000000\n",
              "MDH2            18.517689\n",
              "G6PDH2r         16.088017\n",
              "GLCtex_copy1    15.000000\n",
              "GLCt2pp         15.000000\n",
              "PDH             28.937839\n",
              "SUCDi           14.920586\n",
              "ACONTb          16.057125\n",
              "ACONTa          16.057125\n",
              "PGL             16.088017\n",
              "FIX             19.747987\n",
              "NADH6           32.731741\n",
              "NADTRHD         12.447912\n",
              "Name: fluxes, dtype: float64"
            ],
            "text/html": [
              "<div>\n",
              "<style scoped>\n",
              "    .dataframe tbody tr th:only-of-type {\n",
              "        vertical-align: middle;\n",
              "    }\n",
              "\n",
              "    .dataframe tbody tr th {\n",
              "        vertical-align: top;\n",
              "    }\n",
              "\n",
              "    .dataframe thead th {\n",
              "        text-align: right;\n",
              "    }\n",
              "</style>\n",
              "<table border=\"1\" class=\"dataframe\">\n",
              "  <thead>\n",
              "    <tr style=\"text-align: right;\">\n",
              "      <th></th>\n",
              "      <th>fluxes</th>\n",
              "    </tr>\n",
              "  </thead>\n",
              "  <tbody>\n",
              "    <tr>\n",
              "      <th>CS</th>\n",
              "      <td>16.057125</td>\n",
              "    </tr>\n",
              "    <tr>\n",
              "      <th>PYK</th>\n",
              "      <td>11.217454</td>\n",
              "    </tr>\n",
              "    <tr>\n",
              "      <th>ENO</th>\n",
              "      <td>11.984462</td>\n",
              "    </tr>\n",
              "    <tr>\n",
              "      <th>EDA</th>\n",
              "      <td>13.192174</td>\n",
              "    </tr>\n",
              "    <tr>\n",
              "      <th>EDD</th>\n",
              "      <td>13.192174</td>\n",
              "    </tr>\n",
              "    <tr>\n",
              "      <th>FUM</th>\n",
              "      <td>16.025183</td>\n",
              "    </tr>\n",
              "    <tr>\n",
              "      <th>GAPD</th>\n",
              "      <td>13.536933</td>\n",
              "    </tr>\n",
              "    <tr>\n",
              "      <th>HEX1</th>\n",
              "      <td>15.000000</td>\n",
              "    </tr>\n",
              "    <tr>\n",
              "      <th>MDH2</th>\n",
              "      <td>18.517689</td>\n",
              "    </tr>\n",
              "    <tr>\n",
              "      <th>G6PDH2r</th>\n",
              "      <td>16.088017</td>\n",
              "    </tr>\n",
              "    <tr>\n",
              "      <th>GLCtex_copy1</th>\n",
              "      <td>15.000000</td>\n",
              "    </tr>\n",
              "    <tr>\n",
              "      <th>GLCt2pp</th>\n",
              "      <td>15.000000</td>\n",
              "    </tr>\n",
              "    <tr>\n",
              "      <th>PDH</th>\n",
              "      <td>28.937839</td>\n",
              "    </tr>\n",
              "    <tr>\n",
              "      <th>SUCDi</th>\n",
              "      <td>14.920586</td>\n",
              "    </tr>\n",
              "    <tr>\n",
              "      <th>ACONTb</th>\n",
              "      <td>16.057125</td>\n",
              "    </tr>\n",
              "    <tr>\n",
              "      <th>ACONTa</th>\n",
              "      <td>16.057125</td>\n",
              "    </tr>\n",
              "    <tr>\n",
              "      <th>PGL</th>\n",
              "      <td>16.088017</td>\n",
              "    </tr>\n",
              "    <tr>\n",
              "      <th>FIX</th>\n",
              "      <td>19.747987</td>\n",
              "    </tr>\n",
              "    <tr>\n",
              "      <th>NADH6</th>\n",
              "      <td>32.731741</td>\n",
              "    </tr>\n",
              "    <tr>\n",
              "      <th>NADTRHD</th>\n",
              "      <td>12.447912</td>\n",
              "    </tr>\n",
              "  </tbody>\n",
              "</table>\n",
              "</div><br><label><b>dtype:</b> float64</label>"
            ]
          },
          "metadata": {},
          "execution_count": 50
        }
      ]
    },
    {
      "cell_type": "code",
      "source": [
        "model.reactions.HEX1"
      ],
      "metadata": {
        "colab": {
          "base_uri": "https://localhost:8080/",
          "height": 204
        },
        "id": "HUNot01g0rk7",
        "outputId": "7390a7ec-0179-4d19-dee2-8aa5d922c175"
      },
      "id": "HUNot01g0rk7",
      "execution_count": null,
      "outputs": [
        {
          "output_type": "execute_result",
          "data": {
            "text/plain": [
              "<Reaction HEX1 at 0x7caeee29ae10>"
            ],
            "text/html": [
              "\n",
              "        <table>\n",
              "            <tr>\n",
              "                <td><strong>Reaction identifier</strong></td><td>HEX1</td>\n",
              "            </tr><tr>\n",
              "                <td><strong>Name</strong></td><td>Hexokinase (D-glucose:ATP)</td>\n",
              "            </tr><tr>\n",
              "                <td><strong>Memory address</strong></td>\n",
              "                <td>0x7caeee29ae10</td>\n",
              "            </tr><tr>\n",
              "                <td><strong>Stoichiometry</strong></td>\n",
              "                <td>\n",
              "                    <p style='text-align:right'>atp_c + glc__D_c --> adp_c + g6p_c + h_c</p>\n",
              "                    <p style='text-align:right'>ATP C10H12N5O13P3 + D-Glucose --> ADP C10H12N5O10P2 + D-Glucose 6-phosphate + H+</p>\n",
              "                </td>\n",
              "            </tr><tr>\n",
              "                <td><strong>GPR</strong></td><td>Avin_04130</td>\n",
              "            </tr><tr>\n",
              "                <td><strong>Lower bound</strong></td><td>0.0</td>\n",
              "            </tr><tr>\n",
              "                <td><strong>Upper bound</strong></td><td>1000.0</td>\n",
              "            </tr>\n",
              "        </table>\n",
              "        "
            ]
          },
          "metadata": {},
          "execution_count": 58
        }
      ]
    },
    {
      "cell_type": "code",
      "source": [
        "solution.fluxes.sort_values(ascending=False)"
      ],
      "metadata": {
        "colab": {
          "base_uri": "https://localhost:8080/",
          "height": 458
        },
        "id": "SIdMSr62zkAq",
        "outputId": "b022a722-8914-4a9e-e16d-aea8c4b7fe31"
      },
      "id": "SIdMSr62zkAq",
      "execution_count": null,
      "outputs": [
        {
          "output_type": "execute_result",
          "data": {
            "text/plain": [
              "ATPS4rpp    158.307041\n",
              "QCCOR        86.230338\n",
              "CYOO2pp      86.230338\n",
              "EX_h2o_e     62.124626\n",
              "EX_co2_e     52.314144\n",
              "               ...    \n",
              "EX_o2_e     -43.115590\n",
              "CO2tex      -52.314144\n",
              "CO2tpp      -52.314144\n",
              "H2Otpp      -62.124626\n",
              "H2Otex      -62.124626\n",
              "Name: fluxes, Length: 2289, dtype: float64"
            ],
            "text/html": [
              "<div>\n",
              "<style scoped>\n",
              "    .dataframe tbody tr th:only-of-type {\n",
              "        vertical-align: middle;\n",
              "    }\n",
              "\n",
              "    .dataframe tbody tr th {\n",
              "        vertical-align: top;\n",
              "    }\n",
              "\n",
              "    .dataframe thead th {\n",
              "        text-align: right;\n",
              "    }\n",
              "</style>\n",
              "<table border=\"1\" class=\"dataframe\">\n",
              "  <thead>\n",
              "    <tr style=\"text-align: right;\">\n",
              "      <th></th>\n",
              "      <th>fluxes</th>\n",
              "    </tr>\n",
              "  </thead>\n",
              "  <tbody>\n",
              "    <tr>\n",
              "      <th>ATPS4rpp</th>\n",
              "      <td>158.307041</td>\n",
              "    </tr>\n",
              "    <tr>\n",
              "      <th>QCCOR</th>\n",
              "      <td>86.230338</td>\n",
              "    </tr>\n",
              "    <tr>\n",
              "      <th>CYOO2pp</th>\n",
              "      <td>86.230338</td>\n",
              "    </tr>\n",
              "    <tr>\n",
              "      <th>EX_h2o_e</th>\n",
              "      <td>62.124626</td>\n",
              "    </tr>\n",
              "    <tr>\n",
              "      <th>EX_co2_e</th>\n",
              "      <td>52.314144</td>\n",
              "    </tr>\n",
              "    <tr>\n",
              "      <th>...</th>\n",
              "      <td>...</td>\n",
              "    </tr>\n",
              "    <tr>\n",
              "      <th>EX_o2_e</th>\n",
              "      <td>-43.115590</td>\n",
              "    </tr>\n",
              "    <tr>\n",
              "      <th>CO2tex</th>\n",
              "      <td>-52.314144</td>\n",
              "    </tr>\n",
              "    <tr>\n",
              "      <th>CO2tpp</th>\n",
              "      <td>-52.314144</td>\n",
              "    </tr>\n",
              "    <tr>\n",
              "      <th>H2Otpp</th>\n",
              "      <td>-62.124626</td>\n",
              "    </tr>\n",
              "    <tr>\n",
              "      <th>H2Otex</th>\n",
              "      <td>-62.124626</td>\n",
              "    </tr>\n",
              "  </tbody>\n",
              "</table>\n",
              "<p>2289 rows × 1 columns</p>\n",
              "</div><br><label><b>dtype:</b> float64</label>"
            ]
          },
          "metadata": {},
          "execution_count": 41
        }
      ]
    },
    {
      "cell_type": "code",
      "source": [
        "model.reactions.ATPS4rpp"
      ],
      "metadata": {
        "colab": {
          "base_uri": "https://localhost:8080/",
          "height": 204
        },
        "id": "vmXeqwm-zIF3",
        "outputId": "73d32f67-7a2e-4f45-c6b1-57468a8fbabb"
      },
      "id": "vmXeqwm-zIF3",
      "execution_count": null,
      "outputs": [
        {
          "output_type": "execute_result",
          "data": {
            "text/plain": [
              "<Reaction ATPS4rpp at 0x7caeedff8ed0>"
            ],
            "text/html": [
              "\n",
              "        <table>\n",
              "            <tr>\n",
              "                <td><strong>Reaction identifier</strong></td><td>ATPS4rpp</td>\n",
              "            </tr><tr>\n",
              "                <td><strong>Name</strong></td><td>ATP synthase (four protons for one ATP) (periplasm)</td>\n",
              "            </tr><tr>\n",
              "                <td><strong>Memory address</strong></td>\n",
              "                <td>0x7caeedff8ed0</td>\n",
              "            </tr><tr>\n",
              "                <td><strong>Stoichiometry</strong></td>\n",
              "                <td>\n",
              "                    <p style='text-align:right'>adp_c + 4.0 h_p + pi_c <=> atp_c + h2o_c + 3.0 h_c</p>\n",
              "                    <p style='text-align:right'>ADP C10H12N5O10P2 + 4.0 H+ + Phosphate <=> ATP C10H12N5O13P3 + H2O H2O + 3.0 H+</p>\n",
              "                </td>\n",
              "            </tr><tr>\n",
              "                <td><strong>GPR</strong></td><td>(Avin_51800 and Avin_51890 and Avin_51920 and Avin_52150 and Avin_52160) or Avin_24200 or...</td>\n",
              "            </tr><tr>\n",
              "                <td><strong>Lower bound</strong></td><td>-1000.0</td>\n",
              "            </tr><tr>\n",
              "                <td><strong>Upper bound</strong></td><td>1000.0</td>\n",
              "            </tr>\n",
              "        </table>\n",
              "        "
            ]
          },
          "metadata": {},
          "execution_count": 42
        }
      ]
    },
    {
      "cell_type": "code",
      "source": [
        "model.reactions.QCCOR"
      ],
      "metadata": {
        "colab": {
          "base_uri": "https://localhost:8080/",
          "height": 204
        },
        "id": "tuZcUhvwzrRT",
        "outputId": "adfdd5ed-1a7f-4edc-8513-65835fc9e3d1"
      },
      "id": "tuZcUhvwzrRT",
      "execution_count": null,
      "outputs": [
        {
          "output_type": "execute_result",
          "data": {
            "text/plain": [
              "<Reaction QCCOR at 0x7caeedb5c990>"
            ],
            "text/html": [
              "\n",
              "        <table>\n",
              "            <tr>\n",
              "                <td><strong>Reaction identifier</strong></td><td>QCCOR</td>\n",
              "            </tr><tr>\n",
              "                <td><strong>Name</strong></td><td>quinone: cytochrome c oxidoreductase</td>\n",
              "            </tr><tr>\n",
              "                <td><strong>Memory address</strong></td>\n",
              "                <td>0x7caeedb5c990</td>\n",
              "            </tr><tr>\n",
              "                <td><strong>Stoichiometry</strong></td>\n",
              "                <td>\n",
              "                    <p style='text-align:right'>2.0 ficytC_c + 2.0 h_c + q8h2_c <=> 2.0 focytC_c + 4.0 h_p + q8_c</p>\n",
              "                    <p style='text-align:right'>2.0 Ferricytochrome c + 2.0 H+ + Ubiquinol-8 <=> 2.0 Ferrocytochrome C + 4.0 H+ + Ubiquinone-8</p>\n",
              "                </td>\n",
              "            </tr><tr>\n",
              "                <td><strong>GPR</strong></td><td>Avin_13060 and Avin_13070 and Avin_13080</td>\n",
              "            </tr><tr>\n",
              "                <td><strong>Lower bound</strong></td><td>-1000.0</td>\n",
              "            </tr><tr>\n",
              "                <td><strong>Upper bound</strong></td><td>1000.0</td>\n",
              "            </tr>\n",
              "        </table>\n",
              "        "
            ]
          },
          "metadata": {},
          "execution_count": 43
        }
      ]
    },
    {
      "cell_type": "code",
      "source": [
        "model.reactions.CYOO2pp"
      ],
      "metadata": {
        "colab": {
          "base_uri": "https://localhost:8080/",
          "height": 204
        },
        "id": "M6nJUTO8zy9u",
        "outputId": "217d5d85-2327-49f0-8042-c5ff46b4a45e"
      },
      "id": "M6nJUTO8zy9u",
      "execution_count": null,
      "outputs": [
        {
          "output_type": "execute_result",
          "data": {
            "text/plain": [
              "<Reaction CYOO2pp at 0x7caeed4704d0>"
            ],
            "text/html": [
              "\n",
              "        <table>\n",
              "            <tr>\n",
              "                <td><strong>Reaction identifier</strong></td><td>CYOO2pp</td>\n",
              "            </tr><tr>\n",
              "                <td><strong>Name</strong></td><td>Cytochrome-c oxidase (2 protons translocated) periplasm</td>\n",
              "            </tr><tr>\n",
              "                <td><strong>Memory address</strong></td>\n",
              "                <td>0x7caeed4704d0</td>\n",
              "            </tr><tr>\n",
              "                <td><strong>Stoichiometry</strong></td>\n",
              "                <td>\n",
              "                    <p style='text-align:right'>2.0 focytC_c + 4.0 h_c + 0.5 o2_c --> 2.0 ficytC_c + h2o_c + 2.0 h_p</p>\n",
              "                    <p style='text-align:right'>2.0 Ferrocytochrome C + 4.0 H+ + 0.5 O2 O2 --> 2.0 Ferricytochrome c + H2O H2O + 2.0 H+</p>\n",
              "                </td>\n",
              "            </tr><tr>\n",
              "                <td><strong>GPR</strong></td><td>(Avin_11180 and Avin_11170) or (Avin_00990 and Avin_01010 and Avin_01020)</td>\n",
              "            </tr><tr>\n",
              "                <td><strong>Lower bound</strong></td><td>0.0</td>\n",
              "            </tr><tr>\n",
              "                <td><strong>Upper bound</strong></td><td>1000.0</td>\n",
              "            </tr>\n",
              "        </table>\n",
              "        "
            ]
          },
          "metadata": {},
          "execution_count": 44
        }
      ]
    },
    {
      "cell_type": "code",
      "source": [
        "model.reactions.CO2tex"
      ],
      "metadata": {
        "colab": {
          "base_uri": "https://localhost:8080/",
          "height": 204
        },
        "id": "wobSi4fr0F39",
        "outputId": "d7ec5081-41d1-49e8-b694-a797d2930f86"
      },
      "id": "wobSi4fr0F39",
      "execution_count": null,
      "outputs": [
        {
          "output_type": "execute_result",
          "data": {
            "text/plain": [
              "<Reaction CO2tex at 0x7caeee15c9d0>"
            ],
            "text/html": [
              "\n",
              "        <table>\n",
              "            <tr>\n",
              "                <td><strong>Reaction identifier</strong></td><td>CO2tex</td>\n",
              "            </tr><tr>\n",
              "                <td><strong>Name</strong></td><td>CO2 transport via diffusion (extracellular to periplasm)</td>\n",
              "            </tr><tr>\n",
              "                <td><strong>Memory address</strong></td>\n",
              "                <td>0x7caeee15c9d0</td>\n",
              "            </tr><tr>\n",
              "                <td><strong>Stoichiometry</strong></td>\n",
              "                <td>\n",
              "                    <p style='text-align:right'>co2_e <=> co2_p</p>\n",
              "                    <p style='text-align:right'>CO2 CO2 <=> CO2 CO2</p>\n",
              "                </td>\n",
              "            </tr><tr>\n",
              "                <td><strong>GPR</strong></td><td>Avin_09190 or Avin_16650 or Avin_22010 or Avin_26940 or Avin_27200 or Avin_33610 or Avin_41140 or...</td>\n",
              "            </tr><tr>\n",
              "                <td><strong>Lower bound</strong></td><td>-1000.0</td>\n",
              "            </tr><tr>\n",
              "                <td><strong>Upper bound</strong></td><td>1000.0</td>\n",
              "            </tr>\n",
              "        </table>\n",
              "        "
            ]
          },
          "metadata": {},
          "execution_count": 45
        }
      ]
    },
    {
      "cell_type": "code",
      "source": [
        "model.reactions.CO2tpp"
      ],
      "metadata": {
        "colab": {
          "base_uri": "https://localhost:8080/",
          "height": 204
        },
        "id": "ZFXCVsFz0J2y",
        "outputId": "ac32c801-eb4a-4cdd-abea-2826d7adfb0a"
      },
      "id": "ZFXCVsFz0J2y",
      "execution_count": null,
      "outputs": [
        {
          "output_type": "execute_result",
          "data": {
            "text/plain": [
              "<Reaction CO2tpp at 0x7caeedfc5f50>"
            ],
            "text/html": [
              "\n",
              "        <table>\n",
              "            <tr>\n",
              "                <td><strong>Reaction identifier</strong></td><td>CO2tpp</td>\n",
              "            </tr><tr>\n",
              "                <td><strong>Name</strong></td><td>CO2 transporter via diffusion (periplasm)</td>\n",
              "            </tr><tr>\n",
              "                <td><strong>Memory address</strong></td>\n",
              "                <td>0x7caeedfc5f50</td>\n",
              "            </tr><tr>\n",
              "                <td><strong>Stoichiometry</strong></td>\n",
              "                <td>\n",
              "                    <p style='text-align:right'>co2_p <=> co2_c</p>\n",
              "                    <p style='text-align:right'>CO2 CO2 <=> CO2 CO2</p>\n",
              "                </td>\n",
              "            </tr><tr>\n",
              "                <td><strong>GPR</strong></td><td></td>\n",
              "            </tr><tr>\n",
              "                <td><strong>Lower bound</strong></td><td>-1000.0</td>\n",
              "            </tr><tr>\n",
              "                <td><strong>Upper bound</strong></td><td>1000.0</td>\n",
              "            </tr>\n",
              "        </table>\n",
              "        "
            ]
          },
          "metadata": {},
          "execution_count": 46
        }
      ]
    },
    {
      "cell_type": "code",
      "source": [],
      "metadata": {
        "id": "ykZ3HuUj0SSk"
      },
      "id": "ykZ3HuUj0SSk",
      "execution_count": null,
      "outputs": []
    },
    {
      "cell_type": "code",
      "source": [
        "v_pos = np.arange(len(solution.fluxes))\n",
        "f = plt.figure()\n",
        "f.set_figwidth(30)\n",
        "plt.bar(v_pos, solution.fluxes, align='center')\n",
        "plt.xticks(v_pos)\n",
        "#f.set_figheight(8)\n",
        "plt.ylabel('Flux Value')\n",
        "plt.title('Solution Vector')\n",
        "plt.show()"
      ],
      "metadata": {
        "colab": {
          "base_uri": "https://localhost:8080/",
          "height": 214
        },
        "id": "Zp8Ij4Vkxy0K",
        "outputId": "27e34818-aa12-411a-b508-0c3cbfc450fa"
      },
      "id": "Zp8Ij4Vkxy0K",
      "execution_count": null,
      "outputs": [
        {
          "output_type": "display_data",
          "data": {
            "text/plain": [
              "<Figure size 3000x480 with 1 Axes>"
            ],
            "image/png": "[encoded data removed]"
          },
          "metadata": {}
        }
      ]
    },
    {
      "cell_type": "markdown",
      "source": [
        "### Growth on different substrates"
      ],
      "metadata": {
        "id": "aiyk5_it1Y2s"
      },
      "id": "aiyk5_it1Y2s"
    },
    {
      "cell_type": "code",
      "source": [
        "original_model.medium"
      ],
      "metadata": {
        "colab": {
          "base_uri": "https://localhost:8080/"
        },
        "id": "a-baOxvK2BVa",
        "outputId": "75d459fd-9717-4c3b-90b3-eb8b1e33d066"
      },
      "id": "a-baOxvK2BVa",
      "execution_count": null,
      "outputs": [
        {
          "output_type": "execute_result",
          "data": {
            "text/plain": [
              "{'EX_pi_e': 1000.0,\n",
              " 'EX_h_e': 1000.0,\n",
              " 'EX_fe3_e': 0.05,\n",
              " 'EX_mn2_e': 1000.0,\n",
              " 'EX_fe2_e': 0.05,\n",
              " 'EX_glc__D_e': 15.0,\n",
              " 'EX_zn2_e': 1000.0,\n",
              " 'EX_mg2_e': 1000.0,\n",
              " 'EX_ca2_e': 1000.0,\n",
              " 'EX_ni2_e': 1000.0,\n",
              " 'EX_cu2_e': 1000.0,\n",
              " 'EX_cobalt2_e': 1000.0,\n",
              " 'EX_h2o_e': 1000.0,\n",
              " 'EX_mobd_e': 1000.0,\n",
              " 'EX_so4_e': 1000.0,\n",
              " 'EX_k_e': 1000.0,\n",
              " 'EX_o2_e': 1000.0,\n",
              " 'EX_cl_e': 1000.0,\n",
              " 'EX_n2_e': 1000.0}"
            ]
          },
          "metadata": {},
          "execution_count": 66
        }
      ]
    },
    {
      "cell_type": "code",
      "source": [
        "# Default growth (glucose)\n",
        "model = original_model.copy()\n",
        "model.optimize().objective_value"
      ],
      "metadata": {
        "colab": {
          "base_uri": "https://localhost:8080/"
        },
        "id": "1G7a-QSmxywC",
        "outputId": "e8dbe12a-4197-4025-b7f6-0383f69aee55"
      },
      "id": "1G7a-QSmxywC",
      "execution_count": null,
      "outputs": [
        {
          "output_type": "execute_result",
          "data": {
            "text/plain": [
              "0.9308245166661775"
            ]
          },
          "metadata": {},
          "execution_count": 69
        }
      ]
    },
    {
      "cell_type": "code",
      "source": [
        "# No glucose >:(\n",
        "model = original_model.copy()\n",
        "model.reactions.EX_glc__D_e.bounds = [0, 0]\n",
        "model.optimize().objective_value"
      ],
      "metadata": {
        "colab": {
          "base_uri": "https://localhost:8080/"
        },
        "id": "1NzQvMl-1hIi",
        "outputId": "934f3763-545b-4ae0-ed01-215d1320a59c"
      },
      "id": "1NzQvMl-1hIi",
      "execution_count": null,
      "outputs": [
        {
          "output_type": "stream",
          "name": "stderr",
          "text": [
            "/usr/local/lib/python3.11/dist-packages/cobra/util/solver.py:554: UserWarning: Solver status is 'infeasible'.\n",
            "  warn(f\"Solver status is '{status}'.\", UserWarning)\n"
          ]
        },
        {
          "output_type": "execute_result",
          "data": {
            "text/plain": [
              "0.0"
            ]
          },
          "metadata": {},
          "execution_count": 76
        }
      ]
    },
    {
      "cell_type": "code",
      "source": [
        "# Fructose!\n",
        "model = original_model.copy()\n",
        "model.reactions.EX_glc__D_e.bounds = [0, 0]\n",
        "model.reactions.EX_fru_e.bounds = [-15, -15]\n",
        "model.optimize().objective_value"
      ],
      "metadata": {
        "colab": {
          "base_uri": "https://localhost:8080/"
        },
        "id": "ZJFDDgjF3b2z",
        "outputId": "9c797334-09b4-49ef-cb37-5ae5c984f564"
      },
      "id": "ZJFDDgjF3b2z",
      "execution_count": null,
      "outputs": [
        {
          "output_type": "execute_result",
          "data": {
            "text/plain": [
              "0.9661466052333049"
            ]
          },
          "metadata": {},
          "execution_count": 78
        }
      ]
    },
    {
      "cell_type": "code",
      "source": [
        "# Sucrose!\n",
        "model = original_model.copy()\n",
        "model.reactions.EX_glc__D_e.bounds = [0, 0]\n",
        "model.reactions.EX_sucr_e.bounds = [-15, -15]\n",
        "model.optimize().objective_value"
      ],
      "metadata": {
        "colab": {
          "base_uri": "https://localhost:8080/"
        },
        "id": "Tt5WUXar3PvP",
        "outputId": "39ff2817-0b37-4301-efe8-8e732345e010"
      },
      "id": "Tt5WUXar3PvP",
      "execution_count": null,
      "outputs": [
        {
          "output_type": "execute_result",
          "data": {
            "text/plain": [
              "1.8944082892298726"
            ]
          },
          "metadata": {},
          "execution_count": 77
        }
      ]
    },
    {
      "cell_type": "code",
      "source": [
        "model = original_model.copy()\n",
        "model.reactions.EX_glc__D_e.bounds = [0, 0]\n",
        "model.reactions.EX_sucr_e.bounds = [-15, -15]\n",
        "solution = model.optimize()\n",
        "solution.fluxes.index"
      ],
      "metadata": {
        "colab": {
          "base_uri": "https://localhost:8080/",
          "height": 458
        },
        "id": "q_kyLmkz3wOc",
        "outputId": "7b5d5718-2d91-4435-f2a8-dec1f71f75e9"
      },
      "id": "q_kyLmkz3wOc",
      "execution_count": null,
      "outputs": [
        {
          "output_type": "execute_result",
          "data": {
            "text/plain": [
              "H2Otpp     -109.071448\n",
              "H2Otex     -109.071448\n",
              "CO2tpp     -104.387907\n",
              "CO2tex     -104.387907\n",
              "EX_o2_e     -85.932125\n",
              "               ...    \n",
              "EX_co2_e    104.387907\n",
              "EX_h2o_e    109.071448\n",
              "QCCOR       171.862560\n",
              "CYOO2pp     171.862560\n",
              "ATPS4rpp    322.647087\n",
              "Name: fluxes, Length: 2289, dtype: float64"
            ],
            "text/html": [
              "<div>\n",
              "<style scoped>\n",
              "    .dataframe tbody tr th:only-of-type {\n",
              "        vertical-align: middle;\n",
              "    }\n",
              "\n",
              "    .dataframe tbody tr th {\n",
              "        vertical-align: top;\n",
              "    }\n",
              "\n",
              "    .dataframe thead th {\n",
              "        text-align: right;\n",
              "    }\n",
              "</style>\n",
              "<table border=\"1\" class=\"dataframe\">\n",
              "  <thead>\n",
              "    <tr style=\"text-align: right;\">\n",
              "      <th></th>\n",
              "      <th>fluxes</th>\n",
              "    </tr>\n",
              "  </thead>\n",
              "  <tbody>\n",
              "    <tr>\n",
              "      <th>H2Otpp</th>\n",
              "      <td>-109.071448</td>\n",
              "    </tr>\n",
              "    <tr>\n",
              "      <th>H2Otex</th>\n",
              "      <td>-109.071448</td>\n",
              "    </tr>\n",
              "    <tr>\n",
              "      <th>CO2tpp</th>\n",
              "      <td>-104.387907</td>\n",
              "    </tr>\n",
              "    <tr>\n",
              "      <th>CO2tex</th>\n",
              "      <td>-104.387907</td>\n",
              "    </tr>\n",
              "    <tr>\n",
              "      <th>EX_o2_e</th>\n",
              "      <td>-85.932125</td>\n",
              "    </tr>\n",
              "    <tr>\n",
              "      <th>...</th>\n",
              "      <td>...</td>\n",
              "    </tr>\n",
              "    <tr>\n",
              "      <th>EX_co2_e</th>\n",
              "      <td>104.387907</td>\n",
              "    </tr>\n",
              "    <tr>\n",
              "      <th>EX_h2o_e</th>\n",
              "      <td>109.071448</td>\n",
              "    </tr>\n",
              "    <tr>\n",
              "      <th>QCCOR</th>\n",
              "      <td>171.862560</td>\n",
              "    </tr>\n",
              "    <tr>\n",
              "      <th>CYOO2pp</th>\n",
              "      <td>171.862560</td>\n",
              "    </tr>\n",
              "    <tr>\n",
              "      <th>ATPS4rpp</th>\n",
              "      <td>322.647087</td>\n",
              "    </tr>\n",
              "  </tbody>\n",
              "</table>\n",
              "<p>2289 rows × 1 columns</p>\n",
              "</div><br><label><b>dtype:</b> float64</label>"
            ]
          },
          "metadata": {},
          "execution_count": 91
        }
      ]
    },
    {
      "cell_type": "code",
      "source": [
        "model.reactions.CS.metabolites"
      ],
      "metadata": {
        "colab": {
          "base_uri": "https://localhost:8080/"
        },
        "id": "Kv7Wz4rf40DF",
        "outputId": "2bbf1bb2-cc3e-4563-c6be-6dc3202ef665"
      },
      "id": "Kv7Wz4rf40DF",
      "execution_count": null,
      "outputs": [
        {
          "output_type": "execute_result",
          "data": {
            "text/plain": [
              "{<Metabolite accoa_c at 0x7caed9408bd0>: -1.0,\n",
              " <Metabolite cit_c at 0x7caed92f1350>: 1.0,\n",
              " <Metabolite coa_c at 0x7caed92e1b90>: 1.0,\n",
              " <Metabolite h2o_c at 0x7caed92c4d50>: -1.0,\n",
              " <Metabolite h_c at 0x7caed93ff250>: 1.0,\n",
              " <Metabolite oaa_c at 0x7caed92b9090>: -1.0}"
            ]
          },
          "metadata": {},
          "execution_count": 94
        }
      ]
    },
    {
      "cell_type": "code",
      "source": [
        "model.metabolites.query(\"sucr\")[0]"
      ],
      "metadata": {
        "colab": {
          "base_uri": "https://localhost:8080/"
        },
        "id": "h4LK1BVF47lR",
        "outputId": "11d5403e-e0c8-44e3-ead9-9161ed18ca24"
      },
      "id": "h4LK1BVF47lR",
      "execution_count": null,
      "outputs": [
        {
          "output_type": "execute_result",
          "data": {
            "text/plain": [
              "[<Metabolite sucr_p at 0x7caed940a2d0>, <Metabolite sucr_e at 0x7caed92e0e10>]"
            ]
          },
          "metadata": {},
          "execution_count": 95
        }
      ]
    },
    {
      "cell_type": "code",
      "source": [
        "model.reactions.query(lambda r: model.metabolites.sucr_p in r.metabolites)"
      ],
      "metadata": {
        "colab": {
          "base_uri": "https://localhost:8080/"
        },
        "id": "FOF1GOuP4rQe",
        "outputId": "4e16570f-f0fc-4752-adb8-f43cb0ab6a24"
      },
      "id": "FOF1GOuP4rQe",
      "execution_count": null,
      "outputs": [
        {
          "output_type": "execute_result",
          "data": {
            "text/plain": [
              "[<Reaction SUCptspp at 0x7caed908dd90>, <Reaction SUCRtex at 0x7caed913fc90>]"
            ]
          },
          "metadata": {},
          "execution_count": 102
        }
      ]
    },
    {
      "cell_type": "code",
      "source": [
        "model.reactions.SUCptspp"
      ],
      "metadata": {
        "colab": {
          "base_uri": "https://localhost:8080/",
          "height": 204
        },
        "id": "rHxO9KkN5Lim",
        "outputId": "b99d70b2-8f90-45e0-816e-f6699e6dab16"
      },
      "id": "rHxO9KkN5Lim",
      "execution_count": null,
      "outputs": [
        {
          "output_type": "execute_result",
          "data": {
            "text/plain": [
              "<Reaction SUCptspp at 0x7caed908dd90>"
            ],
            "text/html": [
              "\n",
              "        <table>\n",
              "            <tr>\n",
              "                <td><strong>Reaction identifier</strong></td><td>SUCptspp</td>\n",
              "            </tr><tr>\n",
              "                <td><strong>Name</strong></td><td>Sucrose transport via PEP:Pyr (periplasm)</td>\n",
              "            </tr><tr>\n",
              "                <td><strong>Memory address</strong></td>\n",
              "                <td>0x7caed908dd90</td>\n",
              "            </tr><tr>\n",
              "                <td><strong>Stoichiometry</strong></td>\n",
              "                <td>\n",
              "                    <p style='text-align:right'>pep_c + sucr_p --> pyr_c + suc6p_c</p>\n",
              "                    <p style='text-align:right'>Phosphoenolpyruvate + Sucrose C12H22O11 --> Pyruvate + Sucrose 6-phosphate</p>\n",
              "                </td>\n",
              "            </tr><tr>\n",
              "                <td><strong>GPR</strong></td><td>Avin_12750 and Avin_12190 and Avin_12210 and Avin_12770</td>\n",
              "            </tr><tr>\n",
              "                <td><strong>Lower bound</strong></td><td>0.0</td>\n",
              "            </tr><tr>\n",
              "                <td><strong>Upper bound</strong></td><td>1000.0</td>\n",
              "            </tr>\n",
              "        </table>\n",
              "        "
            ]
          },
          "metadata": {},
          "execution_count": 98
        }
      ]
    },
    {
      "cell_type": "code",
      "source": [
        "model.reactions.query(lambda r: model.metabolites.suc6p_c in r.metabolites)"
      ],
      "metadata": {
        "colab": {
          "base_uri": "https://localhost:8080/"
        },
        "id": "zaNwctou5UVX",
        "outputId": "e1a6c25c-0f76-465b-beb9-9c716ef3687f"
      },
      "id": "zaNwctou5UVX",
      "execution_count": null,
      "outputs": [
        {
          "output_type": "execute_result",
          "data": {
            "text/plain": [
              "[<Reaction SUCptspp at 0x7caed908dd90>, <Reaction FFSD at 0x7caedb2b7650>]"
            ]
          },
          "metadata": {},
          "execution_count": 99
        }
      ]
    },
    {
      "cell_type": "code",
      "source": [
        "model.reactions.FFSD"
      ],
      "metadata": {
        "colab": {
          "base_uri": "https://localhost:8080/",
          "height": 204
        },
        "id": "tR5E2-Pc5WaN",
        "outputId": "d397eb07-658c-48ac-ef42-4e0e3dbd3b32"
      },
      "id": "tR5E2-Pc5WaN",
      "execution_count": null,
      "outputs": [
        {
          "output_type": "execute_result",
          "data": {
            "text/plain": [
              "<Reaction FFSD at 0x7caedb2b7650>"
            ],
            "text/html": [
              "\n",
              "        <table>\n",
              "            <tr>\n",
              "                <td><strong>Reaction identifier</strong></td><td>FFSD</td>\n",
              "            </tr><tr>\n",
              "                <td><strong>Name</strong></td><td>Beta-fructofuranosidase</td>\n",
              "            </tr><tr>\n",
              "                <td><strong>Memory address</strong></td>\n",
              "                <td>0x7caedb2b7650</td>\n",
              "            </tr><tr>\n",
              "                <td><strong>Stoichiometry</strong></td>\n",
              "                <td>\n",
              "                    <p style='text-align:right'>h2o_c + suc6p_c --> fru_c + g6p_c</p>\n",
              "                    <p style='text-align:right'>H2O H2O + Sucrose 6-phosphate --> D-Fructose + D-Glucose 6-phosphate</p>\n",
              "                </td>\n",
              "            </tr><tr>\n",
              "                <td><strong>GPR</strong></td><td></td>\n",
              "            </tr><tr>\n",
              "                <td><strong>Lower bound</strong></td><td>0.0</td>\n",
              "            </tr><tr>\n",
              "                <td><strong>Upper bound</strong></td><td>1000.0</td>\n",
              "            </tr>\n",
              "        </table>\n",
              "        "
            ]
          },
          "metadata": {},
          "execution_count": 100
        }
      ]
    },
    {
      "cell_type": "code",
      "source": [
        "# Sucrose constitutents (grows slightly more when already broken down)\n",
        "model = original_model.copy()\n",
        "model.reactions.EX_glc__D_e.bounds = [-15, -15]\n",
        "model.reactions.EX_fru_e.bounds = [-15, -15]\n",
        "model.optimize().objective_value"
      ],
      "metadata": {
        "colab": {
          "base_uri": "https://localhost:8080/"
        },
        "id": "2dzTj3593rOB",
        "outputId": "f43e36c1-09f1-45ec-e8dd-6187dac53a27"
      },
      "id": "2dzTj3593rOB",
      "execution_count": null,
      "outputs": [
        {
          "output_type": "execute_result",
          "data": {
            "text/plain": [
              "1.9163397358694587"
            ]
          },
          "metadata": {},
          "execution_count": 80
        }
      ]
    },
    {
      "cell_type": "code",
      "source": [
        "# Acetate\n",
        "model = original_model.copy()\n",
        "model.reactions.EX_glc__D_e.bounds = [0, 0]\n",
        "model.reactions.EX_ac_e.bounds = [-15, -15]\n",
        "model.optimize().objective_value"
      ],
      "metadata": {
        "colab": {
          "base_uri": "https://localhost:8080/"
        },
        "id": "ViW1p8245hsr",
        "outputId": "f20145fc-a752-4763-c2c8-9cec90ca090e"
      },
      "id": "ViW1p8245hsr",
      "execution_count": null,
      "outputs": [
        {
          "output_type": "execute_result",
          "data": {
            "text/plain": [
              "0.23509253246972547"
            ]
          },
          "metadata": {},
          "execution_count": 104
        }
      ]
    },
    {
      "cell_type": "markdown",
      "source": [
        "### dFBA (ignore)"
      ],
      "metadata": {
        "id": "axI70i36x0f5"
      },
      "id": "axI70i36x0f5"
    },
    {
      "cell_type": "code",
      "execution_count": null,
      "id": "97c9a377-7f19-4aad-b65a-8ff4fd45fda3",
      "metadata": {
        "id": "97c9a377-7f19-4aad-b65a-8ff4fd45fda3"
      },
      "outputs": [],
      "source": [
        "# My super-simple dFBA\n",
        "t_n = 100 # number of time points\n",
        "dt=0.5 # Time interval\n",
        "\n",
        "# Michaelis-Menten parameters for uptake\n",
        "KM=0.5\n",
        "Vmax=2\n",
        "\n",
        "t_vec = list(range(0,t_n))\n",
        "DFBA_biomass = [0] * t_n # initialize vector of glucose amounts\n",
        "DFBA_GLC = [0] * t_n # initialize vector of glucose amounts\n",
        "DFBA_ACE = [0] * t_n # initialize vector of acetate amounts\n",
        "\n",
        "DFBA_biomass[0]=0.1 # Initial amount of biomass\n",
        "DFBA_GLC[0]=20.0 # Initial amount of glucose\n",
        "DFBA_ACE[0]=0.0 # Initial amount of acetate\n",
        "\n",
        "# We limit O2, so the cell will secrete acetate\n",
        "# model.reactions.EX_o2_e.lower_bound=1\n",
        "# We lower the maintenance flux so acetate is not all lost in meintenance\n",
        "model.reactions.ATPM.lower_bound=1\n",
        "model.reactions.ATPM.upper_bound=1\n",
        "\n",
        "\n",
        "# Start loop on time intervals ------------------------------------------------\n",
        "for t_i in t_vec[1:]:\n",
        "  # # Compute glucose uptake rate using Michaelis-Menten\n",
        "  # DFBA_GLC_uptake = Vmax * DFBA_GLC[t_i-1]/(KM + DFBA_GLC[t_i-1])\n",
        "  # DFBA_ACE_uptake = Vmax * DFBA_ACE[t_i-1]/(KM + DFBA_ACE[t_i-1])\n",
        "\n",
        "  # # Impose Michaelis-Menten rate as maximal uptake rate for extracellular metabolites\n",
        "  # model.reactions.EX_glc__D_e.lower_bound = - DFBA_GLC_uptake\n",
        "  # model.reactions.EX_ac_e.lower_bound = - DFBA_ACE_uptake\n",
        "\n",
        "  # Compute standard FBA solution (and check if feasible)\n",
        "  solution = model.optimize()\n",
        "  if(solution.status=='optimal'):\n",
        "    vgrowth = solution.fluxes.BIOMASS_Av_DJ_core\n",
        "    v_GLC = solution.fluxes.EX_glc__D_e\n",
        "    v_ACE = solution.fluxes.EX_sbt__D_e\n",
        "  else:\n",
        "    vgrowth=0\n",
        "    v_GLC=0\n",
        "    v_ACE=0\n",
        "\n",
        "  # Update Biomass amount\n",
        "  DFBA_biomass[t_i]=DFBA_biomass[t_i-1] + vgrowth*DFBA_biomass[t_i-1]*dt\n",
        "\n",
        "  # Update glucose amount\n",
        "  DFBA_GLC[t_i]=DFBA_GLC[t_i-1] + v_GLC*DFBA_biomass[t_i-1]*dt\n",
        "  if(DFBA_GLC[t_i]<0):\n",
        "    DFBA_GLC[t_i]=0\n",
        "\n",
        "  # Update acetate amount\n",
        "  DFBA_ACE[t_i]=DFBA_ACE[t_i-1] + v_ACE*DFBA_biomass[t_i-1]*dt\n",
        "  if(DFBA_ACE[t_i]<0):\n",
        "    DFBA_ACE[t_i]=0\n",
        "\n",
        "# End loop on time intervals ------------------------------------------------\n"
      ]
    },
    {
      "cell_type": "code",
      "execution_count": null,
      "id": "a75349f7-943a-4a9d-9087-65557be41d2b",
      "metadata": {
        "id": "a75349f7-943a-4a9d-9087-65557be41d2b",
        "outputId": "387f0a7a-561a-4d71-9cdc-8add060eb1c4",
        "colab": {
          "base_uri": "https://localhost:8080/",
          "height": 896
        }
      },
      "outputs": [
        {
          "output_type": "display_data",
          "data": {
            "text/plain": [
              "<Figure size 640x480 with 1 Axes>"
            ],
            "image/png": "[encoded data removed]"
          },
          "metadata": {}
        },
        {
          "output_type": "execute_result",
          "data": {
            "text/plain": [
              "Text(0, 0.5, 'Extracellular Acetate')"
            ]
          },
          "metadata": {},
          "execution_count": 27
        },
        {
          "output_type": "display_data",
          "data": {
            "text/plain": [
              "<Figure size 640x480 with 2 Axes>"
            ],
            "image/png": "[encoded data removed]"
          },
          "metadata": {}
        }
      ],
      "source": [
        "# plot results\n",
        "plt.plot(t_vec,(DFBA_biomass))\n",
        "plt.xlabel('time steps')\n",
        "plt.ylabel('Biomass')\n",
        "plt.show()\n",
        "\n",
        "ax = plt.subplot(111)\n",
        "ax.plot(t_vec,DFBA_GLC)\n",
        "ax2 = plt.twinx(ax)\n",
        "ax2.plot(t_vec,DFBA_ACE, color='r')\n",
        "\n",
        "ax.set_ylabel('Extracellular Glucose', color='b')\n",
        "ax2.set_ylabel('Extracellular Acetate', color='r')"
      ]
    },
    {
      "cell_type": "code",
      "execution_count": null,
      "id": "ee2b82e0-d1dc-4cde-8d60-4a2f7de01995",
      "metadata": {
        "id": "ee2b82e0-d1dc-4cde-8d60-4a2f7de01995"
      },
      "outputs": [],
      "source": []
    }
  ],
  "metadata": {
    "kernelspec": {
      "display_name": "Python 3 (ipykernel)",
      "language": "python",
      "name": "python3"
    },
    "language_info": {
      "codemirror_mode": {
        "name": "ipython",
        "version": 3
      },
      "file_extension": ".py",
      "mimetype": "text/x-python",
      "name": "python",
      "nbconvert_exporter": "python",
      "pygments_lexer": "ipython3",
      "version": "3.11.4"
    },
    "colab": {
      "provenance": []
    }
  },
  "nbformat": 4,
  "nbformat_minor": 5
}