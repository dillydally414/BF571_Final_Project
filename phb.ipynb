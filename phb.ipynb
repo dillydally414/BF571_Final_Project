{
 "cells": [
  {
   "cell_type": "code",
   "execution_count": 1,
   "id": "64b0d632-c4e1-431a-b2c0-16f8ce88b96c",
   "metadata": {
    "id": "64b0d632-c4e1-431a-b2c0-16f8ce88b96c"
   },
   "outputs": [],
   "source": [
    "import numpy as np # Imports Python numerical library\n",
    "import seaborn as sns # Imports Library for drawing heatmaps\n",
    "import matplotlib.pyplot as plt # Import Library for plotting graphs\n",
    "from scipy.optimize import linprog # Imports Linear Programming function\n",
    "from scipy.optimize import linprog_verbose_callback # Imports Linear Programming function\n",
    "from IPython.display import IFrame # Imports HTML element loader\n",
    "import time"
   ]
  },
  {
   "cell_type": "code",
   "execution_count": 2,
   "id": "3392c6e6-2dd4-4909-92df-dfa13b6a9385",
   "metadata": {
    "id": "3392c6e6-2dd4-4909-92df-dfa13b6a9385"
   },
   "outputs": [],
   "source": [
    "import cobra\n",
    "from time import sleep"
   ]
  },
  {
   "cell_type": "code",
   "execution_count": 3,
   "id": "df0392a0-90e6-4434-b322-a86be218da31",
   "metadata": {
    "id": "df0392a0-90e6-4434-b322-a86be218da31"
   },
   "outputs": [],
   "source": [
    "model = cobra.io.read_sbml_model('./iAA1300_C.xml')\n",
    "original_model = model.copy()"
   ]
  },
  {
   "cell_type": "markdown",
   "id": "NSugEoBa71Ti",
   "metadata": {
    "id": "NSugEoBa71Ti"
   },
   "source": [
    "### Set the objective to maximize the reaction 'PHBS_syn'"
   ]
  },
  {
   "cell_type": "code",
   "execution_count": 53,
   "id": "3aa11072-f314-44f8-ac4c-1842b41cc8a3",
   "metadata": {
    "colab": {
     "base_uri": "https://localhost:8080/"
    },
    "id": "3aa11072-f314-44f8-ac4c-1842b41cc8a3",
    "outputId": "a5cb7aaf-935e-4ede-f4bd-5bc86dce77cd"
   },
   "outputs": [
    {
     "name": "stdout",
     "output_type": "stream",
     "text": [
      "Execution time in seconds: 0.0494840145111084\n",
      "Maximum objective =  17.82358913813454\n",
      "Status =  optimal\n"
     ]
    }
   ],
   "source": [
    "model.objective = 'PHBS_syn'\n",
    "startTime = time.time()\n",
    "solution = model.optimize()\n",
    "executionTime = (time.time() - startTime)\n",
    "print('Execution time in seconds: ' + str(executionTime))\n",
    "print('Maximum objective = ',solution.objective_value)\n",
    "print('Status = ',solution.status)\n"
   ]
  },
  {
   "cell_type": "code",
   "execution_count": 5,
   "id": "cd955a30-a016-415d-89f5-ab26d116edc4",
   "metadata": {
    "colab": {
     "base_uri": "https://localhost:8080/",
     "height": 190
    },
    "id": "cd955a30-a016-415d-89f5-ab26d116edc4",
    "outputId": "18ab92f2-6be6-45ff-c89d-aa153b2f5e04"
   },
   "outputs": [
    {
     "data": {
      "text/html": [
       "\n",
       "        <table>\n",
       "            <tr>\n",
       "                <td><strong>Name</strong></td>\n",
       "                <td>iAA1300</td>\n",
       "            </tr><tr>\n",
       "                <td><strong>Memory address</strong></td>\n",
       "                <td>14a02c88b550</td>\n",
       "            </tr><tr>\n",
       "                <td><strong>Number of metabolites</strong></td>\n",
       "                <td>1960</td>\n",
       "            </tr><tr>\n",
       "                <td><strong>Number of reactions</strong></td>\n",
       "                <td>2289</td>\n",
       "            </tr><tr>\n",
       "                <td><strong>Number of genes</strong></td>\n",
       "                <td>1300</td>\n",
       "            </tr><tr>\n",
       "                <td><strong>Number of groups</strong></td>\n",
       "                <td>0</td>\n",
       "            </tr><tr>\n",
       "                <td><strong>Objective expression</strong></td>\n",
       "                <td>1.0*BIOMASS_Av_DJ_core - 1.0*BIOMASS_Av_DJ_core_reverse_428bc</td>\n",
       "            </tr><tr>\n",
       "                <td><strong>Compartments</strong></td>\n",
       "                <td>c, e, p</td>\n",
       "            </tr>\n",
       "          </table>"
      ],
      "text/plain": [
       "<Model iAA1300 at 0x14a02c88b550>"
      ]
     },
     "execution_count": 5,
     "metadata": {},
     "output_type": "execute_result"
    }
   ],
   "source": [
    "model"
   ]
  },
  {
   "cell_type": "code",
   "execution_count": 60,
   "id": "UFVEOTj-yJ4x",
   "metadata": {
    "colab": {
     "base_uri": "https://localhost:8080/",
     "height": 1000
    },
    "id": "UFVEOTj-yJ4x",
    "outputId": "64a1dd03-8caf-4b99-f427-01a52ddb14db"
   },
   "outputs": [
    {
     "data": {
      "text/html": [
       "<h3>Objective</h3><p>1.0 PHBS_syn = 17.823589138134615</p><h4>Uptake</h4><table border=\"1\" class=\"dataframe\">\n",
       "  <thead>\n",
       "    <tr style=\"text-align: right;\">\n",
       "      <th>Metabolite</th>\n",
       "      <th>Reaction</th>\n",
       "      <th>Flux</th>\n",
       "      <th>C-Number</th>\n",
       "      <th>C-Flux</th>\n",
       "    </tr>\n",
       "  </thead>\n",
       "  <tbody>\n",
       "    <tr>\n",
       "      <td>glc__D_e</td>\n",
       "      <td>EX_glc__D_e</td>\n",
       "      <td>15</td>\n",
       "      <td>6</td>\n",
       "      <td>100.00%</td>\n",
       "    </tr>\n",
       "    <tr>\n",
       "      <td>o2_e</td>\n",
       "      <td>EX_o2_e</td>\n",
       "      <td>9.794</td>\n",
       "      <td>0</td>\n",
       "      <td>0.00%</td>\n",
       "    </tr>\n",
       "    <tr>\n",
       "      <td>phbg_c</td>\n",
       "      <td>SK_phbg_c</td>\n",
       "      <td>17.82</td>\n",
       "      <td>0</td>\n",
       "      <td>0.00%</td>\n",
       "    </tr>\n",
       "  </tbody>\n",
       "</table><h4>Secretion</h4><table border=\"1\" class=\"dataframe\">\n",
       "  <thead>\n",
       "    <tr style=\"text-align: right;\">\n",
       "      <th>Metabolite</th>\n",
       "      <th>Reaction</th>\n",
       "      <th>Flux</th>\n",
       "      <th>C-Number</th>\n",
       "      <th>C-Flux</th>\n",
       "    </tr>\n",
       "  </thead>\n",
       "  <tbody>\n",
       "    <tr>\n",
       "      <td>PHB_c</td>\n",
       "      <td>DM_PHB_c</td>\n",
       "      <td>-17.82</td>\n",
       "      <td>4</td>\n",
       "      <td>79.22%</td>\n",
       "    </tr>\n",
       "    <tr>\n",
       "      <td>co2_e</td>\n",
       "      <td>EX_co2_e</td>\n",
       "      <td>-18.71</td>\n",
       "      <td>1</td>\n",
       "      <td>20.78%</td>\n",
       "    </tr>\n",
       "    <tr>\n",
       "      <td>h2o_e</td>\n",
       "      <td>EX_h2o_e</td>\n",
       "      <td>-36.53</td>\n",
       "      <td>0</td>\n",
       "      <td>0.00%</td>\n",
       "    </tr>\n",
       "  </tbody>\n",
       "</table>"
      ],
      "text/plain": [
       "<cobra.summary.model_summary.ModelSummary at 0x14a01eaf2f40>"
      ]
     },
     "execution_count": 60,
     "metadata": {},
     "output_type": "execute_result"
    }
   ],
   "source": [
    "model.summary()"
   ]
  },
  {
   "cell_type": "code",
   "execution_count": 61,
   "id": "88b92c10-310d-403c-91fc-1b395bcc454f",
   "metadata": {
    "colab": {
     "base_uri": "https://localhost:8080/"
    },
    "id": "88b92c10-310d-403c-91fc-1b395bcc454f",
    "outputId": "280e2320-acfe-46f0-9041-f36d5e57b843"
   },
   "outputs": [
    {
     "data": {
      "text/plain": [
       "{'EX_pi_e': 1000.0,\n",
       " 'EX_h_e': 1000.0,\n",
       " 'EX_fe3_e': 0.05,\n",
       " 'EX_mn2_e': 1000.0,\n",
       " 'EX_fe2_e': 0.05,\n",
       " 'EX_glc__D_e': 15.0,\n",
       " 'EX_zn2_e': 1000.0,\n",
       " 'EX_mg2_e': 1000.0,\n",
       " 'EX_ca2_e': 1000.0,\n",
       " 'EX_ni2_e': 1000.0,\n",
       " 'EX_cu2_e': 1000.0,\n",
       " 'EX_cobalt2_e': 1000.0,\n",
       " 'EX_h2o_e': 1000.0,\n",
       " 'EX_mobd_e': 1000.0,\n",
       " 'EX_so4_e': 1000.0,\n",
       " 'EX_k_e': 1000.0,\n",
       " 'EX_o2_e': 1000.0,\n",
       " 'EX_cl_e': 1000.0,\n",
       " 'EX_n2_e': 1000.0}"
      ]
     },
     "execution_count": 61,
     "metadata": {},
     "output_type": "execute_result"
    }
   ],
   "source": [
    "model.medium"
   ]
  },
  {
   "cell_type": "code",
   "execution_count": 8,
   "id": "7503d57e-1d1d-4e65-ad0f-6dee501bcc12",
   "metadata": {
    "colab": {
     "base_uri": "https://localhost:8080/"
    },
    "id": "7503d57e-1d1d-4e65-ad0f-6dee501bcc12",
    "outputId": "d48d048d-4ed3-42bb-d403-05675964285b"
   },
   "outputs": [
    {
     "data": {
      "text/plain": [
       "{'c': '', 'e': '', 'p': ''}"
      ]
     },
     "execution_count": 8,
     "metadata": {},
     "output_type": "execute_result"
    }
   ],
   "source": [
    "model.compartments"
   ]
  },
  {
   "cell_type": "code",
   "execution_count": 49,
   "id": "8QxecVe3wTbO",
   "metadata": {
    "colab": {
     "base_uri": "https://localhost:8080/",
     "height": 256
    },
    "id": "8QxecVe3wTbO",
    "outputId": "beb35aec-6608-4f50-d9fa-f69755ebc9ce"
   },
   "outputs": [
    {
     "data": {
      "text/html": [
       "\n",
       "        <table>\n",
       "            <tr>\n",
       "                <td><strong>Reaction identifier</strong></td><td>PHBS_syn</td>\n",
       "            </tr><tr>\n",
       "                <td><strong>Name</strong></td><td>PHB synthetasa</td>\n",
       "            </tr><tr>\n",
       "                <td><strong>Memory address</strong></td>\n",
       "                <td>0x14a01f3a77c0</td>\n",
       "            </tr><tr>\n",
       "                <td><strong>Stoichiometry</strong></td>\n",
       "                <td>\n",
       "                    <p style='text-align:right'>3hbcoa__R_c + phbg_c --> PHB_c + coa_c</p>\n",
       "                    <p style='text-align:right'>(R)-3-Hydroxybutyryl-CoA + Growing PHB granule --> PHB granule + Coenzyme A</p>\n",
       "                </td>\n",
       "            </tr><tr>\n",
       "                <td><strong>GPR</strong></td><td>Avin_46290 or Avin_23630 or Avin_27080</td>\n",
       "            </tr><tr>\n",
       "                <td><strong>Lower bound</strong></td><td>0.0</td>\n",
       "            </tr><tr>\n",
       "                <td><strong>Upper bound</strong></td><td>1000.0</td>\n",
       "            </tr>\n",
       "        </table>\n",
       "        "
      ],
      "text/plain": [
       "<Reaction PHBS_syn at 0x14a01f3a77c0>"
      ]
     },
     "execution_count": 49,
     "metadata": {},
     "output_type": "execute_result"
    }
   ],
   "source": [
    "model.reactions.PHBS_syn"
   ]
  },
  {
   "cell_type": "code",
   "execution_count": 54,
   "id": "eUmOFZKIxy5J",
   "metadata": {
    "id": "eUmOFZKIxy5J"
   },
   "outputs": [],
   "source": [
    "def plot_fba(fluxes, reactions = reacs):\n",
    "  n = len(reactions)\n",
    "  v_pos = np.arange(n)\n",
    "  plt.bar(v_pos, fluxes, align='center')\n",
    "  plt.xticks(v_pos, reactions)\n",
    "  plt.ylabel('Flux Value')\n",
    "  plt.title('Solution Vector')\n",
    "  plt.show()"
   ]
  },
  {
   "cell_type": "code",
   "execution_count": 59,
   "id": "CKCW4tGqy6R4",
   "metadata": {
    "colab": {
     "base_uri": "https://localhost:8080/",
     "height": 711
    },
    "id": "CKCW4tGqy6R4",
    "outputId": "903c11de-83a3-4fc5-ff4b-d8745733c9ea"
   },
   "outputs": [
    {
     "data": {
      "text/plain": [
       "ALATA_D2     0.000000e+00\n",
       "SHCHD2      -6.066864e-19\n",
       "CPPPGO      -6.066864e-19\n",
       "GTHOr       -4.677822e-14\n",
       "GLYCTO2      0.000000e+00\n",
       "                 ...     \n",
       "QCCOR        1.958770e+01\n",
       "VNIT         0.000000e+00\n",
       "FENIT       -1.396931e-15\n",
       "CYTCBB3pp    0.000000e+00\n",
       "NADTRHD      0.000000e+00\n",
       "Name: fluxes, Length: 2289, dtype: float64"
      ]
     },
     "execution_count": 59,
     "metadata": {},
     "output_type": "execute_result"
    }
   ],
   "source": [
    "solution.fluxes"
   ]
  },
  {
   "cell_type": "code",
   "execution_count": 62,
   "id": "Zp8Ij4Vkxy0K",
   "metadata": {
    "colab": {
     "base_uri": "https://localhost:8080/",
     "height": 214
    },
    "id": "Zp8Ij4Vkxy0K",
    "outputId": "27e34818-aa12-411a-b508-0c3cbfc450fa"
   },
   "outputs": [
    {
     "data": {
      "image/png": "[encoded data removed]",
      "text/plain": [
       "<Figure size 2160x288 with 1 Axes>"
      ]
     },
     "metadata": {
      "needs_background": "light"
     },
     "output_type": "display_data"
    }
   ],
   "source": [
    "v_pos = np.arange(len(solution.fluxes))\n",
    "f = plt.figure()\n",
    "f.set_figwidth(30)\n",
    "plt.bar(v_pos, solution.fluxes, align='center')\n",
    "plt.xticks(v_pos)\n",
    "#f.set_figheight(8)\n",
    "plt.ylabel('Flux Value')\n",
    "plt.title('Solution Vector')\n",
    "plt.show()"
   ]
  },
  {
   "cell_type": "markdown",
   "id": "aiyk5_it1Y2s",
   "metadata": {
    "id": "aiyk5_it1Y2s"
   },
   "source": [
    "### Growth on different substrates"
   ]
  },
  {
   "cell_type": "code",
   "execution_count": 22,
   "id": "a-baOxvK2BVa",
   "metadata": {
    "colab": {
     "base_uri": "https://localhost:8080/"
    },
    "id": "a-baOxvK2BVa",
    "outputId": "75d459fd-9717-4c3b-90b3-eb8b1e33d066"
   },
   "outputs": [
    {
     "data": {
      "text/plain": [
       "{'EX_pi_e': 1000.0,\n",
       " 'EX_h_e': 1000.0,\n",
       " 'EX_fe3_e': 0.05,\n",
       " 'EX_mn2_e': 1000.0,\n",
       " 'EX_fe2_e': 0.05,\n",
       " 'EX_glc__D_e': 15.0,\n",
       " 'EX_zn2_e': 1000.0,\n",
       " 'EX_mg2_e': 1000.0,\n",
       " 'EX_ca2_e': 1000.0,\n",
       " 'EX_ni2_e': 1000.0,\n",
       " 'EX_cu2_e': 1000.0,\n",
       " 'EX_cobalt2_e': 1000.0,\n",
       " 'EX_h2o_e': 1000.0,\n",
       " 'EX_mobd_e': 1000.0,\n",
       " 'EX_so4_e': 1000.0,\n",
       " 'EX_k_e': 1000.0,\n",
       " 'EX_o2_e': 1000.0,\n",
       " 'EX_cl_e': 1000.0,\n",
       " 'EX_n2_e': 1000.0}"
      ]
     },
     "execution_count": 22,
     "metadata": {},
     "output_type": "execute_result"
    }
   ],
   "source": [
    "original_model.medium"
   ]
  },
  {
   "cell_type": "code",
   "execution_count": 23,
   "id": "1G7a-QSmxywC",
   "metadata": {
    "colab": {
     "base_uri": "https://localhost:8080/"
    },
    "id": "1G7a-QSmxywC",
    "outputId": "e8dbe12a-4197-4025-b7f6-0383f69aee55"
   },
   "outputs": [
    {
     "data": {
      "text/plain": [
       "0.9308245166661775"
      ]
     },
     "execution_count": 23,
     "metadata": {},
     "output_type": "execute_result"
    }
   ],
   "source": [
    "# Default growth (glucose)\n",
    "model = original_model.copy()\n",
    "model.optimize().objective_value"
   ]
  },
  {
   "cell_type": "code",
   "execution_count": 46,
   "id": "fdd7f4fa-6920-41ca-8061-5e53f80b9678",
   "metadata": {},
   "outputs": [],
   "source": [
    "model.objective = 'PHBS_syn'"
   ]
  },
  {
   "cell_type": "code",
   "execution_count": 48,
   "id": "1NzQvMl-1hIi",
   "metadata": {
    "colab": {
     "base_uri": "https://localhost:8080/"
    },
    "id": "1NzQvMl-1hIi",
    "outputId": "934f3763-545b-4ae0-ed01-215d1320a59c"
   },
   "outputs": [
    {
     "data": {
      "text/plain": [
       "0.9308245166661775"
      ]
     },
     "execution_count": 48,
     "metadata": {},
     "output_type": "execute_result"
    }
   ],
   "source": [
    "# PHBS?\n",
    "model = original_model.copy()\n",
    "model.optimize().objective_value"
   ]
  },
  {
   "cell_type": "code",
   "execution_count": 25,
   "id": "ZJFDDgjF3b2z",
   "metadata": {
    "colab": {
     "base_uri": "https://localhost:8080/"
    },
    "id": "ZJFDDgjF3b2z",
    "outputId": "9c797334-09b4-49ef-cb37-5ae5c984f564"
   },
   "outputs": [
    {
     "data": {
      "text/plain": [
       "0.9661466052333049"
      ]
     },
     "execution_count": 25,
     "metadata": {},
     "output_type": "execute_result"
    }
   ],
   "source": [
    "# Fructose!\n",
    "model = original_model.copy()\n",
    "model.reactions.EX_glc__D_e.bounds = [0, 0]\n",
    "model.reactions.EX_fru_e.bounds = [-15, -15]\n",
    "model.optimize().objective_value"
   ]
  },
  {
   "cell_type": "code",
   "execution_count": 26,
   "id": "Tt5WUXar3PvP",
   "metadata": {
    "colab": {
     "base_uri": "https://localhost:8080/"
    },
    "id": "Tt5WUXar3PvP",
    "outputId": "39ff2817-0b37-4301-efe8-8e732345e010"
   },
   "outputs": [
    {
     "data": {
      "text/plain": [
       "1.8944082892298726"
      ]
     },
     "execution_count": 26,
     "metadata": {},
     "output_type": "execute_result"
    }
   ],
   "source": [
    "# Sucrose!\n",
    "model = original_model.copy()\n",
    "model.reactions.EX_glc__D_e.bounds = [0, 0]\n",
    "model.reactions.EX_sucr_e.bounds = [-15, -15]\n",
    "model.optimize().objective_value"
   ]
  },
  {
   "cell_type": "code",
   "execution_count": 27,
   "id": "q_kyLmkz3wOc",
   "metadata": {
    "colab": {
     "base_uri": "https://localhost:8080/",
     "height": 458
    },
    "id": "q_kyLmkz3wOc",
    "outputId": "7b5d5718-2d91-4435-f2a8-dec1f71f75e9"
   },
   "outputs": [
    {
     "data": {
      "text/plain": [
       "Index(['ALATA_D2', 'SHCHD2', 'CPPPGO', 'GTHOr', 'GLYCTO2', 'GLYCTO3',\n",
       "       'GLYCTO4', 'TRPS2', 'G3PD5', 'EX_chol_e',\n",
       "       ...\n",
       "       'EX_mal__D_e', 'FBA', 'GND', 'FIX', 'NADH6', 'QCCOR', 'VNIT', 'FENIT',\n",
       "       'CYTCBB3pp', 'NADTRHD'],\n",
       "      dtype='object', length=2289)"
      ]
     },
     "execution_count": 27,
     "metadata": {},
     "output_type": "execute_result"
    }
   ],
   "source": [
    "model = original_model.copy()\n",
    "model.reactions.EX_glc__D_e.bounds = [0, 0]\n",
    "model.reactions.EX_sucr_e.bounds = [-15, -15]\n",
    "solution = model.optimize()\n",
    "solution.fluxes.index"
   ]
  },
  {
   "cell_type": "code",
   "execution_count": 28,
   "id": "Kv7Wz4rf40DF",
   "metadata": {
    "colab": {
     "base_uri": "https://localhost:8080/"
    },
    "id": "Kv7Wz4rf40DF",
    "outputId": "2bbf1bb2-cc3e-4563-c6be-6dc3202ef665"
   },
   "outputs": [
    {
     "data": {
      "text/plain": [
       "{<Metabolite accoa_c at 0x14a02259a850>: -1.0,\n",
       " <Metabolite h2o_c at 0x14a0224dab20>: -1.0,\n",
       " <Metabolite oaa_c at 0x14a0224f14c0>: -1.0,\n",
       " <Metabolite h_c at 0x14a022599d30>: 1.0,\n",
       " <Metabolite cit_c at 0x14a0224b5df0>: 1.0,\n",
       " <Metabolite coa_c at 0x14a022535970>: 1.0}"
      ]
     },
     "execution_count": 28,
     "metadata": {},
     "output_type": "execute_result"
    }
   ],
   "source": [
    "model.reactions.CS.metabolites"
   ]
  },
  {
   "cell_type": "code",
   "execution_count": 41,
   "id": "h4LK1BVF47lR",
   "metadata": {
    "colab": {
     "base_uri": "https://localhost:8080/"
    },
    "id": "h4LK1BVF47lR",
    "outputId": "11d5403e-e0c8-44e3-ead9-9161ed18ca24"
   },
   "outputs": [
    {
     "data": {
      "text/html": [
       "\n",
       "        <table>\n",
       "            <tr>\n",
       "                <td><strong>Metabolite identifier</strong></td><td>phbg_c</td>\n",
       "            </tr><tr>\n",
       "                <td><strong>Name</strong></td><td>Growing PHB granule</td>\n",
       "            </tr><tr>\n",
       "                <td><strong>Memory address</strong></td>\n",
       "                <td>0x14a0204de940</td>\n",
       "            </tr><tr>\n",
       "                <td><strong>Formula</strong></td><td>R</td>\n",
       "            </tr><tr>\n",
       "                <td><strong>Compartment</strong></td><td>c</td>\n",
       "            </tr><tr>\n",
       "                <td><strong>In 2 reaction(s)</strong></td><td>\n",
       "                    SK_phbg_c, PHBS_syn\n",
       "                    </td>\n",
       "            </tr>\n",
       "        </table>"
      ],
      "text/plain": [
       "<Metabolite phbg_c at 0x14a0204de940>"
      ]
     },
     "execution_count": 41,
     "metadata": {},
     "output_type": "execute_result"
    }
   ],
   "source": [
    "model.metabolites.query(\"phb\")[1]"
   ]
  },
  {
   "cell_type": "code",
   "execution_count": 42,
   "id": "0febad8f-586c-44d0-893f-494f32f705f5",
   "metadata": {},
   "outputs": [
    {
     "data": {
      "text/html": [
       "\n",
       "        <table>\n",
       "            <tr>\n",
       "                <td><strong>Reaction identifier</strong></td><td>PHBS_syn</td>\n",
       "            </tr><tr>\n",
       "                <td><strong>Name</strong></td><td>PHB synthetasa</td>\n",
       "            </tr><tr>\n",
       "                <td><strong>Memory address</strong></td>\n",
       "                <td>0x14a023c642e0</td>\n",
       "            </tr><tr>\n",
       "                <td><strong>Stoichiometry</strong></td>\n",
       "                <td>\n",
       "                    <p style='text-align:right'>3hbcoa__R_c + phbg_c --> PHB_c + coa_c</p>\n",
       "                    <p style='text-align:right'>(R)-3-Hydroxybutyryl-CoA + Growing PHB granule --> PHB granule + Coenzyme A</p>\n",
       "                </td>\n",
       "            </tr><tr>\n",
       "                <td><strong>GPR</strong></td><td>Avin_46290 or Avin_23630 or Avin_27080</td>\n",
       "            </tr><tr>\n",
       "                <td><strong>Lower bound</strong></td><td>0.0</td>\n",
       "            </tr><tr>\n",
       "                <td><strong>Upper bound</strong></td><td>1000.0</td>\n",
       "            </tr>\n",
       "        </table>\n",
       "        "
      ],
      "text/plain": [
       "<Reaction PHBS_syn at 0x14a023c642e0>"
      ]
     },
     "execution_count": 42,
     "metadata": {},
     "output_type": "execute_result"
    }
   ],
   "source": [
    "model.reactions.query(\"PHBS_syn\")[0]"
   ]
  },
  {
   "cell_type": "code",
   "execution_count": 30,
   "id": "FOF1GOuP4rQe",
   "metadata": {
    "colab": {
     "base_uri": "https://localhost:8080/"
    },
    "id": "FOF1GOuP4rQe",
    "outputId": "4e16570f-f0fc-4752-adb8-f43cb0ab6a24"
   },
   "outputs": [
    {
     "data": {
      "text/plain": [
       "[<Reaction SUCptspp at 0x14a02231adf0>, <Reaction SUCRtex at 0x14a02228e6d0>]"
      ]
     },
     "execution_count": 30,
     "metadata": {},
     "output_type": "execute_result"
    }
   ],
   "source": [
    "model.reactions.query(lambda r: model.metabolites.sucr_p in r.metabolites)"
   ]
  },
  {
   "cell_type": "code",
   "execution_count": 35,
   "id": "ViW1p8245hsr",
   "metadata": {
    "colab": {
     "base_uri": "https://localhost:8080/"
    },
    "id": "ViW1p8245hsr",
    "outputId": "f20145fc-a752-4763-c2c8-9cec90ca090e"
   },
   "outputs": [
    {
     "data": {
      "text/plain": [
       "0.23509253246972547"
      ]
     },
     "execution_count": 35,
     "metadata": {},
     "output_type": "execute_result"
    }
   ],
   "source": [
    "# Acetate\n",
    "model = original_model.copy()\n",
    "model.reactions.EX_glc__D_e.bounds = [0, 0]\n",
    "model.reactions.EX_ac_e.bounds = [-15, -15]\n",
    "model.optimize().objective_value"
   ]
  }
 ],
 "metadata": {
  "colab": {
   "provenance": []
  },
  "kernelspec": {
   "display_name": "Python 3 (ipykernel)",
   "language": "python",
   "name": "python3"
  },
  "language_info": {
   "codemirror_mode": {
    "name": "ipython",
    "version": 3
   },
   "file_extension": ".py",
   "mimetype": "text/x-python",
   "name": "python",
   "nbconvert_exporter": "python",
   "pygments_lexer": "ipython3",
   "version": "3.9.9"
  }
 },
 "nbformat": 4,
 "nbformat_minor": 5
}
