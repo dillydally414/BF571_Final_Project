{
 "cells": [
  {
   "cell_type": "code",
   "execution_count": 1,
   "id": "64b0d632-c4e1-431a-b2c0-16f8ce88b96c",
   "metadata": {
    "id": "64b0d632-c4e1-431a-b2c0-16f8ce88b96c"
   },
   "outputs": [],
   "source": [
    "import numpy as np # Imports Python numerical library\n",
    "import seaborn as sns # Imports Library for drawing heatmaps\n",
    "import matplotlib.pyplot as plt # Import Library for plotting graphs\n",
    "from scipy.optimize import linprog # Imports Linear Programming function\n",
    "from scipy.optimize import linprog_verbose_callback # Imports Linear Programming function\n",
    "from IPython.display import IFrame # Imports HTML element loader\n",
    "import time\n",
    "import networkx as nx\n",
    "import re \n",
    "import cometspy as c\n",
    "import pandas as pd\n",
    "import sys"
   ]
  },
  {
   "cell_type": "code",
   "execution_count": 2,
   "id": "3392c6e6-2dd4-4909-92df-dfa13b6a9385",
   "metadata": {
    "id": "3392c6e6-2dd4-4909-92df-dfa13b6a9385"
   },
   "outputs": [],
   "source": [
    "import cobra\n",
    "from time import sleep"
   ]
  },
  {
   "cell_type": "code",
   "execution_count": 77,
   "id": "df0392a0-90e6-4434-b322-a86be218da31",
   "metadata": {
    "id": "df0392a0-90e6-4434-b322-a86be218da31"
   },
   "outputs": [],
   "source": [
    "model = cobra.io.read_sbml_model('./iAA1300_C.xml')"
   ]
  },
  {
   "cell_type": "markdown",
   "id": "NSugEoBa71Ti",
   "metadata": {
    "id": "NSugEoBa71Ti"
   },
   "source": [
    "### Set the objective to maximize the reaction 'PHBS_syn'"
   ]
  },
  {
   "cell_type": "code",
   "execution_count": 4,
   "id": "3aa11072-f314-44f8-ac4c-1842b41cc8a3",
   "metadata": {
    "colab": {
     "base_uri": "https://localhost:8080/"
    },
    "id": "3aa11072-f314-44f8-ac4c-1842b41cc8a3",
    "outputId": "a5cb7aaf-935e-4ede-f4bd-5bc86dce77cd"
   },
   "outputs": [
    {
     "name": "stdout",
     "output_type": "stream",
     "text": [
      "Execution time in seconds: 0.1827256679534912\n",
      "Maximum objective =  0.9308245166661823\n",
      "Status =  optimal\n"
     ]
    }
   ],
   "source": [
    "\n",
    "startTime = time.time()\n",
    "solution = model.optimize()\n",
    "executionTime = (time.time() - startTime)\n",
    "print('Execution time in seconds: ' + str(executionTime))\n",
    "print('Maximum objective = ',solution.objective_value)\n",
    "print('Status = ',solution.status)\n"
   ]
  },
  {
   "cell_type": "code",
   "execution_count": 5,
   "id": "cd955a30-a016-415d-89f5-ab26d116edc4",
   "metadata": {
    "colab": {
     "base_uri": "https://localhost:8080/",
     "height": 190
    },
    "id": "cd955a30-a016-415d-89f5-ab26d116edc4",
    "outputId": "18ab92f2-6be6-45ff-c89d-aa153b2f5e04"
   },
   "outputs": [
    {
     "data": {
      "text/html": [
       "\n",
       "        <table>\n",
       "            <tr>\n",
       "                <td><strong>Name</strong></td>\n",
       "                <td>iAA1300</td>\n",
       "            </tr><tr>\n",
       "                <td><strong>Memory address</strong></td>\n",
       "                <td>15497dcbe9d0</td>\n",
       "            </tr><tr>\n",
       "                <td><strong>Number of metabolites</strong></td>\n",
       "                <td>1960</td>\n",
       "            </tr><tr>\n",
       "                <td><strong>Number of reactions</strong></td>\n",
       "                <td>2289</td>\n",
       "            </tr><tr>\n",
       "                <td><strong>Number of genes</strong></td>\n",
       "                <td>1300</td>\n",
       "            </tr><tr>\n",
       "                <td><strong>Number of groups</strong></td>\n",
       "                <td>0</td>\n",
       "            </tr><tr>\n",
       "                <td><strong>Objective expression</strong></td>\n",
       "                <td>1.0*BIOMASS_Av_DJ_core - 1.0*BIOMASS_Av_DJ_core_reverse_428bc</td>\n",
       "            </tr><tr>\n",
       "                <td><strong>Compartments</strong></td>\n",
       "                <td>c, e, p</td>\n",
       "            </tr>\n",
       "          </table>"
      ],
      "text/plain": [
       "<Model iAA1300 at 0x15497dcbe9d0>"
      ]
     },
     "execution_count": 5,
     "metadata": {},
     "output_type": "execute_result"
    }
   ],
   "source": [
    "model"
   ]
  },
  {
   "cell_type": "code",
   "execution_count": 6,
   "id": "d643e229-11ce-4361-8882-f3753a82a38b",
   "metadata": {},
   "outputs": [
    {
     "data": {
      "text/html": [
       "\n",
       "        <table>\n",
       "            <tr>\n",
       "                <td><strong>Metabolite identifier</strong></td><td>alg_e</td>\n",
       "            </tr><tr>\n",
       "                <td><strong>Name</strong></td><td>Alginate</td>\n",
       "            </tr><tr>\n",
       "                <td><strong>Memory address</strong></td>\n",
       "                <td>0x15497d5a9340</td>\n",
       "            </tr><tr>\n",
       "                <td><strong>Formula</strong></td><td>C6H7O6</td>\n",
       "            </tr><tr>\n",
       "                <td><strong>Compartment</strong></td><td>e</td>\n",
       "            </tr><tr>\n",
       "                <td><strong>In 3 reaction(s)</strong></td><td>\n",
       "                    BIOMASS_Az_DJ_core_75p37M, EX_alg_e, ALGtex\n",
       "                    </td>\n",
       "            </tr>\n",
       "        </table>"
      ],
      "text/plain": [
       "<Metabolite alg_e at 0x15497d5a9340>"
      ]
     },
     "execution_count": 6,
     "metadata": {},
     "output_type": "execute_result"
    }
   ],
   "source": [
    "model.metabolites.alg_e"
   ]
  },
  {
   "cell_type": "code",
   "execution_count": 7,
   "id": "UFVEOTj-yJ4x",
   "metadata": {
    "colab": {
     "base_uri": "https://localhost:8080/",
     "height": 1000
    },
    "id": "UFVEOTj-yJ4x",
    "outputId": "64a1dd03-8caf-4b99-f427-01a52ddb14db"
   },
   "outputs": [
    {
     "data": {
      "text/html": [
       "<h3>Objective</h3><p>1.0 BIOMASS_Av_DJ_core = 0.9308245166661823</p><h4>Uptake</h4><table border=\"1\" class=\"dataframe\">\n",
       "  <thead>\n",
       "    <tr style=\"text-align: right;\">\n",
       "      <th>Metabolite</th>\n",
       "      <th>Reaction</th>\n",
       "      <th>Flux</th>\n",
       "      <th>C-Number</th>\n",
       "      <th>C-Flux</th>\n",
       "    </tr>\n",
       "  </thead>\n",
       "  <tbody>\n",
       "    <tr>\n",
       "      <td>ca2_e</td>\n",
       "      <td>EX_ca2_e</td>\n",
       "      <td>0.004845</td>\n",
       "      <td>0</td>\n",
       "      <td>0.00%</td>\n",
       "    </tr>\n",
       "    <tr>\n",
       "      <td>cl_e</td>\n",
       "      <td>EX_cl_e</td>\n",
       "      <td>0.004845</td>\n",
       "      <td>0</td>\n",
       "      <td>0.00%</td>\n",
       "    </tr>\n",
       "    <tr>\n",
       "      <td>cobalt2_e</td>\n",
       "      <td>EX_cobalt2_e</td>\n",
       "      <td>2.327E-05</td>\n",
       "      <td>0</td>\n",
       "      <td>0.00%</td>\n",
       "    </tr>\n",
       "    <tr>\n",
       "      <td>cu2_e</td>\n",
       "      <td>EX_cu2_e</td>\n",
       "      <td>0.00066</td>\n",
       "      <td>0</td>\n",
       "      <td>0.00%</td>\n",
       "    </tr>\n",
       "    <tr>\n",
       "      <td>fe2_e</td>\n",
       "      <td>EX_fe2_e</td>\n",
       "      <td>0.007682</td>\n",
       "      <td>0</td>\n",
       "      <td>0.00%</td>\n",
       "    </tr>\n",
       "    <tr>\n",
       "      <td>fe3_e</td>\n",
       "      <td>EX_fe3_e</td>\n",
       "      <td>0.007268</td>\n",
       "      <td>0</td>\n",
       "      <td>0.00%</td>\n",
       "    </tr>\n",
       "    <tr>\n",
       "      <td>glc__D_e</td>\n",
       "      <td>EX_glc__D_e</td>\n",
       "      <td>15</td>\n",
       "      <td>6</td>\n",
       "      <td>100.00%</td>\n",
       "    </tr>\n",
       "    <tr>\n",
       "      <td>h_e</td>\n",
       "      <td>EX_h_e</td>\n",
       "      <td>1.161</td>\n",
       "      <td>0</td>\n",
       "      <td>0.00%</td>\n",
       "    </tr>\n",
       "    <tr>\n",
       "      <td>k_e</td>\n",
       "      <td>EX_k_e</td>\n",
       "      <td>0.1817</td>\n",
       "      <td>0</td>\n",
       "      <td>0.00%</td>\n",
       "    </tr>\n",
       "    <tr>\n",
       "      <td>mg2_e</td>\n",
       "      <td>EX_mg2_e</td>\n",
       "      <td>0.008075</td>\n",
       "      <td>0</td>\n",
       "      <td>0.00%</td>\n",
       "    </tr>\n",
       "    <tr>\n",
       "      <td>mn2_e</td>\n",
       "      <td>EX_mn2_e</td>\n",
       "      <td>0.0006432</td>\n",
       "      <td>0</td>\n",
       "      <td>0.00%</td>\n",
       "    </tr>\n",
       "    <tr>\n",
       "      <td>mobd_e</td>\n",
       "      <td>EX_mobd_e</td>\n",
       "      <td>6.516E-06</td>\n",
       "      <td>0</td>\n",
       "      <td>0.00%</td>\n",
       "    </tr>\n",
       "    <tr>\n",
       "      <td>n2_e</td>\n",
       "      <td>EX_n2_e</td>\n",
       "      <td>4.867</td>\n",
       "      <td>0</td>\n",
       "      <td>0.00%</td>\n",
       "    </tr>\n",
       "    <tr>\n",
       "      <td>ni2_e</td>\n",
       "      <td>EX_ni2_e</td>\n",
       "      <td>0.0003007</td>\n",
       "      <td>0</td>\n",
       "      <td>0.00%</td>\n",
       "    </tr>\n",
       "    <tr>\n",
       "      <td>o2_e</td>\n",
       "      <td>EX_o2_e</td>\n",
       "      <td>43.78</td>\n",
       "      <td>0</td>\n",
       "      <td>0.00%</td>\n",
       "    </tr>\n",
       "    <tr>\n",
       "      <td>pi_e</td>\n",
       "      <td>EX_pi_e</td>\n",
       "      <td>0.8979</td>\n",
       "      <td>0</td>\n",
       "      <td>0.00%</td>\n",
       "    </tr>\n",
       "    <tr>\n",
       "      <td>so4_e</td>\n",
       "      <td>EX_so4_e</td>\n",
       "      <td>0.1506</td>\n",
       "      <td>0</td>\n",
       "      <td>0.00%</td>\n",
       "    </tr>\n",
       "    <tr>\n",
       "      <td>zn2_e</td>\n",
       "      <td>EX_zn2_e</td>\n",
       "      <td>0.0003174</td>\n",
       "      <td>0</td>\n",
       "      <td>0.00%</td>\n",
       "    </tr>\n",
       "  </tbody>\n",
       "</table><h4>Secretion</h4><table border=\"1\" class=\"dataframe\">\n",
       "  <thead>\n",
       "    <tr style=\"text-align: right;\">\n",
       "      <th>Metabolite</th>\n",
       "      <th>Reaction</th>\n",
       "      <th>Flux</th>\n",
       "      <th>C-Number</th>\n",
       "      <th>C-Flux</th>\n",
       "    </tr>\n",
       "  </thead>\n",
       "  <tbody>\n",
       "    <tr>\n",
       "      <td>4crsol_c</td>\n",
       "      <td>DM_4crsol_c</td>\n",
       "      <td>-0.0002076</td>\n",
       "      <td>7</td>\n",
       "      <td>0.00%</td>\n",
       "    </tr>\n",
       "    <tr>\n",
       "      <td>5drib_c</td>\n",
       "      <td>DM_5drib_c</td>\n",
       "      <td>-0.0002094</td>\n",
       "      <td>5</td>\n",
       "      <td>0.00%</td>\n",
       "    </tr>\n",
       "    <tr>\n",
       "      <td>amob_c</td>\n",
       "      <td>DM_amob_c</td>\n",
       "      <td>-1.862E-06</td>\n",
       "      <td>15</td>\n",
       "      <td>0.00%</td>\n",
       "    </tr>\n",
       "    <tr>\n",
       "      <td>ade_e</td>\n",
       "      <td>EX_ade_e</td>\n",
       "      <td>-0.0002094</td>\n",
       "      <td>5</td>\n",
       "      <td>0.00%</td>\n",
       "    </tr>\n",
       "    <tr>\n",
       "      <td>co2_e</td>\n",
       "      <td>EX_co2_e</td>\n",
       "      <td>-52.85</td>\n",
       "      <td>1</td>\n",
       "      <td>99.99%</td>\n",
       "    </tr>\n",
       "    <tr>\n",
       "      <td>dxylnt_e</td>\n",
       "      <td>EX_dxylnt_e</td>\n",
       "      <td>-0.0006227</td>\n",
       "      <td>5</td>\n",
       "      <td>0.01%</td>\n",
       "    </tr>\n",
       "    <tr>\n",
       "      <td>fald_e</td>\n",
       "      <td>EX_fald_e</td>\n",
       "      <td>-1.862E-06</td>\n",
       "      <td>1</td>\n",
       "      <td>0.00%</td>\n",
       "    </tr>\n",
       "    <tr>\n",
       "      <td>h2o_e</td>\n",
       "      <td>EX_h2o_e</td>\n",
       "      <td>-62.52</td>\n",
       "      <td>0</td>\n",
       "      <td>0.00%</td>\n",
       "    </tr>\n",
       "  </tbody>\n",
       "</table>"
      ],
      "text/plain": [
       "<cobra.summary.model_summary.ModelSummary at 0x15497bb86a30>"
      ]
     },
     "execution_count": 7,
     "metadata": {},
     "output_type": "execute_result"
    }
   ],
   "source": [
    "model.summary()"
   ]
  },
  {
   "cell_type": "code",
   "execution_count": 8,
   "id": "88b92c10-310d-403c-91fc-1b395bcc454f",
   "metadata": {
    "colab": {
     "base_uri": "https://localhost:8080/"
    },
    "id": "88b92c10-310d-403c-91fc-1b395bcc454f",
    "outputId": "280e2320-acfe-46f0-9041-f36d5e57b843"
   },
   "outputs": [
    {
     "data": {
      "text/plain": [
       "{'EX_pi_e': 1000.0,\n",
       " 'EX_h_e': 1000.0,\n",
       " 'EX_fe3_e': 0.05,\n",
       " 'EX_mn2_e': 1000.0,\n",
       " 'EX_fe2_e': 0.05,\n",
       " 'EX_glc__D_e': 15.0,\n",
       " 'EX_zn2_e': 1000.0,\n",
       " 'EX_mg2_e': 1000.0,\n",
       " 'EX_ca2_e': 1000.0,\n",
       " 'EX_ni2_e': 1000.0,\n",
       " 'EX_cu2_e': 1000.0,\n",
       " 'EX_cobalt2_e': 1000.0,\n",
       " 'EX_h2o_e': 1000.0,\n",
       " 'EX_mobd_e': 1000.0,\n",
       " 'EX_so4_e': 1000.0,\n",
       " 'EX_k_e': 1000.0,\n",
       " 'EX_o2_e': 1000.0,\n",
       " 'EX_cl_e': 1000.0,\n",
       " 'EX_n2_e': 1000.0}"
      ]
     },
     "execution_count": 8,
     "metadata": {},
     "output_type": "execute_result"
    }
   ],
   "source": [
    "model.medium"
   ]
  },
  {
   "cell_type": "code",
   "execution_count": 9,
   "id": "7503d57e-1d1d-4e65-ad0f-6dee501bcc12",
   "metadata": {
    "colab": {
     "base_uri": "https://localhost:8080/"
    },
    "id": "7503d57e-1d1d-4e65-ad0f-6dee501bcc12",
    "outputId": "d48d048d-4ed3-42bb-d403-05675964285b"
   },
   "outputs": [
    {
     "data": {
      "text/plain": [
       "{'c': '', 'e': '', 'p': ''}"
      ]
     },
     "execution_count": 9,
     "metadata": {},
     "output_type": "execute_result"
    }
   ],
   "source": [
    "model.compartments"
   ]
  },
  {
   "cell_type": "code",
   "execution_count": 10,
   "id": "ce1bf014-93e0-4b19-91e6-d30e849f72f4",
   "metadata": {},
   "outputs": [
    {
     "data": {
      "text/html": [
       "\n",
       "        <table>\n",
       "            <tr>\n",
       "                <td><strong>Reaction identifier</strong></td><td>PHBS_syn</td>\n",
       "            </tr><tr>\n",
       "                <td><strong>Name</strong></td><td>PHB synthetasa</td>\n",
       "            </tr><tr>\n",
       "                <td><strong>Memory address</strong></td>\n",
       "                <td>0x15497be8a7c0</td>\n",
       "            </tr><tr>\n",
       "                <td><strong>Stoichiometry</strong></td>\n",
       "                <td>\n",
       "                    <p style='text-align:right'>3hbcoa__R_c + phbg_c --> PHB_c + coa_c</p>\n",
       "                    <p style='text-align:right'>(R)-3-Hydroxybutyryl-CoA + Growing PHB granule --> PHB granule + Coenzyme A</p>\n",
       "                </td>\n",
       "            </tr><tr>\n",
       "                <td><strong>GPR</strong></td><td>Avin_46290 or Avin_23630 or Avin_27080</td>\n",
       "            </tr><tr>\n",
       "                <td><strong>Lower bound</strong></td><td>0.0</td>\n",
       "            </tr><tr>\n",
       "                <td><strong>Upper bound</strong></td><td>1000.0</td>\n",
       "            </tr>\n",
       "        </table>\n",
       "        "
      ],
      "text/plain": [
       "<Reaction PHBS_syn at 0x15497be8a7c0>"
      ]
     },
     "execution_count": 10,
     "metadata": {},
     "output_type": "execute_result"
    }
   ],
   "source": [
    "model.reactions.PHBS_syn"
   ]
  },
  {
   "cell_type": "code",
   "execution_count": 11,
   "id": "8dd6e5d8-e438-45d1-bf86-f54a8bd7713f",
   "metadata": {},
   "outputs": [
    {
     "data": {
      "text/html": [
       "\n",
       "        <table>\n",
       "            <tr>\n",
       "                <td><strong>Metabolite identifier</strong></td><td>phbg_c</td>\n",
       "            </tr><tr>\n",
       "                <td><strong>Name</strong></td><td>Growing PHB granule</td>\n",
       "            </tr><tr>\n",
       "                <td><strong>Memory address</strong></td>\n",
       "                <td>0x15497d5a93a0</td>\n",
       "            </tr><tr>\n",
       "                <td><strong>Formula</strong></td><td>R</td>\n",
       "            </tr><tr>\n",
       "                <td><strong>Compartment</strong></td><td>c</td>\n",
       "            </tr><tr>\n",
       "                <td><strong>In 2 reaction(s)</strong></td><td>\n",
       "                    SK_phbg_c, PHBS_syn\n",
       "                    </td>\n",
       "            </tr>\n",
       "        </table>"
      ],
      "text/plain": [
       "<Metabolite phbg_c at 0x15497d5a93a0>"
      ]
     },
     "execution_count": 11,
     "metadata": {},
     "output_type": "execute_result"
    }
   ],
   "source": [
    "model.metabolites.get_by_id(\"phbg_c\")"
   ]
  },
  {
   "cell_type": "code",
   "execution_count": 12,
   "id": "8QxecVe3wTbO",
   "metadata": {
    "colab": {
     "base_uri": "https://localhost:8080/",
     "height": 256
    },
    "id": "8QxecVe3wTbO",
    "outputId": "beb35aec-6608-4f50-d9fa-f69755ebc9ce"
   },
   "outputs": [],
   "source": [
    "metabolite = model.metabolites.get_by_id(\"PHB_c\")"
   ]
  },
  {
   "cell_type": "code",
   "execution_count": 13,
   "id": "77f840e5-2002-4907-b18b-fff0676c1b0c",
   "metadata": {},
   "outputs": [],
   "source": [
    "G = nx.DiGraph()\n",
    "\n",
    "# Add the initial metabolite\n",
    "G.add_node(metabolite.id, type=\"metabolite\")\n",
    "\n",
    "def add_metabolite_neighbors(G, metabolite):\n",
    "    # First neighbors\n",
    "    for rxn in metabolite.reactions:\n",
    "        if rxn.id not in G.nodes:\n",
    "            G.add_node(rxn.id, type=\"reaction\")\n",
    "\n",
    "        if metabolite in rxn.products:\n",
    "            G.add_edge(rxn.id, metabolite.id)\n",
    "        else:\n",
    "            G.add_edge(metabolite.id, rxn.id)\n",
    "\n",
    "        for met in rxn.metabolites:\n",
    "            if met.id != metabolite.id:\n",
    "                if met.id not in G.nodes:\n",
    "                    G.add_node(met.id, type=\"metabolite\")\n",
    "                if met in rxn.products:\n",
    "                    G.add_edge(rxn.id, met.id)\n",
    "                else:\n",
    "                    G.add_edge(met.id, rxn.id)\n",
    "                    \n",
    "metabolites_of_interest = [\"PHB_c\", \"3hbcoa__R_c\", \"phbg_c\"]\n",
    "\n",
    "for metabolite in metabolites_of_interest:\n",
    "    met = model.metabolites.get_by_id(metabolite)\n",
    "    add_metabolite_neighbors(G, met)"
   ]
  },
  {
   "cell_type": "code",
   "execution_count": 14,
   "id": "a9e00b22-cd22-4a72-a9d6-67e2971f4a2d",
   "metadata": {},
   "outputs": [
    {
     "data": {
      "image/png": "[encoded data removed]",
      "text/plain": [
       "<Figure size 864x576 with 1 Axes>"
      ]
     },
     "metadata": {},
     "output_type": "display_data"
    }
   ],
   "source": [
    "node_colors = []\n",
    "for node in G.nodes:\n",
    "    if G.nodes[node].get('type') == \"reaction\":\n",
    "        node_colors.append('wheat')\n",
    "    else:\n",
    "        node_colors.append('paleturquoise')\n",
    "\n",
    "plt.figure(figsize=(12, 8))\n",
    "pos = nx.nx_pydot.pydot_layout(G, prog=\"dot\")\n",
    "nx.draw(G, pos, with_labels=True, node_size=2000, font_size=8, arrows=True, node_color=node_colors)\n",
    "edge_labels = nx.get_edge_attributes(G, 'label')\n",
    "nx.draw_networkx_edge_labels(G, pos, edge_labels=edge_labels)\n",
    "plt.title(f\"Neighborhood of PHB_c\")\n",
    "plt.savefig(\"phb_c_rxn_premod.png\")\n",
    "plt.show()"
   ]
  },
  {
   "cell_type": "markdown",
   "id": "dcc4ef74-0851-4f9a-ba2f-971487712ad4",
   "metadata": {},
   "source": [
    "#### There's an odd floating reaction from no where that requires phbg_c - what is this?\n",
    "\n",
    "phb_c is the \"growing phb granule\" - it has an associated sink reaction. Additionally, there is a demand reaction for PHB_c (our target metabolite) which is an abstraction of the cells metabolic demand for PHB (as it used as an energy storage).\n",
    "\n",
    "These abstractions are reasonable, but the structure of this reaction is not."
   ]
  },
  {
   "cell_type": "code",
   "execution_count": 15,
   "id": "ec24132a-e9c3-4188-a8f2-9acacb4170b5",
   "metadata": {},
   "outputs": [
    {
     "name": "stderr",
     "output_type": "stream",
     "text": [
      "No objective in listOfObjectives\n",
      "No objective coefficients in model. Unclear what should be optimized\n"
     ]
    }
   ],
   "source": [
    "test_model = cobra.io.read_sbml_model('Rba_sphCyc_model.xml')"
   ]
  },
  {
   "cell_type": "code",
   "execution_count": 16,
   "id": "3b1acc87-7774-43d2-814d-cc004d525efe",
   "metadata": {},
   "outputs": [
    {
     "data": {
      "text/html": [
       "\n",
       "        <table>\n",
       "            <tr>\n",
       "                <td><strong>Reaction identifier</strong></td><td>PHB_synthesis</td>\n",
       "            </tr><tr>\n",
       "                <td><strong>Name</strong></td><td>PHB_synthesis</td>\n",
       "            </tr><tr>\n",
       "                <td><strong>Memory address</strong></td>\n",
       "                <td>0x15497a76ff10</td>\n",
       "            </tr><tr>\n",
       "                <td><strong>Stoichiometry</strong></td>\n",
       "                <td>\n",
       "                    <p style='text-align:right'>CPD-650_c[c] --> CO-A_c[c] + PHB_c[c]</p>\n",
       "                    <p style='text-align:right'>(3R)-3-hydroxybutanoyl-CoA --> coenzyme A + Poly-beta-hydroxybutyrate</p>\n",
       "                </td>\n",
       "            </tr><tr>\n",
       "                <td><strong>GPR</strong></td><td></td>\n",
       "            </tr><tr>\n",
       "                <td><strong>Lower bound</strong></td><td>-0.0</td>\n",
       "            </tr><tr>\n",
       "                <td><strong>Upper bound</strong></td><td>1000.0</td>\n",
       "            </tr>\n",
       "        </table>\n",
       "        "
      ],
      "text/plain": [
       "<Reaction PHB_synthesis at 0x15497a76ff10>"
      ]
     },
     "execution_count": 16,
     "metadata": {},
     "output_type": "execute_result"
    }
   ],
   "source": [
    "test_model.reactions.PHB_synthesis\n"
   ]
  },
  {
   "cell_type": "code",
   "execution_count": 17,
   "id": "59f1ae53-2d9d-4b26-81f2-b08b9922b5de",
   "metadata": {},
   "outputs": [
    {
     "data": {
      "text/html": [
       "\n",
       "        <table>\n",
       "            <tr>\n",
       "                <td><strong>Metabolite identifier</strong></td><td>PHB_c[c]</td>\n",
       "            </tr><tr>\n",
       "                <td><strong>Name</strong></td><td>Poly-beta-hydroxybutyrate</td>\n",
       "            </tr><tr>\n",
       "                <td><strong>Memory address</strong></td>\n",
       "                <td>0x15497b6fb4c0</td>\n",
       "            </tr><tr>\n",
       "                <td><strong>Formula</strong></td><td>C20H30O10</td>\n",
       "            </tr><tr>\n",
       "                <td><strong>Compartment</strong></td><td>c</td>\n",
       "            </tr><tr>\n",
       "                <td><strong>In 2 reaction(s)</strong></td><td>\n",
       "                    EX_PHB_c[c], PHB_synthesis\n",
       "                    </td>\n",
       "            </tr>\n",
       "        </table>"
      ],
      "text/plain": [
       "<Metabolite PHB_c[c] at 0x15497b6fb4c0>"
      ]
     },
     "execution_count": 17,
     "metadata": {},
     "output_type": "execute_result"
    }
   ],
   "source": [
    "test_model.metabolites.get_by_id(\"PHB_c[c]\")"
   ]
  },
  {
   "cell_type": "code",
   "execution_count": 18,
   "id": "23a92655-8376-4683-95b3-1da792051496",
   "metadata": {},
   "outputs": [],
   "source": [
    "metabolite = test_model.metabolites.get_by_id(\"PHB_c[c]\")\n",
    "\n",
    "G = nx.DiGraph()\n",
    "\n",
    "# Add the initial metabolite\n",
    "G.add_node(metabolite.id, type=\"metabolite\")\n",
    "\n",
    "def add_metabolite_neighbors(G, metabolite):\n",
    "    # First neighbors\n",
    "    for rxn in metabolite.reactions:\n",
    "        if rxn.id not in G.nodes:\n",
    "            G.add_node(rxn.id, type=\"reaction\")\n",
    "\n",
    "        if metabolite in rxn.products:\n",
    "            G.add_edge(rxn.id, metabolite.id)\n",
    "        else:\n",
    "            G.add_edge(metabolite.id, rxn.id)\n",
    "\n",
    "        for met in rxn.metabolites:\n",
    "            if met.id != metabolite.id:\n",
    "                if met.id not in G.nodes:\n",
    "                    G.add_node(met.id, type=\"metabolite\")\n",
    "                if met in rxn.products:\n",
    "                    G.add_edge(rxn.id, met.id)\n",
    "                else:\n",
    "                    G.add_edge(met.id, rxn.id)\n",
    "                    \n",
    "metabolites_of_interest = [\"PHB_c[c]\", \"CPD-650_c[c]\"]\n",
    "\n",
    "for metabolite in metabolites_of_interest:\n",
    "    met = test_model.metabolites.get_by_id(metabolite)\n",
    "    add_metabolite_neighbors(G, met)"
   ]
  },
  {
   "cell_type": "code",
   "execution_count": 19,
   "id": "9200b409-20c9-40c2-afd2-c02fca123c7b",
   "metadata": {},
   "outputs": [
    {
     "data": {
      "image/png": "[encoded data removed]",
      "text/plain": [
       "<Figure size 864x576 with 1 Axes>"
      ]
     },
     "metadata": {},
     "output_type": "display_data"
    }
   ],
   "source": [
    "node_colors = []\n",
    "for node in G.nodes:\n",
    "    if G.nodes[node].get('type') == \"reaction\":\n",
    "        node_colors.append('wheat')\n",
    "    else:\n",
    "        node_colors.append('paleturquoise')\n",
    "\n",
    "plt.figure(figsize=(12, 8))\n",
    "pos = nx.nx_pydot.pydot_layout(G, prog=\"dot\")\n",
    "nx.draw(G, pos, with_labels=True, node_size=2000, font_size=8, arrows=True, node_color=node_colors)\n",
    "edge_labels = nx.get_edge_attributes(G, 'label')\n",
    "nx.draw_networkx_edge_labels(G, pos, edge_labels=edge_labels)\n",
    "plt.title(f\"Neighborhood of PHB_c\")\n",
    "plt.savefig(\"phb_c_rxn_alt.png\")\n",
    "plt.show()"
   ]
  },
  {
   "cell_type": "markdown",
   "id": "cce018ab-0ee1-49b6-a6a6-6980194caa14",
   "metadata": {},
   "source": [
    "This is the neighborhood of the function for C. sphaeroides ATCC 17025, specifically PHB synthesis. \n",
    "https://rdm.uq.edu.au/files/bc4b6ba0-3abf-4870-9b97-c7578df53a51\n",
    "from this paper:\n",
    "https://hal.inrae.fr/hal-04676024v1\n",
    "\n",
    "This pathway was refined specifically for a scientific question involving phb, so I will trust this format for the reaction as refined in this. Because of this, I will remove the odd phb granule stuff in the azotobacter model."
   ]
  },
  {
   "cell_type": "code",
   "execution_count": 20,
   "id": "f02cab56-ed0f-41ea-882e-4be93a7a9c78",
   "metadata": {},
   "outputs": [],
   "source": [
    "# Investigate the additional pathways"
   ]
  },
  {
   "cell_type": "code",
   "execution_count": 21,
   "id": "eaa8dbc3-a17d-4dbb-b77e-36c596dae26b",
   "metadata": {},
   "outputs": [],
   "source": [
    "# Copy the original model to modify\n"
   ]
  },
  {
   "cell_type": "code",
   "execution_count": 78,
   "id": "5a617ef9-3c3d-4a9d-a606-e32acd207594",
   "metadata": {},
   "outputs": [],
   "source": [
    "met = model.metabolites.get_by_id('phbg_c')\n",
    "rxn = model.reactions.get_by_id('SK_phbg_c')\n",
    "\n",
    "# Remove reaction sink\n",
    "model.remove_reactions([rxn])\n",
    "\n",
    "# Remove metabolite granule\n",
    "model.remove_metabolites([met])\n",
    "\n",
    "# Modify PHBS_syn to match\n",
    "#model_mod.reactions.PHBS_syn.add_metabolites({met: 0})"
   ]
  },
  {
   "cell_type": "code",
   "execution_count": 23,
   "id": "0ae6359b-5726-451e-bae9-5c70eba643d1",
   "metadata": {},
   "outputs": [
    {
     "data": {
      "text/html": [
       "\n",
       "        <table>\n",
       "            <tr>\n",
       "                <td><strong>Reaction identifier</strong></td><td>PHBS_syn</td>\n",
       "            </tr><tr>\n",
       "                <td><strong>Name</strong></td><td>PHB synthetasa</td>\n",
       "            </tr><tr>\n",
       "                <td><strong>Memory address</strong></td>\n",
       "                <td>0x15497be8a7c0</td>\n",
       "            </tr><tr>\n",
       "                <td><strong>Stoichiometry</strong></td>\n",
       "                <td>\n",
       "                    <p style='text-align:right'>3hbcoa__R_c --> PHB_c + coa_c</p>\n",
       "                    <p style='text-align:right'>(R)-3-Hydroxybutyryl-CoA --> PHB granule + Coenzyme A</p>\n",
       "                </td>\n",
       "            </tr><tr>\n",
       "                <td><strong>GPR</strong></td><td>Avin_46290 or Avin_23630 or Avin_27080</td>\n",
       "            </tr><tr>\n",
       "                <td><strong>Lower bound</strong></td><td>0.0</td>\n",
       "            </tr><tr>\n",
       "                <td><strong>Upper bound</strong></td><td>1000.0</td>\n",
       "            </tr>\n",
       "        </table>\n",
       "        "
      ],
      "text/plain": [
       "<Reaction PHBS_syn at 0x15497be8a7c0>"
      ]
     },
     "execution_count": 23,
     "metadata": {},
     "output_type": "execute_result"
    }
   ],
   "source": [
    "model.reactions.PHBS_syn"
   ]
  },
  {
   "cell_type": "code",
   "execution_count": 24,
   "id": "26c7c498-081a-4722-8015-903777e11d00",
   "metadata": {},
   "outputs": [
    {
     "data": {
      "text/html": [
       "<h3>Objective</h3><p>1.0 BIOMASS_Av_DJ_core = 0.930824516666168</p><h4>Uptake</h4><table border=\"1\" class=\"dataframe\">\n",
       "  <thead>\n",
       "    <tr style=\"text-align: right;\">\n",
       "      <th>Metabolite</th>\n",
       "      <th>Reaction</th>\n",
       "      <th>Flux</th>\n",
       "      <th>C-Number</th>\n",
       "      <th>C-Flux</th>\n",
       "    </tr>\n",
       "  </thead>\n",
       "  <tbody>\n",
       "    <tr>\n",
       "      <td>ca2_e</td>\n",
       "      <td>EX_ca2_e</td>\n",
       "      <td>0.004845</td>\n",
       "      <td>0</td>\n",
       "      <td>0.00%</td>\n",
       "    </tr>\n",
       "    <tr>\n",
       "      <td>cl_e</td>\n",
       "      <td>EX_cl_e</td>\n",
       "      <td>0.004845</td>\n",
       "      <td>0</td>\n",
       "      <td>0.00%</td>\n",
       "    </tr>\n",
       "    <tr>\n",
       "      <td>cobalt2_e</td>\n",
       "      <td>EX_cobalt2_e</td>\n",
       "      <td>2.327E-05</td>\n",
       "      <td>0</td>\n",
       "      <td>0.00%</td>\n",
       "    </tr>\n",
       "    <tr>\n",
       "      <td>cu2_e</td>\n",
       "      <td>EX_cu2_e</td>\n",
       "      <td>0.00066</td>\n",
       "      <td>0</td>\n",
       "      <td>0.00%</td>\n",
       "    </tr>\n",
       "    <tr>\n",
       "      <td>fe2_e</td>\n",
       "      <td>EX_fe2_e</td>\n",
       "      <td>0.007682</td>\n",
       "      <td>0</td>\n",
       "      <td>0.00%</td>\n",
       "    </tr>\n",
       "    <tr>\n",
       "      <td>fe3_e</td>\n",
       "      <td>EX_fe3_e</td>\n",
       "      <td>0.007268</td>\n",
       "      <td>0</td>\n",
       "      <td>0.00%</td>\n",
       "    </tr>\n",
       "    <tr>\n",
       "      <td>glc__D_e</td>\n",
       "      <td>EX_glc__D_e</td>\n",
       "      <td>15</td>\n",
       "      <td>6</td>\n",
       "      <td>100.00%</td>\n",
       "    </tr>\n",
       "    <tr>\n",
       "      <td>h_e</td>\n",
       "      <td>EX_h_e</td>\n",
       "      <td>1.161</td>\n",
       "      <td>0</td>\n",
       "      <td>0.00%</td>\n",
       "    </tr>\n",
       "    <tr>\n",
       "      <td>k_e</td>\n",
       "      <td>EX_k_e</td>\n",
       "      <td>0.1817</td>\n",
       "      <td>0</td>\n",
       "      <td>0.00%</td>\n",
       "    </tr>\n",
       "    <tr>\n",
       "      <td>mg2_e</td>\n",
       "      <td>EX_mg2_e</td>\n",
       "      <td>0.008075</td>\n",
       "      <td>0</td>\n",
       "      <td>0.00%</td>\n",
       "    </tr>\n",
       "    <tr>\n",
       "      <td>mn2_e</td>\n",
       "      <td>EX_mn2_e</td>\n",
       "      <td>0.0006432</td>\n",
       "      <td>0</td>\n",
       "      <td>0.00%</td>\n",
       "    </tr>\n",
       "    <tr>\n",
       "      <td>mobd_e</td>\n",
       "      <td>EX_mobd_e</td>\n",
       "      <td>6.516E-06</td>\n",
       "      <td>0</td>\n",
       "      <td>0.00%</td>\n",
       "    </tr>\n",
       "    <tr>\n",
       "      <td>n2_e</td>\n",
       "      <td>EX_n2_e</td>\n",
       "      <td>4.867</td>\n",
       "      <td>0</td>\n",
       "      <td>0.00%</td>\n",
       "    </tr>\n",
       "    <tr>\n",
       "      <td>ni2_e</td>\n",
       "      <td>EX_ni2_e</td>\n",
       "      <td>0.0003007</td>\n",
       "      <td>0</td>\n",
       "      <td>0.00%</td>\n",
       "    </tr>\n",
       "    <tr>\n",
       "      <td>o2_e</td>\n",
       "      <td>EX_o2_e</td>\n",
       "      <td>43.78</td>\n",
       "      <td>0</td>\n",
       "      <td>0.00%</td>\n",
       "    </tr>\n",
       "    <tr>\n",
       "      <td>pi_e</td>\n",
       "      <td>EX_pi_e</td>\n",
       "      <td>0.8979</td>\n",
       "      <td>0</td>\n",
       "      <td>0.00%</td>\n",
       "    </tr>\n",
       "    <tr>\n",
       "      <td>so4_e</td>\n",
       "      <td>EX_so4_e</td>\n",
       "      <td>0.1506</td>\n",
       "      <td>0</td>\n",
       "      <td>0.00%</td>\n",
       "    </tr>\n",
       "    <tr>\n",
       "      <td>zn2_e</td>\n",
       "      <td>EX_zn2_e</td>\n",
       "      <td>0.0003174</td>\n",
       "      <td>0</td>\n",
       "      <td>0.00%</td>\n",
       "    </tr>\n",
       "  </tbody>\n",
       "</table><h4>Secretion</h4><table border=\"1\" class=\"dataframe\">\n",
       "  <thead>\n",
       "    <tr style=\"text-align: right;\">\n",
       "      <th>Metabolite</th>\n",
       "      <th>Reaction</th>\n",
       "      <th>Flux</th>\n",
       "      <th>C-Number</th>\n",
       "      <th>C-Flux</th>\n",
       "    </tr>\n",
       "  </thead>\n",
       "  <tbody>\n",
       "    <tr>\n",
       "      <td>4crsol_c</td>\n",
       "      <td>DM_4crsol_c</td>\n",
       "      <td>-0.0002076</td>\n",
       "      <td>7</td>\n",
       "      <td>0.00%</td>\n",
       "    </tr>\n",
       "    <tr>\n",
       "      <td>5drib_c</td>\n",
       "      <td>DM_5drib_c</td>\n",
       "      <td>-0.0002094</td>\n",
       "      <td>5</td>\n",
       "      <td>0.00%</td>\n",
       "    </tr>\n",
       "    <tr>\n",
       "      <td>amob_c</td>\n",
       "      <td>DM_amob_c</td>\n",
       "      <td>-1.862E-06</td>\n",
       "      <td>15</td>\n",
       "      <td>0.00%</td>\n",
       "    </tr>\n",
       "    <tr>\n",
       "      <td>ade_e</td>\n",
       "      <td>EX_ade_e</td>\n",
       "      <td>-0.0002094</td>\n",
       "      <td>5</td>\n",
       "      <td>0.00%</td>\n",
       "    </tr>\n",
       "    <tr>\n",
       "      <td>co2_e</td>\n",
       "      <td>EX_co2_e</td>\n",
       "      <td>-52.85</td>\n",
       "      <td>1</td>\n",
       "      <td>99.99%</td>\n",
       "    </tr>\n",
       "    <tr>\n",
       "      <td>dxylnt_e</td>\n",
       "      <td>EX_dxylnt_e</td>\n",
       "      <td>-0.0006227</td>\n",
       "      <td>5</td>\n",
       "      <td>0.01%</td>\n",
       "    </tr>\n",
       "    <tr>\n",
       "      <td>fald_e</td>\n",
       "      <td>EX_fald_e</td>\n",
       "      <td>-1.862E-06</td>\n",
       "      <td>1</td>\n",
       "      <td>0.00%</td>\n",
       "    </tr>\n",
       "    <tr>\n",
       "      <td>h2o_e</td>\n",
       "      <td>EX_h2o_e</td>\n",
       "      <td>-62.52</td>\n",
       "      <td>0</td>\n",
       "      <td>0.00%</td>\n",
       "    </tr>\n",
       "  </tbody>\n",
       "</table>"
      ],
      "text/plain": [
       "<cobra.summary.model_summary.ModelSummary at 0x15497bbc2340>"
      ]
     },
     "execution_count": 24,
     "metadata": {},
     "output_type": "execute_result"
    }
   ],
   "source": [
    "model.summary()"
   ]
  },
  {
   "cell_type": "code",
   "execution_count": 25,
   "id": "ab7bfac4-0a45-4323-ab44-08f8b75fab19",
   "metadata": {},
   "outputs": [
    {
     "data": {
      "text/plain": [
       "{'EX_pi_e': 1000.0,\n",
       " 'EX_h_e': 1000.0,\n",
       " 'EX_fe3_e': 0.05,\n",
       " 'EX_mn2_e': 1000.0,\n",
       " 'EX_fe2_e': 0.05,\n",
       " 'EX_glc__D_e': 15.0,\n",
       " 'EX_zn2_e': 1000.0,\n",
       " 'EX_mg2_e': 1000.0,\n",
       " 'EX_ca2_e': 1000.0,\n",
       " 'EX_ni2_e': 1000.0,\n",
       " 'EX_cu2_e': 1000.0,\n",
       " 'EX_cobalt2_e': 1000.0,\n",
       " 'EX_h2o_e': 1000.0,\n",
       " 'EX_mobd_e': 1000.0,\n",
       " 'EX_so4_e': 1000.0,\n",
       " 'EX_k_e': 1000.0,\n",
       " 'EX_o2_e': 1000.0,\n",
       " 'EX_cl_e': 1000.0,\n",
       " 'EX_n2_e': 1000.0}"
      ]
     },
     "execution_count": 25,
     "metadata": {},
     "output_type": "execute_result"
    }
   ],
   "source": [
    "model.medium"
   ]
  },
  {
   "cell_type": "code",
   "execution_count": 26,
   "id": "3777be30-4cfd-4467-b2f4-b1a596360f0c",
   "metadata": {},
   "outputs": [],
   "source": [
    "#Updated reaction "
   ]
  },
  {
   "cell_type": "code",
   "execution_count": 27,
   "id": "476879e2-1d2f-41d4-ac82-c19c7306a070",
   "metadata": {},
   "outputs": [],
   "source": [
    "metabolite = model.metabolites.get_by_id(\"PHB_c\")\n",
    "\n",
    "G = nx.DiGraph()\n",
    "\n",
    "# Add the initial metabolite\n",
    "G.add_node(metabolite.id, type=\"metabolite\")\n",
    "\n",
    "def add_metabolite_neighbors(G, metabolite):\n",
    "    # First neighbors\n",
    "    for rxn in metabolite.reactions:\n",
    "        if rxn.id not in G.nodes:\n",
    "            G.add_node(rxn.id, type=\"reaction\")\n",
    "\n",
    "        if metabolite in rxn.products:\n",
    "            G.add_edge(rxn.id, metabolite.id)\n",
    "        else:\n",
    "            G.add_edge(metabolite.id, rxn.id)\n",
    "\n",
    "        for met in rxn.metabolites:\n",
    "            if met.id != metabolite.id:\n",
    "                if met.id not in G.nodes:\n",
    "                    G.add_node(met.id, type=\"metabolite\")\n",
    "                if met in rxn.products:\n",
    "                    G.add_edge(rxn.id, met.id)\n",
    "                else:\n",
    "                    G.add_edge(met.id, rxn.id)\n",
    "                    \n",
    "metabolites_of_interest = [\"PHB_c\", \"3hbcoa__R_c\"]\n",
    "\n",
    "for metabolite in metabolites_of_interest:\n",
    "    met = model.metabolites.get_by_id(metabolite)\n",
    "    add_metabolite_neighbors(G, met)"
   ]
  },
  {
   "cell_type": "code",
   "execution_count": 28,
   "id": "338c65ef-8e7e-41c8-b11c-5bd04418af0f",
   "metadata": {},
   "outputs": [
    {
     "data": {
      "image/png": "[encoded data removed]",
      "text/plain": [
       "<Figure size 864x576 with 1 Axes>"
      ]
     },
     "metadata": {},
     "output_type": "display_data"
    }
   ],
   "source": [
    "node_colors = []\n",
    "for node in G.nodes:\n",
    "    if G.nodes[node].get('type') == \"reaction\":\n",
    "        node_colors.append('wheat')\n",
    "    else:\n",
    "        node_colors.append('paleturquoise')\n",
    "\n",
    "plt.figure(figsize=(12, 8))\n",
    "pos = nx.nx_pydot.pydot_layout(G, prog=\"dot\")\n",
    "nx.draw(G, pos, with_labels=True, node_size=2000, font_size=8, arrows=True, node_color=node_colors)\n",
    "edge_labels = nx.get_edge_attributes(G, 'label')\n",
    "nx.draw_networkx_edge_labels(G, pos, edge_labels=edge_labels)\n",
    "plt.title(f\"Neighborhood of PHB_c\")\n",
    "plt.savefig(\"phb_c_rxn_postmod.png\")\n",
    "plt.show()"
   ]
  },
  {
   "cell_type": "markdown",
   "id": "aiyk5_it1Y2s",
   "metadata": {
    "id": "aiyk5_it1Y2s"
   },
   "source": [
    "### Growth on different substrates"
   ]
  },
  {
   "cell_type": "code",
   "execution_count": 29,
   "id": "aa609d91-e196-440b-b4a1-0ac997a80eed",
   "metadata": {},
   "outputs": [
    {
     "name": "stdout",
     "output_type": "stream",
     "text": [
      "17.823589138134587\n"
     ]
    }
   ],
   "source": [
    "model.objective = {model.reactions.PHBS_syn: 1}\n",
    "res = model.optimize()\n",
    "print(res.fluxes['PHBS_syn'])"
   ]
  },
  {
   "cell_type": "code",
   "execution_count": 30,
   "id": "4fba9d24-ee0d-4231-936a-adfb2b86f9d0",
   "metadata": {},
   "outputs": [
    {
     "name": "stdout",
     "output_type": "stream",
     "text": [
      "Read LP format model from file /scratch/341162.1.ood/tmpj1b_rkpv.lp\n",
      "Reading time = 0.01 seconds\n",
      ": 1959 rows, 4576 columns, 18914 nonzeros\n",
      "3.0508884328562003\n",
      "Read LP format model from file /scratch/341162.1.ood/tmpz8xyio0k.lp\n",
      "Reading time = 0.01 seconds\n",
      ": 1959 rows, 4576 columns, 18914 nonzeros\n",
      "3.682986334954111\n",
      "Read LP format model from file /scratch/341162.1.ood/tmpznrjcc56.lp\n",
      "Reading time = 0.01 seconds\n",
      ": 1959 rows, 4576 columns, 18914 nonzeros\n",
      "4.1227066146743905\n",
      "Read LP format model from file /scratch/341162.1.ood/tmpuju986uu.lp\n",
      "Reading time = 0.01 seconds\n",
      ": 1959 rows, 4576 columns, 18914 nonzeros\n",
      "7.518552208200526\n",
      "Read LP format model from file /scratch/341162.1.ood/tmp9m00vet1.lp\n",
      "Reading time = 0.01 seconds\n",
      ": 1959 rows, 4576 columns, 18914 nonzeros\n",
      "9.972122052989887\n",
      "Read LP format model from file /scratch/341162.1.ood/tmpkh3e6w0c.lp\n",
      "Reading time = 0.01 seconds\n",
      ": 1959 rows, 4576 columns, 18914 nonzeros\n",
      "10.388352651659504\n",
      "Read LP format model from file /scratch/341162.1.ood/tmpdb9h6s5r.lp\n",
      "Reading time = 0.01 seconds\n",
      ": 1959 rows, 4576 columns, 18914 nonzeros\n",
      "11.242720722612944\n",
      "Read LP format model from file /scratch/341162.1.ood/tmpst19959m.lp\n",
      "Reading time = 0.01 seconds\n",
      ": 1959 rows, 4576 columns, 18914 nonzeros\n",
      "0.6598846563592712\n",
      "Read LP format model from file /scratch/341162.1.ood/tmpv3m_49kh.lp\n",
      "Reading time = 0.01 seconds\n",
      ": 1959 rows, 4576 columns, 18914 nonzeros\n",
      "1.1820524885271209\n",
      "Read LP format model from file /scratch/341162.1.ood/tmpizzaffz4.lp\n",
      "Reading time = 0.01 seconds\n",
      ": 1959 rows, 4576 columns, 18914 nonzeros\n",
      "3.2157587822333866\n",
      "Read LP format model from file /scratch/341162.1.ood/tmpak0eht8f.lp\n",
      "Reading time = 0.01 seconds\n",
      ": 1959 rows, 4576 columns, 18914 nonzeros\n",
      "5.854080460555079\n",
      "Read LP format model from file /scratch/341162.1.ood/tmp45_wxit0.lp\n",
      "Reading time = 0.01 seconds\n",
      ": 1959 rows, 4576 columns, 18914 nonzeros\n",
      "8.080164376638997\n",
      "Read LP format model from file /scratch/341162.1.ood/tmputlg30ti.lp\n",
      "Reading time = 0.01 seconds\n",
      ": 1959 rows, 4576 columns, 18914 nonzeros\n",
      "10.636038502513118\n",
      "Read LP format model from file /scratch/341162.1.ood/tmpu09_z4zh.lp\n",
      "Reading time = 0.01 seconds\n",
      ": 1959 rows, 4576 columns, 18914 nonzeros\n",
      "10.855898642373294\n",
      "Read LP format model from file /scratch/341162.1.ood/tmpsr18snlx.lp\n",
      "Reading time = 0.01 seconds\n",
      ": 1959 rows, 4576 columns, 18914 nonzeros\n",
      "2.9410047154993557\n",
      "Read LP format model from file /scratch/341162.1.ood/tmp6ysm81_k.lp\n",
      "Reading time = 0.01 seconds\n",
      ": 1959 rows, 4576 columns, 18914 nonzeros\n",
      "3.050934785429433\n",
      "Read LP format model from file /scratch/341162.1.ood/tmpf2m36hkw.lp\n",
      "Reading time = 0.01 seconds\n",
      ": 1959 rows, 4576 columns, 18914 nonzeros\n",
      "3.573102617597248\n",
      "Read LP format model from file /scratch/341162.1.ood/tmpgo8ha689.lp\n",
      "Reading time = 0.01 seconds\n",
      ": 1959 rows, 4576 columns, 18914 nonzeros\n",
      "4.534990729485337\n",
      "Read LP format model from file /scratch/341162.1.ood/tmpoonn4372.lp\n",
      "Reading time = 0.01 seconds\n",
      ": 1959 rows, 4576 columns, 18914 nonzeros\n",
      "6.980934785429413\n",
      "Read LP format model from file /scratch/341162.1.ood/tmpuxdes0s4.lp\n",
      "Reading time = 0.01 seconds\n",
      ": 1959 rows, 4576 columns, 18914 nonzeros\n",
      "8.574920799415445\n",
      "Read LP format model from file /scratch/341162.1.ood/tmpfhl794_u.lp\n",
      "Reading time = 0.01 seconds\n",
      ": 1959 rows, 4576 columns, 18914 nonzeros\n",
      "9.619256463751096\n",
      "Read LP format model from file /scratch/341162.1.ood/tmp0go8y6mw.lp\n",
      "Reading time = 0.01 seconds\n",
      ": 1959 rows, 4576 columns, 18914 nonzeros\n",
      "9.949046673541321\n",
      "Read LP format model from file /scratch/341162.1.ood/tmp7d5b6g0q.lp\n",
      "Reading time = 0.01 seconds\n",
      ": 1959 rows, 4576 columns, 18914 nonzeros\n",
      "10.361284435779059\n",
      "Read LP format model from file /scratch/341162.1.ood/tmpq_fgb18j.lp\n",
      "Reading time = 0.01 seconds\n",
      ": 1959 rows, 4576 columns, 18914 nonzeros\n",
      "11.433102617597203\n",
      "Read LP format model from file /scratch/341162.1.ood/tmp05tz9r97.lp\n",
      "Reading time = 0.01 seconds\n",
      ": 1959 rows, 4576 columns, 18914 nonzeros\n",
      "1.3743698013412453\n",
      "Read LP format model from file /scratch/341162.1.ood/tmpbjbq19jn.lp\n",
      "Reading time = 0.01 seconds\n",
      ": 1959 rows, 4576 columns, 18914 nonzeros\n",
      "4.122621549592995\n",
      "Read LP format model from file /scratch/341162.1.ood/tmpyu1805fv.lp\n",
      "Reading time = 0.01 seconds\n",
      ": 1959 rows, 4576 columns, 18914 nonzeros\n",
      "6.6784956754671585\n",
      "Read LP format model from file /scratch/341162.1.ood/tmp67zub_z4.lp\n",
      "Reading time = 0.01 seconds\n",
      ": 1959 rows, 4576 columns, 18914 nonzeros\n",
      "12.092551619523082\n",
      "Read LP format model from file /scratch/341162.1.ood/tmpes6qbrf0.lp\n",
      "Reading time = 0.01 seconds\n",
      ": 1959 rows, 4576 columns, 18914 nonzeros\n",
      "12.532271899243344\n",
      "Read LP format model from file /scratch/341162.1.ood/tmplbqwsx6z.lp\n",
      "Reading time = 0.01 seconds\n",
      ": 1959 rows, 4576 columns, 18914 nonzeros\n",
      "2.226236930793832\n",
      "Read LP format model from file /scratch/341162.1.ood/tmp42mo_o5l.lp\n",
      "Reading time = 0.01 seconds\n",
      ": 1959 rows, 4576 columns, 18914 nonzeros\n",
      "5.194348818905693\n",
      "Read LP format model from file /scratch/341162.1.ood/tmpbdu776o9.lp\n",
      "Reading time = 0.01 seconds\n",
      ": 1959 rows, 4576 columns, 18914 nonzeros\n",
      "8.931971196528087\n",
      "Read LP format model from file /scratch/341162.1.ood/tmpq_hnls82.lp\n",
      "Reading time = 0.01 seconds\n",
      ": 1959 rows, 4576 columns, 18914 nonzeros\n",
      "11.487845322402205\n",
      "Read LP format model from file /scratch/341162.1.ood/tmp096obai1.lp\n",
      "Reading time = 0.01 seconds\n",
      ": 1959 rows, 4576 columns, 18914 nonzeros\n",
      "12.31232084687776\n",
      "Read LP format model from file /scratch/341162.1.ood/tmpfkgshw9f.lp\n",
      "Reading time = 0.01 seconds\n",
      ": 1959 rows, 4576 columns, 18914 nonzeros\n",
      "16.352250916807836\n",
      "Read LP format model from file /scratch/341162.1.ood/tmp6mk141vn.lp\n",
      "Reading time = 0.01 seconds\n",
      ": 1959 rows, 4576 columns, 18914 nonzeros\n",
      "3.210498023875407\n",
      "Read LP format model from file /scratch/341162.1.ood/tmpzabpepf4.lp\n",
      "Reading time = 0.01 seconds\n",
      ": 1959 rows, 4576 columns, 18914 nonzeros\n",
      "3.8756887916568585\n",
      "Read LP format model from file /scratch/341162.1.ood/tmpvqsab3fx.lp\n",
      "Reading time = 0.01 seconds\n",
      ": 1959 rows, 4576 columns, 18914 nonzeros\n",
      "4.338430195330916\n",
      "Read LP format model from file /scratch/341162.1.ood/tmp0muijj6i.lp\n",
      "Reading time = 0.01 seconds\n",
      ": 1959 rows, 4576 columns, 18914 nonzeros\n",
      "7.841390154589744\n",
      "Read LP format model from file /scratch/341162.1.ood/tmpo9swojkg.lp\n",
      "Reading time = 0.01 seconds\n",
      ": 1959 rows, 4576 columns, 18914 nonzeros\n",
      "10.544200071945092\n",
      "Read LP format model from file /scratch/341162.1.ood/tmpzq4jipov.lp\n",
      "Reading time = 0.01 seconds\n",
      ": 1959 rows, 4576 columns, 18914 nonzeros\n",
      "11.002712468639318\n",
      "Read LP format model from file /scratch/341162.1.ood/tmpc5fh6lec.lp\n",
      "Reading time = 0.01 seconds\n",
      ": 1959 rows, 4576 columns, 18914 nonzeros\n",
      "11.943869493432707\n",
      "Read LP format model from file /scratch/341162.1.ood/tmp0wvos1i_.lp\n",
      "Reading time = 0.01 seconds\n",
      ": 1959 rows, 4576 columns, 18914 nonzeros\n",
      "0.6942240560049573\n",
      "Read LP format model from file /scratch/341162.1.ood/tmpxffizpv_.lp\n",
      "Reading time = 0.01 seconds\n",
      ": 1959 rows, 4576 columns, 18914 nonzeros\n",
      "1.24372947286788\n",
      "Read LP format model from file /scratch/341162.1.ood/tmpku2cgv7p.lp\n",
      "Reading time = 0.01 seconds\n",
      ": 1959 rows, 4576 columns, 18914 nonzeros\n",
      "3.383908464860287\n",
      "Read LP format model from file /scratch/341162.1.ood/tmp96ssgh2m.lp\n",
      "Reading time = 0.01 seconds\n",
      ": 1959 rows, 4576 columns, 18914 nonzeros\n",
      "6.160356886904568\n",
      "Read LP format model from file /scratch/341162.1.ood/tmprm5u9iow.lp\n",
      "Reading time = 0.01 seconds\n",
      ": 1959 rows, 4576 columns, 18914 nonzeros\n",
      "8.502985243004456\n",
      "Read LP format model from file /scratch/341162.1.ood/tmpqzhssgp0.lp\n",
      "Reading time = 0.01 seconds\n",
      ": 1959 rows, 4576 columns, 18914 nonzeros\n",
      "11.192669651859863\n",
      "Read LP format model from file /scratch/341162.1.ood/tmpijid8g03.lp\n",
      "Reading time = 0.01 seconds\n",
      ": 1959 rows, 4576 columns, 18914 nonzeros\n",
      "11.424040353696848\n",
      "Read LP format model from file /scratch/341162.1.ood/tmp9s5i973m.lp\n",
      "Reading time = 0.01 seconds\n",
      ": 1959 rows, 4576 columns, 18914 nonzeros\n",
      "3.094758853921345\n",
      "Read LP format model from file /scratch/341162.1.ood/tmp2dt37_gc.lp\n",
      "Reading time = 0.01 seconds\n",
      ": 1959 rows, 4576 columns, 18914 nonzeros\n",
      "3.2104442048399005\n",
      "Read LP format model from file /scratch/341162.1.ood/tmp9ona6whx.lp\n",
      "Reading time = 0.01 seconds\n",
      ": 1959 rows, 4576 columns, 18914 nonzeros\n",
      "3.7599496217028285\n",
      "Read LP format model from file /scratch/341162.1.ood/tmpqtku5d79.lp\n",
      "Reading time = 0.01 seconds\n",
      ": 1959 rows, 4576 columns, 18914 nonzeros\n",
      "4.772196442239789\n",
      "Read LP format model from file /scratch/341162.1.ood/tmp3f54q3r7.lp\n",
      "Reading time = 0.01 seconds\n",
      ": 1959 rows, 4576 columns, 18914 nonzeros\n",
      "7.34619550017665\n",
      "Read LP format model from file /scratch/341162.1.ood/tmphns3p5y5.lp\n",
      "Reading time = 0.01 seconds\n",
      ": 1959 rows, 4576 columns, 18914 nonzeros\n",
      "9.023633088495071\n",
      "Read LP format model from file /scratch/341162.1.ood/tmp1wq06bi6.lp\n",
      "Reading time = 0.01 seconds\n",
      ": 1959 rows, 4576 columns, 18914 nonzeros\n",
      "10.12264392222093\n",
      "Read LP format model from file /scratch/341162.1.ood/tmp14o4b14n.lp\n",
      "Reading time = 0.01 seconds\n",
      ": 1959 rows, 4576 columns, 18914 nonzeros\n",
      "10.469699974976477\n",
      "Read LP format model from file /scratch/341162.1.ood/tmp8gp8nbdh.lp\n",
      "Reading time = 0.01 seconds\n",
      ": 1959 rows, 4576 columns, 18914 nonzeros\n",
      "10.90352004092093\n",
      "Read LP format model from file /scratch/341162.1.ood/tmpu17rplhp.lp\n",
      "Reading time = 0.01 seconds\n",
      ": 1959 rows, 4576 columns, 18914 nonzeros\n",
      "12.0314522123764\n",
      "Read LP format model from file /scratch/341162.1.ood/tmp50gphwgp.lp\n",
      "Reading time = 0.01 seconds\n",
      ": 1959 rows, 4576 columns, 18914 nonzeros\n",
      "1.4462270211117882\n",
      "Read LP format model from file /scratch/341162.1.ood/tmpq3l19o6y.lp\n",
      "Reading time = 0.01 seconds\n",
      ": 1959 rows, 4576 columns, 18914 nonzeros\n",
      "4.338360794074578\n",
      "Read LP format model from file /scratch/341162.1.ood/tmp8832i737.lp\n",
      "Reading time = 0.01 seconds\n",
      ": 1959 rows, 4576 columns, 18914 nonzeros\n",
      "7.028045202929981\n",
      "Read LP format model from file /scratch/341162.1.ood/tmpq7g0al5d.lp\n",
      "Reading time = 0.01 seconds\n",
      ": 1959 rows, 4576 columns, 18914 nonzeros\n",
      "12.725548735666681\n",
      "Read LP format model from file /scratch/341162.1.ood/tmpd7117sbd.lp\n",
      "Reading time = 0.01 seconds\n",
      ": 1959 rows, 4576 columns, 18914 nonzeros\n",
      "13.188290139340747\n",
      "Read LP format model from file /scratch/341162.1.ood/tmpc8e2v7t1.lp\n",
      "Reading time = 0.01 seconds\n",
      ": 1959 rows, 4576 columns, 18914 nonzeros\n",
      "2.342670186600259\n",
      "Read LP format model from file /scratch/341162.1.ood/tmp_3tb42cx.lp\n",
      "Reading time = 0.01 seconds\n",
      ": 1959 rows, 4576 columns, 18914 nonzeros\n",
      "5.466174661400126\n",
      "Read LP format model from file /scratch/341162.1.ood/tmpdug5wjeq.lp\n",
      "Reading time = 0.01 seconds\n",
      ": 1959 rows, 4576 columns, 18914 nonzeros\n",
      "9.39947659262951\n",
      "Read LP format model from file /scratch/341162.1.ood/tmppg8yxal6.lp\n",
      "Reading time = 0.01 seconds\n",
      ": 1959 rows, 4576 columns, 18914 nonzeros\n",
      "12.089161001484873\n",
      "Read LP format model from file /scratch/341162.1.ood/tmp6e8hbtoz.lp\n",
      "Reading time = 0.01 seconds\n",
      ": 1959 rows, 4576 columns, 18914 nonzeros\n",
      "12.95680113337371\n",
      "Read LP format model from file /scratch/341162.1.ood/tmpm49a99pm.lp\n",
      "Reading time = 0.01 seconds\n",
      ": 1959 rows, 4576 columns, 18914 nonzeros\n",
      "17.20823777962898\n"
     ]
    }
   ],
   "source": [
    "#PHB production under the ATPM \n",
    "paths = ['NII_BD_R', 'NI_CO_R']\n",
    "kos = [['NADH6', 'CYOO2pp', 'FIX'], ['NADH5', 'CYTBDpp', 'FIX']]\n",
    "couplings = ['partial', 'full']\n",
    "\n",
    "atpm_vals = pd.read_csv('./data/atpm.csv', index_col=[0, 1]).squeeze()\n",
    "\n",
    "table_s2 = pd.read_excel('./data/alleman_table_s2.xlsx', index_col=0)\n",
    "exp_sucrose_rates = table_s2.groupby(['O2_conc', 'Sucrose_uptake_gcdw'], as_index=False).aggregate({'Growth_rate_exp': 'mean'})\n",
    "exp_sucrose_rates = exp_sucrose_rates.set_index('O2_conc')\n",
    "\n",
    "pred_phb_syn_rates = []\n",
    "pred_pathways = []\n",
    "\n",
    "for path, reacs, coupled in zip(paths, kos, couplings):\n",
    "    for o2_conc, sucr_rate in exp_sucrose_rates['Sucrose_uptake_gcdw'].items():\n",
    "        model_c = model.copy()\n",
    "        model_c.reactions.EX_glc__D_e.bounds = [0, 0]\n",
    "        model_c.reactions.EX_nh4_e.bounds = [0, 0]\n",
    "        \n",
    "        for reac in reacs:\n",
    "            model_c.reactions.get_by_id(reac).bounds = [0, 0]\n",
    "\n",
    "        model_c.reactions.EX_sucr_e.bounds = [-sucr_rate, -sucr_rate] # sucrose uptake rate, to match experimental data\n",
    "        model_c.reactions.ATPM.bounds = [atpm_vals[(coupled, o2_conc)], 1000]  # previously calculated ATPM flux at given O2 conc\n",
    "        pred_pathways.append(coupled)\n",
    "        res = model_c.optimize()\n",
    "        fluxes = res.fluxes\n",
    "        print(fluxes['PHBS_syn'])\n",
    "        pred_phb_syn_rates.append(fluxes['PHBS_syn'])\n"
   ]
  },
  {
   "cell_type": "code",
   "execution_count": 31,
   "id": "d49f7a8d-b2d2-4483-874d-c3f5be035f10",
   "metadata": {},
   "outputs": [
    {
     "name": "stdout",
     "output_type": "stream",
     "text": [
      "[3.0508884328562003, 3.682986334954111, 4.1227066146743905, 7.518552208200526, 9.972122052989887, 10.388352651659504, 11.242720722612944, 0.6598846563592712, 1.1820524885271209, 3.2157587822333866, 5.854080460555079, 8.080164376638997, 10.636038502513118, 10.855898642373294, 2.9410047154993557, 3.050934785429433, 3.573102617597248, 4.534990729485337, 6.980934785429413, 8.574920799415445, 9.619256463751096, 9.949046673541321, 10.361284435779059, 11.433102617597203, 1.3743698013412453, 4.122621549592995, 6.6784956754671585, 12.092551619523082, 12.532271899243344, 2.226236930793832, 5.194348818905693, 8.931971196528087, 11.487845322402205, 12.31232084687776, 16.352250916807836, 3.210498023875407, 3.8756887916568585, 4.338430195330916, 7.841390154589744, 10.544200071945092, 11.002712468639318, 11.943869493432707, 0.6942240560049573, 1.24372947286788, 3.383908464860287, 6.160356886904568, 8.502985243004456, 11.192669651859863, 11.424040353696848, 3.094758853921345, 3.2104442048399005, 3.7599496217028285, 4.772196442239789, 7.34619550017665, 9.023633088495071, 10.12264392222093, 10.469699974976477, 10.90352004092093, 12.0314522123764, 1.4462270211117882, 4.338360794074578, 7.028045202929981, 12.725548735666681, 13.188290139340747, 2.342670186600259, 5.466174661400126, 9.39947659262951, 12.089161001484873, 12.95680113337371, 17.20823777962898]\n"
     ]
    }
   ],
   "source": [
    "print(pred_phb_syn_rates)"
   ]
  },
  {
   "cell_type": "code",
   "execution_count": 44,
   "id": "fbf027fa-82ed-42ba-a724-192bdd348e9f",
   "metadata": {},
   "outputs": [],
   "source": [
    "o2_exp_vs_pred = exp_sucrose_rates.reset_index().copy()\n",
    "o2_exp_vs_pred = pd.concat([o2_exp_vs_pred, o2_exp_vs_pred]).reset_index(drop = True)\n",
    "o2_exp_vs_pred['PHB_syn'] = pred_phb_syn_rates\n",
    "o2_exp_vs_pred['Pathway'] = pred_pathways"
   ]
  },
  {
   "cell_type": "code",
   "execution_count": 45,
   "id": "022a6d35-fa8e-4a59-b26a-5c601849d1c0",
   "metadata": {},
   "outputs": [
    {
     "name": "stdout",
     "output_type": "stream",
     "text": [
      "    O2_conc  Sucrose_uptake_gcdw  Growth_rate_exp    PHB_syn  Pathway\n",
      "0        12                 2.01            0.060   3.050888  partial\n",
      "1        12                 2.24            0.085   3.682986  partial\n",
      "2        12                 2.40            0.120   4.122707  partial\n",
      "3        12                 3.79            0.180   7.518552  partial\n",
      "4        12                 4.91            0.260   9.972122  partial\n",
      "..      ...                  ...              ...        ...      ...\n",
      "65      192                 9.89            0.070   5.466175     full\n",
      "66      192                11.25            0.100   9.399477     full\n",
      "67      192                12.18            0.160  12.089161     full\n",
      "68      192                12.48            0.170  12.956801     full\n",
      "69      192                13.95            0.210  17.208238     full\n",
      "\n",
      "[70 rows x 5 columns]\n"
     ]
    }
   ],
   "source": [
    "print(o2_exp_vs_pred)"
   ]
  },
  {
   "cell_type": "code",
   "execution_count": null,
   "id": "1f8fd6a9-eb8c-4152-9942-0badc1b36236",
   "metadata": {},
   "outputs": [],
   "source": []
  },
  {
   "cell_type": "code",
   "execution_count": 67,
   "id": "c909de65-cd14-41fd-8db3-d68d9caa0397",
   "metadata": {},
   "outputs": [
    {
     "data": {
      "image/png": "[encoded data removed]",
      "text/plain": [
       "<Figure size 576x360 with 1 Axes>"
      ]
     },
     "metadata": {
      "needs_background": "light"
     },
     "output_type": "display_data"
    }
   ],
   "source": [
    "\n",
    "#o2_exp_vs_pred.drop(o2_exp_vs_pred[o2_exp_vs_pred['Pathway'] == \"full\"].index, inplace=True)\n",
    "plt.figure(figsize=(8,5))\n",
    "sns.scatterplot(\n",
    "    data=o2_exp_vs_pred,\n",
    "    x='Growth_rate_exp', y='PHB_syn',\n",
    "    hue='O2_conc',\n",
    "    style='Pathway',\n",
    "    markers=True,\n",
    "    palette = sns.color_palette('hls',5)\n",
    ")\n",
    "\n",
    "#grid = sns.lmplot(data=o2_exp_vs_pred, x = 'Growth_rate_exp', y = 'PHB_syn',\n",
    "#                  hue = 'O2_conc', palette = sns.color_palette(\"tab10\"), facet_kws = { 'xlim': xbounds, 'sharey': 'none', 'sharex': True })\n",
    "plt.xlabel('Experimental growth rates')\n",
    "plt.ylabel('Predicted PHB flux')\n",
    "plt.savefig('predicted_phb_flux_o2.png')"
   ]
  },
  {
   "cell_type": "markdown",
   "id": "2cd97b68-587a-4c50-8987-cf61be93640a",
   "metadata": {},
   "source": [
    "### Mess around with COMETS"
   ]
  },
  {
   "cell_type": "code",
   "execution_count": 102,
   "id": "c3cd38bd-9c0f-45c2-99f6-18d223be485d",
   "metadata": {
    "tags": []
   },
   "outputs": [],
   "source": [
    "#Run comets?\n",
    "\n",
    "\n",
    "def set_parameters(params, vmax = 3, km = 0.008):\n",
    "    params.set_param('defaultKm', km)\n",
    "    params.set_param('defaultVmax', vmax)\n",
    "\n",
    "    params.set_param(\"maxSpaceBiomass\", 10000)\n",
    "    params.set_param('numRunThreads', 1)\n",
    "    params.set_param('timeStep', 0.3333333333333333) #in hrs  \n",
    "    #convert to a min =. 0.01666666667, 1/3 is 20 min\n",
    "    params.set_param('spaceWidth',0.5848)\n",
    "    # in cm - 200ul in .2 cm cubed. third root of .2 - take the 200ul / third root of that express in cm\n",
    "    params.set_param('maxCycles', 380)\n",
    "    params.set_param('numRunThreads', 1)\n",
    "    params.set_param('writeMediaLog', True)\n",
    "    params.set_param('MediaLogRate', 1)\n",
    "    #params.set_param('deathRate', 0.01)\\\n",
    "    params.set_param('writeFluxLog', True)\n",
    "    params.set_param('FluxLogRate', 1)\n",
    "    \n",
    "    return params\n",
    "\n",
    "def set_metabolites(metab_list, test_tube):\n",
    "\n",
    "    test_tube.set_specific_metabolite('pi_e', 10)\n",
    "    test_tube.set_specific_metabolite('h_e', 10)\n",
    "    test_tube.set_specific_metabolite('fe3_e', 10)\n",
    "    test_tube.set_specific_metabolite('mn2_e', 10)\n",
    "    test_tube.set_specific_metabolite('fe2_e', 10)\n",
    "    #test_tube.set_specific_metabolite('glc__D_e', .1)\n",
    "    test_tube.set_specific_metabolite('zn2_e', 10)\n",
    "    test_tube.set_specific_metabolite('mg2_e', 10)\n",
    "    test_tube.set_specific_metabolite('ca2_e', 10)\n",
    "    test_tube.set_specific_metabolite('ni2_e', 10)\n",
    "    test_tube.set_specific_metabolite('cu2_e', 10)\n",
    "    test_tube.set_specific_metabolite('cobalt2_e', 10)\n",
    "    test_tube.set_specific_metabolite('h2o_e', 10)\n",
    "    test_tube.set_specific_metabolite('mobd_e', 10)\n",
    "    test_tube.set_specific_metabolite('so4_e', 10)\n",
    "    test_tube.set_specific_metabolite('k_e', 10)\n",
    "    test_tube.set_specific_metabolite('o2_e', 10)\n",
    "    test_tube.set_specific_metabolite('cl_e', 10)\n",
    "    test_tube.set_specific_metabolite('n2_e', 10)\n",
    "    #test_tube.set_specific_metabolite('sucr_e', .1)\n",
    "    #test_tube.set_specific_metabolite('nh4_e',10)\n",
    "    #test_tube.set_specific_metabolite('glyc_e', .1)\n",
    "    \n",
    "    return test_tube\n",
    "\n",
    "def setup(cobra_model):\n",
    "    #Load models\n",
    "    comets_model = c.model(cobra_model)\n",
    "\n",
    "    #Open exchanges\n",
    "    comets_model.open_exchanges()\n",
    "    #Open bounds for carbon sources:\n",
    "    #comets_model.change_vmax('EX_glyc_e', 0.1)\n",
    "    #comets_model.change_vmax('EX_glc__D_e', 0.1)\n",
    "    #comets_model.change_vmax('EX_sucr_e', 0.1)\n",
    "\n",
    "    #Set initial population\n",
    "    init_population =[]\n",
    "    init_population.append([0,0,5e-6])\n",
    "    \n",
    "    comets_model.initial_pop = init_population\n",
    "    \n",
    "    return comets_model\n",
    "\n",
    "def get_metab_vals_sim(BIGG_name, media):\n",
    "    #Returns list of metabolites concentrations per media cycle.\n",
    "    metabolites = media.loc[BIGG_name].values\n",
    "    return metabolites"
   ]
  },
  {
   "cell_type": "code",
   "execution_count": 103,
   "id": "5cadf783-6823-482c-8b44-d21f6ded316f",
   "metadata": {
    "tags": []
   },
   "outputs": [
    {
     "name": "stdout",
     "output_type": "stream",
     "text": [
      "building empty layout model\n",
      "models will need to be added with layout.add_model()\n",
      "\n",
      "Running COMETS simulation ...\n",
      "Done!\n",
      "building empty layout model\n",
      "models will need to be added with layout.add_model()\n",
      "\n",
      "Running COMETS simulation ...\n",
      "Done!\n",
      "building empty layout model\n",
      "models will need to be added with layout.add_model()\n",
      "\n",
      "Running COMETS simulation ...\n",
      "Done!\n"
     ]
    }
   ],
   "source": [
    "fluxes = []\n",
    "growth = []\n",
    "\n",
    "mets = ['glc__D_e', 'glyc_e', 'sucr_e']\n",
    "#Change one metabolite at a time\n",
    "for met in mets:\n",
    "    test_tube = c.layout()\n",
    "    test_tube.grid = [1,1]\n",
    "\n",
    "    comets_model = setup(model)\n",
    "\n",
    "    test_tube.add_model(comets_model)\n",
    "\n",
    "    metab_list = list(model.metabolites)\n",
    "\n",
    "    test_tube = set_metabolites(metab_list, test_tube)\n",
    "\n",
    "    test_tube.set_specific_metabolite(met, .1)\n",
    "\n",
    "    params = c.params()\n",
    "\n",
    "    params = set_parameters(params)\n",
    "\n",
    "    #Run initial simulation\n",
    "    simulation = c.comets(test_tube, params)\n",
    "    simulation.run(False)\n",
    "    \n",
    "    fluxes_sim = []\n",
    "    for i in np.arange(1, 381):\n",
    "        fluxes_sim.append(simulation.get_flux_image(\"iAA1300\",\"PHBS_syn\",i))\n",
    "    \n",
    "    flat = [x.item() for x in fluxes_sim]\n",
    "    flat.append(flat[-1])\n",
    "    fluxes.append(flat)\n",
    "    \n",
    "    col_name = simulation.total_biomass.columns[1]\n",
    "    simulation_growth = (simulation.total_biomass[col_name])\n",
    "    growth.append(simulation_growth)"
   ]
  },
  {
   "cell_type": "code",
   "execution_count": 95,
   "id": "d26d0732-7f66-4f29-8504-b206fcc3ea27",
   "metadata": {
    "tags": []
   },
   "outputs": [],
   "source": [
    "media = simulation.media\n",
    "media = media.drop(['x','y'],axis=1)\n",
    "media = media.pivot(index='metabolite', columns='cycle', values='conc_mmol')\n",
    "media = media.fillna(0)"
   ]
  },
  {
   "cell_type": "code",
   "execution_count": 138,
   "id": "ba238c6e-cf5d-4e05-b56f-de665ceed313",
   "metadata": {
    "tags": []
   },
   "outputs": [
    {
     "data": {
      "text/plain": [
       "<Figure size 1440x360 with 0 Axes>"
      ]
     },
     "metadata": {},
     "output_type": "display_data"
    },
    {
     "data": {
      "image/png": "[encoded data removed]",
      "text/plain": [
       "<Figure size 432x288 with 2 Axes>"
      ]
     },
     "metadata": {
      "needs_background": "light"
     },
     "output_type": "display_data"
    }
   ],
   "source": [
    "plt.figure(figsize=(20,5))\n",
    "\n",
    "simulation_time = (simulation.total_biomass[\"cycle\"]*20).tolist()\n",
    "\n",
    "fig, ax = plt.subplots()\n",
    "\n",
    "colors=['c','m','y']\n",
    "colors_alt=['paleturquoise', 'violet','wheat']\n",
    "\n",
    "lines = []\n",
    "\n",
    "for i, met in enumerate(mets):\n",
    "    line, = ax.plot(simulation_time, growth[i], label=f\"Growth on {met}\", color=colors[i])\n",
    "    lines.append(line)\n",
    "\n",
    "ax.set_xlabel('Time [min]')\n",
    "ax.set_ylabel('Biomass [gDW]')\n",
    "\n",
    "ax2 = ax.twinx()\n",
    "\n",
    "for i, met in enumerate(mets):\n",
    "    line, = ax2.plot(simulation_time, fluxes[i], label=f\"PHB flux on {met}\", color=colors_alt[i])\n",
    "    lines.append(line)\n",
    "\n",
    "ax2.set_ylabel('PHB fluxes')\n",
    "\n",
    "labels = [line.get_label() for line in lines]\n",
    "\n",
    "ax.legend(lines, labels, loc='upper left', bbox_to_anchor=(1.1, 1))\n",
    "\n",
    "plt.title(\"Predicted Biomass and PHB Flux Rates for Different Carbon Sources\")\n",
    "\n",
    "fig.subplots_adjust(right=0.9)\n",
    "plt.savefig('flux_dynamics.png',bbox_inches='tight')\n",
    "\n"
   ]
  },
  {
   "cell_type": "code",
   "execution_count": null,
   "id": "921cf9da-3ebe-46bb-89d9-8673519164db",
   "metadata": {},
   "outputs": [],
   "source": []
  }
 ],
 "metadata": {
  "colab": {
   "provenance": []
  },
  "kernelspec": {
   "display_name": "Python 3 (ipykernel)",
   "language": "python",
   "name": "python3"
  },
  "language_info": {
   "codemirror_mode": {
    "name": "ipython",
    "version": 3
   },
   "file_extension": ".py",
   "mimetype": "text/x-python",
   "name": "python",
   "nbconvert_exporter": "python",
   "pygments_lexer": "ipython3",
   "version": "3.9.9"
  }
 },
 "nbformat": 4,
 "nbformat_minor": 5
}
